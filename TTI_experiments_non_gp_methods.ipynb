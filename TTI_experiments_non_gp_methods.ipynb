{
  "nbformat": 4,
  "nbformat_minor": 0,
  "metadata": {
    "kernelspec": {
      "display_name": "Python 3",
      "language": "python",
      "name": "python3"
    },
    "language_info": {
      "codemirror_mode": {
        "name": "ipython",
        "version": 3
      },
      "file_extension": ".py",
      "mimetype": "text/x-python",
      "name": "python",
      "nbconvert_exporter": "python",
      "pygments_lexer": "ipython3",
      "version": "3.6.5"
    },
    "colab": {
      "name": "TTI-experiments-non-gp-methods.ipynb",
      "provenance": [],
      "collapsed_sections": [],
      "machine_shape": "hm"
    },
    "accelerator": "GPU",
    "widgets": {
      "application/vnd.jupyter.widget-state+json": {
        "53ec8fc1752f4c79a9e3794eb8c4ee4f": {
          "model_module": "@jupyter-widgets/controls",
          "model_name": "HBoxModel",
          "state": {
            "_view_name": "HBoxView",
            "_dom_classes": [],
            "_model_name": "HBoxModel",
            "_view_module": "@jupyter-widgets/controls",
            "_model_module_version": "1.5.0",
            "_view_count": null,
            "_view_module_version": "1.5.0",
            "box_style": "",
            "layout": "IPY_MODEL_703942f87e784891941e2554e2c3dc60",
            "_model_module": "@jupyter-widgets/controls",
            "children": [
              "IPY_MODEL_4e91ab1884a34ab98f5ab69d7cf62aec",
              "IPY_MODEL_6315a80c7aaa46e286a914fd9362aa71"
            ]
          }
        },
        "703942f87e784891941e2554e2c3dc60": {
          "model_module": "@jupyter-widgets/base",
          "model_name": "LayoutModel",
          "state": {
            "_view_name": "LayoutView",
            "grid_template_rows": null,
            "right": null,
            "justify_content": null,
            "_view_module": "@jupyter-widgets/base",
            "overflow": null,
            "_model_module_version": "1.2.0",
            "_view_count": null,
            "flex_flow": null,
            "width": null,
            "min_width": null,
            "border": null,
            "align_items": null,
            "bottom": null,
            "_model_module": "@jupyter-widgets/base",
            "top": null,
            "grid_column": null,
            "overflow_y": null,
            "overflow_x": null,
            "grid_auto_flow": null,
            "grid_area": null,
            "grid_template_columns": null,
            "flex": null,
            "_model_name": "LayoutModel",
            "justify_items": null,
            "grid_row": null,
            "max_height": null,
            "align_content": null,
            "visibility": null,
            "align_self": null,
            "height": null,
            "min_height": null,
            "padding": null,
            "grid_auto_rows": null,
            "grid_gap": null,
            "max_width": null,
            "order": null,
            "_view_module_version": "1.2.0",
            "grid_template_areas": null,
            "object_position": null,
            "object_fit": null,
            "grid_auto_columns": null,
            "margin": null,
            "display": null,
            "left": null
          }
        },
        "4e91ab1884a34ab98f5ab69d7cf62aec": {
          "model_module": "@jupyter-widgets/controls",
          "model_name": "FloatProgressModel",
          "state": {
            "_view_name": "ProgressView",
            "style": "IPY_MODEL_706bfbcb0ed843aba9dfe71258a72cba",
            "_dom_classes": [],
            "description": "100%",
            "_model_name": "FloatProgressModel",
            "bar_style": "success",
            "max": 11,
            "_view_module": "@jupyter-widgets/controls",
            "_model_module_version": "1.5.0",
            "value": 11,
            "_view_count": null,
            "_view_module_version": "1.5.0",
            "orientation": "horizontal",
            "min": 0,
            "description_tooltip": null,
            "_model_module": "@jupyter-widgets/controls",
            "layout": "IPY_MODEL_cdb4d102de314e1a9d4bfbf0a830ea08"
          }
        },
        "6315a80c7aaa46e286a914fd9362aa71": {
          "model_module": "@jupyter-widgets/controls",
          "model_name": "HTMLModel",
          "state": {
            "_view_name": "HTMLView",
            "style": "IPY_MODEL_ca2b0342912b417c91a00e91eda7b984",
            "_dom_classes": [],
            "description": "",
            "_model_name": "HTMLModel",
            "placeholder": "​",
            "_view_module": "@jupyter-widgets/controls",
            "_model_module_version": "1.5.0",
            "value": " 11/11 [03:40&lt;00:00, 20.07s/it]",
            "_view_count": null,
            "_view_module_version": "1.5.0",
            "description_tooltip": null,
            "_model_module": "@jupyter-widgets/controls",
            "layout": "IPY_MODEL_716ae872794f4ed7b0cf3c2ff6cdabb9"
          }
        },
        "706bfbcb0ed843aba9dfe71258a72cba": {
          "model_module": "@jupyter-widgets/controls",
          "model_name": "ProgressStyleModel",
          "state": {
            "_view_name": "StyleView",
            "_model_name": "ProgressStyleModel",
            "description_width": "initial",
            "_view_module": "@jupyter-widgets/base",
            "_model_module_version": "1.5.0",
            "_view_count": null,
            "_view_module_version": "1.2.0",
            "bar_color": null,
            "_model_module": "@jupyter-widgets/controls"
          }
        },
        "cdb4d102de314e1a9d4bfbf0a830ea08": {
          "model_module": "@jupyter-widgets/base",
          "model_name": "LayoutModel",
          "state": {
            "_view_name": "LayoutView",
            "grid_template_rows": null,
            "right": null,
            "justify_content": null,
            "_view_module": "@jupyter-widgets/base",
            "overflow": null,
            "_model_module_version": "1.2.0",
            "_view_count": null,
            "flex_flow": null,
            "width": null,
            "min_width": null,
            "border": null,
            "align_items": null,
            "bottom": null,
            "_model_module": "@jupyter-widgets/base",
            "top": null,
            "grid_column": null,
            "overflow_y": null,
            "overflow_x": null,
            "grid_auto_flow": null,
            "grid_area": null,
            "grid_template_columns": null,
            "flex": null,
            "_model_name": "LayoutModel",
            "justify_items": null,
            "grid_row": null,
            "max_height": null,
            "align_content": null,
            "visibility": null,
            "align_self": null,
            "height": null,
            "min_height": null,
            "padding": null,
            "grid_auto_rows": null,
            "grid_gap": null,
            "max_width": null,
            "order": null,
            "_view_module_version": "1.2.0",
            "grid_template_areas": null,
            "object_position": null,
            "object_fit": null,
            "grid_auto_columns": null,
            "margin": null,
            "display": null,
            "left": null
          }
        },
        "ca2b0342912b417c91a00e91eda7b984": {
          "model_module": "@jupyter-widgets/controls",
          "model_name": "DescriptionStyleModel",
          "state": {
            "_view_name": "StyleView",
            "_model_name": "DescriptionStyleModel",
            "description_width": "",
            "_view_module": "@jupyter-widgets/base",
            "_model_module_version": "1.5.0",
            "_view_count": null,
            "_view_module_version": "1.2.0",
            "_model_module": "@jupyter-widgets/controls"
          }
        },
        "716ae872794f4ed7b0cf3c2ff6cdabb9": {
          "model_module": "@jupyter-widgets/base",
          "model_name": "LayoutModel",
          "state": {
            "_view_name": "LayoutView",
            "grid_template_rows": null,
            "right": null,
            "justify_content": null,
            "_view_module": "@jupyter-widgets/base",
            "overflow": null,
            "_model_module_version": "1.2.0",
            "_view_count": null,
            "flex_flow": null,
            "width": null,
            "min_width": null,
            "border": null,
            "align_items": null,
            "bottom": null,
            "_model_module": "@jupyter-widgets/base",
            "top": null,
            "grid_column": null,
            "overflow_y": null,
            "overflow_x": null,
            "grid_auto_flow": null,
            "grid_area": null,
            "grid_template_columns": null,
            "flex": null,
            "_model_name": "LayoutModel",
            "justify_items": null,
            "grid_row": null,
            "max_height": null,
            "align_content": null,
            "visibility": null,
            "align_self": null,
            "height": null,
            "min_height": null,
            "padding": null,
            "grid_auto_rows": null,
            "grid_gap": null,
            "max_width": null,
            "order": null,
            "_view_module_version": "1.2.0",
            "grid_template_areas": null,
            "object_position": null,
            "object_fit": null,
            "grid_auto_columns": null,
            "margin": null,
            "display": null,
            "left": null
          }
        },
        "87eb9b63d350437d8f0280ae764a30c3": {
          "model_module": "@jupyter-widgets/controls",
          "model_name": "HBoxModel",
          "state": {
            "_view_name": "HBoxView",
            "_dom_classes": [],
            "_model_name": "HBoxModel",
            "_view_module": "@jupyter-widgets/controls",
            "_model_module_version": "1.5.0",
            "_view_count": null,
            "_view_module_version": "1.5.0",
            "box_style": "",
            "layout": "IPY_MODEL_325c711453e84f989cfd02419771d9df",
            "_model_module": "@jupyter-widgets/controls",
            "children": [
              "IPY_MODEL_ebfa18b6f7f44140a2936e30201fe59b",
              "IPY_MODEL_c0d9960ea7434525b5802ba3b34a5e63"
            ]
          }
        },
        "325c711453e84f989cfd02419771d9df": {
          "model_module": "@jupyter-widgets/base",
          "model_name": "LayoutModel",
          "state": {
            "_view_name": "LayoutView",
            "grid_template_rows": null,
            "right": null,
            "justify_content": null,
            "_view_module": "@jupyter-widgets/base",
            "overflow": null,
            "_model_module_version": "1.2.0",
            "_view_count": null,
            "flex_flow": null,
            "width": null,
            "min_width": null,
            "border": null,
            "align_items": null,
            "bottom": null,
            "_model_module": "@jupyter-widgets/base",
            "top": null,
            "grid_column": null,
            "overflow_y": null,
            "overflow_x": null,
            "grid_auto_flow": null,
            "grid_area": null,
            "grid_template_columns": null,
            "flex": null,
            "_model_name": "LayoutModel",
            "justify_items": null,
            "grid_row": null,
            "max_height": null,
            "align_content": null,
            "visibility": null,
            "align_self": null,
            "height": null,
            "min_height": null,
            "padding": null,
            "grid_auto_rows": null,
            "grid_gap": null,
            "max_width": null,
            "order": null,
            "_view_module_version": "1.2.0",
            "grid_template_areas": null,
            "object_position": null,
            "object_fit": null,
            "grid_auto_columns": null,
            "margin": null,
            "display": null,
            "left": null
          }
        },
        "ebfa18b6f7f44140a2936e30201fe59b": {
          "model_module": "@jupyter-widgets/controls",
          "model_name": "FloatProgressModel",
          "state": {
            "_view_name": "ProgressView",
            "style": "IPY_MODEL_7ff197d64afc4e1d9a8a7a57316c3d49",
            "_dom_classes": [],
            "description": "100%",
            "_model_name": "FloatProgressModel",
            "bar_style": "success",
            "max": 21,
            "_view_module": "@jupyter-widgets/controls",
            "_model_module_version": "1.5.0",
            "value": 21,
            "_view_count": null,
            "_view_module_version": "1.5.0",
            "orientation": "horizontal",
            "min": 0,
            "description_tooltip": null,
            "_model_module": "@jupyter-widgets/controls",
            "layout": "IPY_MODEL_bc732d0933fa4841bb5d64f70b42e6e5"
          }
        },
        "c0d9960ea7434525b5802ba3b34a5e63": {
          "model_module": "@jupyter-widgets/controls",
          "model_name": "HTMLModel",
          "state": {
            "_view_name": "HTMLView",
            "style": "IPY_MODEL_6b9375e3077f4d909f51580207dd80a4",
            "_dom_classes": [],
            "description": "",
            "_model_name": "HTMLModel",
            "placeholder": "​",
            "_view_module": "@jupyter-widgets/controls",
            "_model_module_version": "1.5.0",
            "value": " 21/21 [32:43&lt;00:00, 93.49s/it]",
            "_view_count": null,
            "_view_module_version": "1.5.0",
            "description_tooltip": null,
            "_model_module": "@jupyter-widgets/controls",
            "layout": "IPY_MODEL_dcf8294bf81144fd859b5333096ef7a2"
          }
        },
        "7ff197d64afc4e1d9a8a7a57316c3d49": {
          "model_module": "@jupyter-widgets/controls",
          "model_name": "ProgressStyleModel",
          "state": {
            "_view_name": "StyleView",
            "_model_name": "ProgressStyleModel",
            "description_width": "initial",
            "_view_module": "@jupyter-widgets/base",
            "_model_module_version": "1.5.0",
            "_view_count": null,
            "_view_module_version": "1.2.0",
            "bar_color": null,
            "_model_module": "@jupyter-widgets/controls"
          }
        },
        "bc732d0933fa4841bb5d64f70b42e6e5": {
          "model_module": "@jupyter-widgets/base",
          "model_name": "LayoutModel",
          "state": {
            "_view_name": "LayoutView",
            "grid_template_rows": null,
            "right": null,
            "justify_content": null,
            "_view_module": "@jupyter-widgets/base",
            "overflow": null,
            "_model_module_version": "1.2.0",
            "_view_count": null,
            "flex_flow": null,
            "width": null,
            "min_width": null,
            "border": null,
            "align_items": null,
            "bottom": null,
            "_model_module": "@jupyter-widgets/base",
            "top": null,
            "grid_column": null,
            "overflow_y": null,
            "overflow_x": null,
            "grid_auto_flow": null,
            "grid_area": null,
            "grid_template_columns": null,
            "flex": null,
            "_model_name": "LayoutModel",
            "justify_items": null,
            "grid_row": null,
            "max_height": null,
            "align_content": null,
            "visibility": null,
            "align_self": null,
            "height": null,
            "min_height": null,
            "padding": null,
            "grid_auto_rows": null,
            "grid_gap": null,
            "max_width": null,
            "order": null,
            "_view_module_version": "1.2.0",
            "grid_template_areas": null,
            "object_position": null,
            "object_fit": null,
            "grid_auto_columns": null,
            "margin": null,
            "display": null,
            "left": null
          }
        },
        "6b9375e3077f4d909f51580207dd80a4": {
          "model_module": "@jupyter-widgets/controls",
          "model_name": "DescriptionStyleModel",
          "state": {
            "_view_name": "StyleView",
            "_model_name": "DescriptionStyleModel",
            "description_width": "",
            "_view_module": "@jupyter-widgets/base",
            "_model_module_version": "1.5.0",
            "_view_count": null,
            "_view_module_version": "1.2.0",
            "_model_module": "@jupyter-widgets/controls"
          }
        },
        "dcf8294bf81144fd859b5333096ef7a2": {
          "model_module": "@jupyter-widgets/base",
          "model_name": "LayoutModel",
          "state": {
            "_view_name": "LayoutView",
            "grid_template_rows": null,
            "right": null,
            "justify_content": null,
            "_view_module": "@jupyter-widgets/base",
            "overflow": null,
            "_model_module_version": "1.2.0",
            "_view_count": null,
            "flex_flow": null,
            "width": null,
            "min_width": null,
            "border": null,
            "align_items": null,
            "bottom": null,
            "_model_module": "@jupyter-widgets/base",
            "top": null,
            "grid_column": null,
            "overflow_y": null,
            "overflow_x": null,
            "grid_auto_flow": null,
            "grid_area": null,
            "grid_template_columns": null,
            "flex": null,
            "_model_name": "LayoutModel",
            "justify_items": null,
            "grid_row": null,
            "max_height": null,
            "align_content": null,
            "visibility": null,
            "align_self": null,
            "height": null,
            "min_height": null,
            "padding": null,
            "grid_auto_rows": null,
            "grid_gap": null,
            "max_width": null,
            "order": null,
            "_view_module_version": "1.2.0",
            "grid_template_areas": null,
            "object_position": null,
            "object_fit": null,
            "grid_auto_columns": null,
            "margin": null,
            "display": null,
            "left": null
          }
        }
      }
    }
  },
  "cells": [
    {
      "cell_type": "markdown",
      "metadata": {
        "id": "lkWq4rfC-iJY"
      },
      "source": [
        "# Simulating Contact Tracing in Pandemic\n",
        "#### **Non-Gaussian Process Based Experimentations**\n",
        "\n",
        "This notebook contains sensitivity analysis experiments using non-Gaussian-process based approaches for understanding the effect of variables to COVID-19 spread rate in the UK."
      ]
    },
    {
      "cell_type": "code",
      "metadata": {
        "id": "Gueu2F7t-iJa",
        "colab": {
          "base_uri": "https://localhost:8080/"
        },
        "outputId": "4e7beac3-e6bb-4088-f527-d79f3087b9ea"
      },
      "source": [
        "!git clone https://github.com/rs-delve/tti-explorer.git\n",
        "%cd tti-explorer\n",
        "%pip install -q ."
      ],
      "execution_count": null,
      "outputs": [
        {
          "output_type": "stream",
          "text": [
            "Cloning into 'tti-explorer'...\n",
            "remote: Enumerating objects: 554, done.\u001b[K\n",
            "remote: Counting objects: 100% (554/554), done.\u001b[K\n",
            "remote: Compressing objects: 100% (261/261), done.\u001b[K\n",
            "remote: Total 2667 (delta 396), reused 405 (delta 277), pack-reused 2113\u001b[K\n",
            "Receiving objects: 100% (2667/2667), 31.55 MiB | 15.51 MiB/s, done.\n",
            "Resolving deltas: 100% (1909/1909), done.\n",
            "/content/tti-explorer\n",
            "  Building wheel for tti-explorer (setup.py) ... \u001b[?25l\u001b[?25hdone\n"
          ],
          "name": "stdout"
        }
      ]
    },
    {
      "cell_type": "code",
      "metadata": {
        "id": "NpdHVFb8-iJg"
      },
      "source": [
        "import os\n",
        "import numpy as np\n",
        "import pandas as pd\n",
        "from tqdm.notebook import trange, tqdm\n",
        "from IPython.display import display, HTML\n",
        "from copy import deepcopy\n",
        "import random\n",
        "\n",
        "from tti_explorer import config, utils\n",
        "from tti_explorer.case import simulate_case, CaseFactors\n",
        "from tti_explorer.contacts import EmpiricalContactsSimulator\n",
        "from tti_explorer.strategies import TTIFlowModel, RETURN_KEYS"
      ],
      "execution_count": null,
      "outputs": []
    },
    {
      "cell_type": "markdown",
      "metadata": {
        "id": "K-xYu9vWBPai"
      },
      "source": [
        "## Utilities\n",
        "\n",
        "This section contains utility functions for experimentations."
      ]
    },
    {
      "cell_type": "code",
      "metadata": {
        "id": "Urj9DevH-iJm"
      },
      "source": [
        "def print_doc(func):\n",
        "    print(func.__doc__)"
      ],
      "execution_count": null,
      "outputs": []
    },
    {
      "cell_type": "code",
      "metadata": {
        "id": "EwLuHzoR-iKv"
      },
      "source": [
        "def load_csv(pth):\n",
        "    return np.loadtxt(pth, dtype=int, skiprows=1, delimiter=\",\")"
      ],
      "execution_count": null,
      "outputs": []
    },
    {
      "cell_type": "code",
      "metadata": {
        "id": "fk-L4-p4-iKz"
      },
      "source": [
        "def do_simulation(policy_name, case_config, contacts_config, n_cases, random_state=None):\n",
        "    # Prepare simulation configuration\n",
        "    case_config = case_config\n",
        "    contacts_config = contacts_config\n",
        "    policy_config = config.get_strategy_configs(\"delve\", policy_name)[policy_name]\n",
        "    factor_config = utils.get_sub_dictionary(policy_config, config.DELVE_CASE_FACTOR_KEYS)\n",
        "    strategy_config = utils.get_sub_dictionary(policy_config, config.DELVE_STRATEGY_FACTOR_KEYS)\n",
        "\n",
        "    # Initialise configuration model\n",
        "    if random_state is None:\n",
        "        rng = np.random.RandomState(random.randint(0, 1000))\n",
        "    else:\n",
        "        rng = np.random.RandomState(random_state)\n",
        "\n",
        "    simulate_contacts = EmpiricalContactsSimulator(over18, under18, rng)\n",
        "    tti_model = TTIFlowModel(rng, **strategy_config)\n",
        "\n",
        "    # Aggregates all cases outputs\n",
        "    outputs = list()\n",
        "\n",
        "    # Perform simulation\n",
        "    for _ in range(n_cases):\n",
        "        case = simulate_case(rng, **case_config)\n",
        "        case_factors = CaseFactors.simulate_from(rng, case, **factor_config)\n",
        "        contacts = simulate_contacts(case, **contacts_config)\n",
        "        res = tti_model(case, contacts, case_factors)\n",
        "        outputs.append(res)\n",
        "    \n",
        "    return outputs"
      ],
      "execution_count": null,
      "outputs": []
    },
    {
      "cell_type": "code",
      "metadata": {
        "id": "pd4-EaB3-iMD"
      },
      "source": [
        "def summarise_simulation_results(outputs, policy_name, case_config):\n",
        "    to_show = [\n",
        "        RETURN_KEYS.base_r,\n",
        "        RETURN_KEYS.reduced_r,\n",
        "        RETURN_KEYS.man_trace,\n",
        "        RETURN_KEYS.app_trace,\n",
        "        RETURN_KEYS.tests\n",
        "    ]\n",
        "\n",
        "    # Scale factor to turn simulation numbers into UK population numbers\n",
        "    nppl = case_config['infection_proportions']['nppl']\n",
        "    scales = [1, 1, nppl, nppl, nppl]\n",
        "\n",
        "    results = pd.DataFrame(\n",
        "        outputs\n",
        "    ).mean(\n",
        "        0\n",
        "    ).loc[\n",
        "        to_show\n",
        "    ].mul(\n",
        "        scales\n",
        "    ).to_frame(\n",
        "        name=f\"Simulation results: {policy_name.replace('_', ' ')}\"\n",
        "    ).rename(\n",
        "        index=lambda x: x + \" (k per day)\" if x.startswith(\"#\") else x\n",
        "    )\n",
        "\n",
        "    display(results.round(1))"
      ],
      "execution_count": null,
      "outputs": []
    },
    {
      "cell_type": "markdown",
      "metadata": {
        "id": "gXhYPPQfFvs9"
      },
      "source": [
        "## Configuration\n",
        "\n",
        "This section contains configuration files that we will vary during experimentation.\n"
      ]
    },
    {
      "cell_type": "markdown",
      "metadata": {
        "id": "CFastdtypPc1"
      },
      "source": [
        "#### Case Config\n",
        "The following are configurations for each case:\n",
        "- ```p_under18``` (float): probability of the case being under 18.\n",
        "- ```infection_proportions``` (dict): probability of being *symp covid neg, symp covid pos, asymp covid pos*.\n",
        "- ```p_day_noticed_symptoms``` (np.array[float]): distribution of day on which case notices their symptoms. (In our model this is the same as reporting symptoms.)\n",
        "- ```inf_profile``` (list[float]): describe relative infectiousness of the case for each day of the infectious period. If covid=False, then the value is 0 throughout. We assume 10 days infectiousness following research paper regarding covid. "
      ]
    },
    {
      "cell_type": "code",
      "metadata": {
        "id": "aRXjLNzEmSu7"
      },
      "source": [
        "case_config = {\r\n",
        "    'p_under18': 0.21, \r\n",
        "    'infection_proportions': {\r\n",
        "        'dist': [0.8333333333333334, 0.1, 0.06666666666666667], \r\n",
        "        'nppl': 120\r\n",
        "        }, \r\n",
        "    'p_day_noticed_symptoms': [0, \r\n",
        "                               0.25, \r\n",
        "                               0.25, \r\n",
        "                               0.2, \r\n",
        "                               0.1, \r\n",
        "                               0.05, \r\n",
        "                               0.05, \r\n",
        "                               0.05, \r\n",
        "                               0.05, \r\n",
        "                               0.0], \r\n",
        "    'inf_profile': [0.046966101377360424, \r\n",
        "                    0.15602255610429985, \r\n",
        "                    0.19829974712514023, \r\n",
        "                    0.18356485224565827, \r\n",
        "                    0.14541407040442172, \r\n",
        "                    0.10500447388376151, \r\n",
        "                    0.07130993362939089, \r\n",
        "                    0.04635772205156416, \r\n",
        "                    0.029167894888682697, \r\n",
        "                    0.017892648289720214]\r\n",
        "    }"
      ],
      "execution_count": null,
      "outputs": []
    },
    {
      "cell_type": "markdown",
      "metadata": {
        "id": "N660kShIpVgD"
      },
      "source": [
        "#### Contact Config\n",
        "\n",
        "The following are configurations for each contact with a case:\n",
        "- ```home_sar``` (float): secondary attack rate for household contacts. These contacts are infected at random with attack rates given by the SARs and whether or not the case is symptomatic. If the case is COVID negative, then no contacts are infected.\n",
        "- ```work_sar``` (float): secondary attack rate for contacts in the work category.\n",
        "- ```other_sar``` (float): secondary attack rate for contacts in the other category.\n",
        "- ```asymp_factor``` (float): factor by which to multiply the probability of secondary infection if case is asymptomatic COVID positive (more dangerous).\n",
        "- ```period``` (int): duration of the simulation (days)."
      ]
    },
    {
      "cell_type": "code",
      "metadata": {
        "id": "dL3ipo70pXil"
      },
      "source": [
        "contacts_config = {\r\n",
        "   'home_sar': 0.3, \r\n",
        "   'work_sar': 0.045, \r\n",
        "   'other_sar': 0.045, \r\n",
        "   'period': 10, \r\n",
        "   'asymp_factor': 0.5\r\n",
        "   }"
      ],
      "execution_count": null,
      "outputs": []
    },
    {
      "cell_type": "markdown",
      "metadata": {
        "id": "VGFmVI50yKSn"
      },
      "source": [
        "#### CaseFactors Config\n",
        "\n",
        "The following are configurations for the factors:\n",
        "- ```app_cov``` (float): coverage of people using the app.\n",
        "- ```compliance``` (float): probability of a traced contact isolating correctly.\n",
        "- ```go_to_school_prob``` (float): fraction of school children attending school.\n",
        "- ```wfh_prob``` (float): proportion of the population working from home."
      ]
    },
    {
      "cell_type": "code",
      "metadata": {
        "id": "RMeEnQbiyL5Q"
      },
      "source": [
        "factor_config = {\r\n",
        "    'app_cov': 0.35, \r\n",
        "    'compliance': 0.8, \r\n",
        "    'go_to_school_prob': 0.5, \r\n",
        "    'wfh_prob': 0.45\r\n",
        "    }"
      ],
      "execution_count": null,
      "outputs": []
    },
    {
      "cell_type": "markdown",
      "metadata": {
        "id": "wuL-FvY7pbHP"
      },
      "source": [
        "#### Policy Config"
      ]
    },
    {
      "cell_type": "code",
      "metadata": {
        "id": "k8HAZ3dEpdZI"
      },
      "source": [
        "policy_config = {\r\n",
        "    isolate_individual_on_symptoms=True,  # Isolate the individual after they present with symptoms\r\n",
        "    isolate_individual_on_positive=True,  # Isolate the individual after they test positive\r\n",
        "    isolate_household_on_symptoms=False,  # Isolate the household after individual present with symptoms\r\n",
        "    isolate_household_on_positive=True,  # Isolate the household after individual test positive\r\n",
        "    isolate_contacts_on_symptoms=False,  # Isolate the contacts after individual present with symptoms\r\n",
        "    isolate_contacts_on_positive=True,  # Isolate the contacts after individual test positive\r\n",
        "    test_contacts_on_positive=False,  # Do we test contacts of a positive case immediately, or wait for them to develop symptoms\r\n",
        "    do_symptom_testing=True,  # Test symptomatic individuals\r\n",
        "    do_manual_tracing=True,  # Perform manual tracing of contacts\r\n",
        "    do_app_tracing=True,  # Perform app tracing of contacts\r\n",
        "    fractional_infections=True,  # Include infected but traced individuals as a fraction of their infection period not isolated\r\n",
        "    testing_delay=2,  # Days delay between test and results\r\n",
        "    app_trace_delay=0,  # Delay associated with tracing through the app\r\n",
        "    manual_trace_delay=1,  # Delay associated with tracing manually\r\n",
        "    manual_home_trace_prob=1.0,  # Probability of manually tracing a home contact\r\n",
        "    manual_work_trace_prob=1.0,  # Probability of manually tracing a work contact\r\n",
        "    manual_othr_trace_prob=1.0,  # Probability of manually tracing an other contact\r\n",
        "    met_before_w=1.0,  # Probability of having met a work contact before to be able to manually trace\r\n",
        "    met_before_s=1.0,  # Probability of having met a school contact before to be able to manually trace\r\n",
        "    met_before_o=1.0,  # Probability of having met a other contact before to be able to manually trace\r\n",
        "    max_contacts=2e3,  # Place a limit on the number of other contacts per day\r\n",
        "    quarantine_length=14,  # Length of quarantine imposed on COVID cases (and household)\r\n",
        "    latent_period=3,  # Length of a cases incubation period (from infection to start of infectious period)\r\n",
        "    # Parameters for CaseFactors simulation\r\n",
        "    app_cov=0.35,\r\n",
        "    compliance=0.8,  # Probability of a traced contact isolating correctly\r\n",
        "    go_to_school_prob=1.0,  # Fraction of school children attending school\r\n",
        "    wfh_prob=0.0,  # Proportion or the population working from home\r\n",
        "    }"
      ],
      "execution_count": null,
      "outputs": []
    },
    {
      "cell_type": "markdown",
      "metadata": {
        "id": "P0zOXUFxyYmO"
      },
      "source": [
        "#### Strategy Config"
      ]
    },
    {
      "cell_type": "code",
      "metadata": {
        "id": "z7ti_H2HyZ94"
      },
      "source": [
        "strategy_config = {\r\n",
        "    'isolate_individual_on_symptoms': True, \r\n",
        "    'isolate_individual_on_positive': True, \r\n",
        "    'isolate_household_on_symptoms': True, \r\n",
        "    'isolate_household_on_positive': True, \r\n",
        "    'isolate_contacts_on_symptoms': False, \r\n",
        "    'isolate_contacts_on_positive': True, \r\n",
        "    'test_contacts_on_positive': False, \r\n",
        "    'do_symptom_testing': True, \r\n",
        "    'do_manual_tracing': True, \r\n",
        "    'do_app_tracing': True, \r\n",
        "    'fractional_infections': True, \r\n",
        "    'testing_delay': 2, \r\n",
        "    'app_trace_delay': 0, \r\n",
        "    'manual_trace_delay': 1, \r\n",
        "    'manual_home_trace_prob': 1.0, \r\n",
        "    'manual_work_trace_prob': 1.0, \r\n",
        "    'manual_othr_trace_prob': 1.0, \r\n",
        "    'met_before_w': 0.79, \r\n",
        "    'met_before_s': 0.9, \r\n",
        "    'met_before_o': 0.9, \r\n",
        "    'max_contacts': 10, \r\n",
        "    'quarantine_length': 14, \r\n",
        "    'latent_period': 3, \r\n",
        "    'app_cov': 0.35, \r\n",
        "    'compliance': 0.8\r\n",
        "    }"
      ],
      "execution_count": null,
      "outputs": []
    },
    {
      "cell_type": "markdown",
      "metadata": {
        "id": "xKUtrTPiR6Rv"
      },
      "source": [
        "**Note**: for the case and contact config, we can vary with any values that we want. However, for the policy and strategy config, we select default options from combinations of *{S1, S2, S3, S4, S5}* and *{no_TTI, symptom_based_TTI, test_based_TTI, test_based_TTI_test_contacts}*.\n",
        "\n",
        "As extension to the default, we can also vary some values on the policy and strategy config."
      ]
    },
    {
      "cell_type": "markdown",
      "metadata": {
        "id": "qQ84q3waYlMu"
      },
      "source": [
        "## Experimentations"
      ]
    },
    {
      "cell_type": "code",
      "metadata": {
        "id": "UsvdLm0EYkXf"
      },
      "source": [
        "# Load data\n",
        "path_to_bbc_data = os.path.join(\"data\", \"bbc-pandemic\")\n",
        "\n",
        "over18 = load_csv(os.path.join(path_to_bbc_data, \"contact_distributions_o18.csv\"))\n",
        "under18 = load_csv(os.path.join(path_to_bbc_data, \"contact_distributions_u18.csv\"))"
      ],
      "execution_count": null,
      "outputs": []
    },
    {
      "cell_type": "markdown",
      "metadata": {
        "id": "6xrjUBFzERVy"
      },
      "source": [
        "### Age\n",
        "\n",
        "This section experiments the effect of varying the probability of case being under 18. We aim to see whether under 18 primary case infections is more fatal compared to over 18 primary case infections."
      ]
    },
    {
      "cell_type": "code",
      "metadata": {
        "id": "NqewZamLEPz2"
      },
      "source": [
        "policy_name = \"S2_test_based_TTI\"\n",
        "case_config = config.get_case_config(\"delve\")\n",
        "contacts_config = config.get_contacts_config(\"delve\")\n",
        "n_experiments = 5 # number of simulations performed for a particular value"
      ],
      "execution_count": null,
      "outputs": []
    },
    {
      "cell_type": "code",
      "metadata": {
        "id": "8_9sWEM1GWyB"
      },
      "source": [
        "p_under18_params = np.arange(11) / 10\n",
        "dict_outputs = {p_under18: [] for p_under18 in p_under18_params}"
      ],
      "execution_count": null,
      "outputs": []
    },
    {
      "cell_type": "code",
      "metadata": {
        "colab": {
          "base_uri": "https://localhost:8080/",
          "height": 66,
          "referenced_widgets": [
            "53ec8fc1752f4c79a9e3794eb8c4ee4f",
            "703942f87e784891941e2554e2c3dc60",
            "4e91ab1884a34ab98f5ab69d7cf62aec",
            "6315a80c7aaa46e286a914fd9362aa71",
            "706bfbcb0ed843aba9dfe71258a72cba",
            "cdb4d102de314e1a9d4bfbf0a830ea08",
            "ca2b0342912b417c91a00e91eda7b984",
            "716ae872794f4ed7b0cf3c2ff6cdabb9"
          ]
        },
        "id": "Frc9tP_gEP8i",
        "outputId": "fcbe7ea8-6836-464e-d257-408396f0c3b4"
      },
      "source": [
        "# Try all possible p_under18\n",
        "for p_under18 in tqdm(p_under18_params):\n",
        "    case_config_ = deepcopy(case_config)\n",
        "    case_config_[\"p_under18\"] = p_under18\n",
        "\n",
        "    # For each case, experiment n times\n",
        "    for _ in range(n_experiments):\n",
        "        outputs = do_simulation(policy_name, case_config_, contacts_config, n_cases=10000)\n",
        "        dict_outputs[p_under18].append(outputs)"
      ],
      "execution_count": null,
      "outputs": [
        {
          "output_type": "display_data",
          "data": {
            "application/vnd.jupyter.widget-view+json": {
              "model_id": "53ec8fc1752f4c79a9e3794eb8c4ee4f",
              "version_minor": 0,
              "version_major": 2
            },
            "text/plain": [
              "HBox(children=(FloatProgress(value=0.0, max=11.0), HTML(value='')))"
            ]
          },
          "metadata": {
            "tags": []
          }
        },
        {
          "output_type": "stream",
          "text": [
            "\n"
          ],
          "name": "stdout"
        }
      ]
    },
    {
      "cell_type": "code",
      "metadata": {
        "colab": {
          "base_uri": "https://localhost:8080/",
          "height": 1000
        },
        "id": "OaQE0aE9EP_r",
        "outputId": "bd67b9c1-cd19-4c5f-ac5d-a3bdf6b92e70"
      },
      "source": [
        "for p_under18 in p_under18_params:\n",
        "    case_config_ = deepcopy(case_config)\n",
        "    case_config_[\"p_under18\"] = p_under18\n",
        "    print(\"*\"*20, f\"p_under18 parameters: {p_under18}\", \"*\"*20)\n",
        "    for i in range(n_experiments):\n",
        "        outputs = dict_outputs[p_under18][i]\n",
        "        summarise_simulation_results(outputs, policy_name, case_config_)\n",
        "    \n",
        "    print(\"\\n\")"
      ],
      "execution_count": null,
      "outputs": [
        {
          "output_type": "stream",
          "text": [
            "******************** p_under18 parameters: 0.0 ********************\n"
          ],
          "name": "stdout"
        },
        {
          "output_type": "display_data",
          "data": {
            "text/html": [
              "<div>\n",
              "<style scoped>\n",
              "    .dataframe tbody tr th:only-of-type {\n",
              "        vertical-align: middle;\n",
              "    }\n",
              "\n",
              "    .dataframe tbody tr th {\n",
              "        vertical-align: top;\n",
              "    }\n",
              "\n",
              "    .dataframe thead th {\n",
              "        text-align: right;\n",
              "    }\n",
              "</style>\n",
              "<table border=\"1\" class=\"dataframe\">\n",
              "  <thead>\n",
              "    <tr style=\"text-align: right;\">\n",
              "      <th></th>\n",
              "      <th>Simulation results: S2 test based TTI</th>\n",
              "    </tr>\n",
              "  </thead>\n",
              "  <tbody>\n",
              "    <tr>\n",
              "      <th>Base R</th>\n",
              "      <td>4.1</td>\n",
              "    </tr>\n",
              "    <tr>\n",
              "      <th>Effective R</th>\n",
              "      <td>1.8</td>\n",
              "    </tr>\n",
              "    <tr>\n",
              "      <th># Manual Traces (k per day)</th>\n",
              "      <td>180.7</td>\n",
              "    </tr>\n",
              "    <tr>\n",
              "      <th># App Traces (k per day)</th>\n",
              "      <td>26.9</td>\n",
              "    </tr>\n",
              "    <tr>\n",
              "      <th># Tests Needed (k per day)</th>\n",
              "      <td>89.5</td>\n",
              "    </tr>\n",
              "  </tbody>\n",
              "</table>\n",
              "</div>"
            ],
            "text/plain": [
              "                             Simulation results: S2 test based TTI\n",
              "Base R                                                         4.1\n",
              "Effective R                                                    1.8\n",
              "# Manual Traces (k per day)                                  180.7\n",
              "# App Traces (k per day)                                      26.9\n",
              "# Tests Needed (k per day)                                    89.5"
            ]
          },
          "metadata": {
            "tags": []
          }
        },
        {
          "output_type": "display_data",
          "data": {
            "text/html": [
              "<div>\n",
              "<style scoped>\n",
              "    .dataframe tbody tr th:only-of-type {\n",
              "        vertical-align: middle;\n",
              "    }\n",
              "\n",
              "    .dataframe tbody tr th {\n",
              "        vertical-align: top;\n",
              "    }\n",
              "\n",
              "    .dataframe thead th {\n",
              "        text-align: right;\n",
              "    }\n",
              "</style>\n",
              "<table border=\"1\" class=\"dataframe\">\n",
              "  <thead>\n",
              "    <tr style=\"text-align: right;\">\n",
              "      <th></th>\n",
              "      <th>Simulation results: S2 test based TTI</th>\n",
              "    </tr>\n",
              "  </thead>\n",
              "  <tbody>\n",
              "    <tr>\n",
              "      <th>Base R</th>\n",
              "      <td>4.2</td>\n",
              "    </tr>\n",
              "    <tr>\n",
              "      <th>Effective R</th>\n",
              "      <td>1.8</td>\n",
              "    </tr>\n",
              "    <tr>\n",
              "      <th># Manual Traces (k per day)</th>\n",
              "      <td>187.9</td>\n",
              "    </tr>\n",
              "    <tr>\n",
              "      <th># App Traces (k per day)</th>\n",
              "      <td>32.1</td>\n",
              "    </tr>\n",
              "    <tr>\n",
              "      <th># Tests Needed (k per day)</th>\n",
              "      <td>89.8</td>\n",
              "    </tr>\n",
              "  </tbody>\n",
              "</table>\n",
              "</div>"
            ],
            "text/plain": [
              "                             Simulation results: S2 test based TTI\n",
              "Base R                                                         4.2\n",
              "Effective R                                                    1.8\n",
              "# Manual Traces (k per day)                                  187.9\n",
              "# App Traces (k per day)                                      32.1\n",
              "# Tests Needed (k per day)                                    89.8"
            ]
          },
          "metadata": {
            "tags": []
          }
        },
        {
          "output_type": "display_data",
          "data": {
            "text/html": [
              "<div>\n",
              "<style scoped>\n",
              "    .dataframe tbody tr th:only-of-type {\n",
              "        vertical-align: middle;\n",
              "    }\n",
              "\n",
              "    .dataframe tbody tr th {\n",
              "        vertical-align: top;\n",
              "    }\n",
              "\n",
              "    .dataframe thead th {\n",
              "        text-align: right;\n",
              "    }\n",
              "</style>\n",
              "<table border=\"1\" class=\"dataframe\">\n",
              "  <thead>\n",
              "    <tr style=\"text-align: right;\">\n",
              "      <th></th>\n",
              "      <th>Simulation results: S2 test based TTI</th>\n",
              "    </tr>\n",
              "  </thead>\n",
              "  <tbody>\n",
              "    <tr>\n",
              "      <th>Base R</th>\n",
              "      <td>4.1</td>\n",
              "    </tr>\n",
              "    <tr>\n",
              "      <th>Effective R</th>\n",
              "      <td>1.7</td>\n",
              "    </tr>\n",
              "    <tr>\n",
              "      <th># Manual Traces (k per day)</th>\n",
              "      <td>177.0</td>\n",
              "    </tr>\n",
              "    <tr>\n",
              "      <th># App Traces (k per day)</th>\n",
              "      <td>28.8</td>\n",
              "    </tr>\n",
              "    <tr>\n",
              "      <th># Tests Needed (k per day)</th>\n",
              "      <td>89.6</td>\n",
              "    </tr>\n",
              "  </tbody>\n",
              "</table>\n",
              "</div>"
            ],
            "text/plain": [
              "                             Simulation results: S2 test based TTI\n",
              "Base R                                                         4.1\n",
              "Effective R                                                    1.7\n",
              "# Manual Traces (k per day)                                  177.0\n",
              "# App Traces (k per day)                                      28.8\n",
              "# Tests Needed (k per day)                                    89.6"
            ]
          },
          "metadata": {
            "tags": []
          }
        },
        {
          "output_type": "display_data",
          "data": {
            "text/html": [
              "<div>\n",
              "<style scoped>\n",
              "    .dataframe tbody tr th:only-of-type {\n",
              "        vertical-align: middle;\n",
              "    }\n",
              "\n",
              "    .dataframe tbody tr th {\n",
              "        vertical-align: top;\n",
              "    }\n",
              "\n",
              "    .dataframe thead th {\n",
              "        text-align: right;\n",
              "    }\n",
              "</style>\n",
              "<table border=\"1\" class=\"dataframe\">\n",
              "  <thead>\n",
              "    <tr style=\"text-align: right;\">\n",
              "      <th></th>\n",
              "      <th>Simulation results: S2 test based TTI</th>\n",
              "    </tr>\n",
              "  </thead>\n",
              "  <tbody>\n",
              "    <tr>\n",
              "      <th>Base R</th>\n",
              "      <td>3.9</td>\n",
              "    </tr>\n",
              "    <tr>\n",
              "      <th>Effective R</th>\n",
              "      <td>1.8</td>\n",
              "    </tr>\n",
              "    <tr>\n",
              "      <th># Manual Traces (k per day)</th>\n",
              "      <td>181.6</td>\n",
              "    </tr>\n",
              "    <tr>\n",
              "      <th># App Traces (k per day)</th>\n",
              "      <td>31.7</td>\n",
              "    </tr>\n",
              "    <tr>\n",
              "      <th># Tests Needed (k per day)</th>\n",
              "      <td>88.8</td>\n",
              "    </tr>\n",
              "  </tbody>\n",
              "</table>\n",
              "</div>"
            ],
            "text/plain": [
              "                             Simulation results: S2 test based TTI\n",
              "Base R                                                         3.9\n",
              "Effective R                                                    1.8\n",
              "# Manual Traces (k per day)                                  181.6\n",
              "# App Traces (k per day)                                      31.7\n",
              "# Tests Needed (k per day)                                    88.8"
            ]
          },
          "metadata": {
            "tags": []
          }
        },
        {
          "output_type": "display_data",
          "data": {
            "text/html": [
              "<div>\n",
              "<style scoped>\n",
              "    .dataframe tbody tr th:only-of-type {\n",
              "        vertical-align: middle;\n",
              "    }\n",
              "\n",
              "    .dataframe tbody tr th {\n",
              "        vertical-align: top;\n",
              "    }\n",
              "\n",
              "    .dataframe thead th {\n",
              "        text-align: right;\n",
              "    }\n",
              "</style>\n",
              "<table border=\"1\" class=\"dataframe\">\n",
              "  <thead>\n",
              "    <tr style=\"text-align: right;\">\n",
              "      <th></th>\n",
              "      <th>Simulation results: S2 test based TTI</th>\n",
              "    </tr>\n",
              "  </thead>\n",
              "  <tbody>\n",
              "    <tr>\n",
              "      <th>Base R</th>\n",
              "      <td>4.1</td>\n",
              "    </tr>\n",
              "    <tr>\n",
              "      <th>Effective R</th>\n",
              "      <td>1.7</td>\n",
              "    </tr>\n",
              "    <tr>\n",
              "      <th># Manual Traces (k per day)</th>\n",
              "      <td>178.9</td>\n",
              "    </tr>\n",
              "    <tr>\n",
              "      <th># App Traces (k per day)</th>\n",
              "      <td>27.6</td>\n",
              "    </tr>\n",
              "    <tr>\n",
              "      <th># Tests Needed (k per day)</th>\n",
              "      <td>89.9</td>\n",
              "    </tr>\n",
              "  </tbody>\n",
              "</table>\n",
              "</div>"
            ],
            "text/plain": [
              "                             Simulation results: S2 test based TTI\n",
              "Base R                                                         4.1\n",
              "Effective R                                                    1.7\n",
              "# Manual Traces (k per day)                                  178.9\n",
              "# App Traces (k per day)                                      27.6\n",
              "# Tests Needed (k per day)                                    89.9"
            ]
          },
          "metadata": {
            "tags": []
          }
        },
        {
          "output_type": "stream",
          "text": [
            "\n",
            "\n",
            "******************** p_under18 parameters: 0.1 ********************\n"
          ],
          "name": "stdout"
        },
        {
          "output_type": "display_data",
          "data": {
            "text/html": [
              "<div>\n",
              "<style scoped>\n",
              "    .dataframe tbody tr th:only-of-type {\n",
              "        vertical-align: middle;\n",
              "    }\n",
              "\n",
              "    .dataframe tbody tr th {\n",
              "        vertical-align: top;\n",
              "    }\n",
              "\n",
              "    .dataframe thead th {\n",
              "        text-align: right;\n",
              "    }\n",
              "</style>\n",
              "<table border=\"1\" class=\"dataframe\">\n",
              "  <thead>\n",
              "    <tr style=\"text-align: right;\">\n",
              "      <th></th>\n",
              "      <th>Simulation results: S2 test based TTI</th>\n",
              "    </tr>\n",
              "  </thead>\n",
              "  <tbody>\n",
              "    <tr>\n",
              "      <th>Base R</th>\n",
              "      <td>3.8</td>\n",
              "    </tr>\n",
              "    <tr>\n",
              "      <th>Effective R</th>\n",
              "      <td>1.8</td>\n",
              "    </tr>\n",
              "    <tr>\n",
              "      <th># Manual Traces (k per day)</th>\n",
              "      <td>186.4</td>\n",
              "    </tr>\n",
              "    <tr>\n",
              "      <th># App Traces (k per day)</th>\n",
              "      <td>28.2</td>\n",
              "    </tr>\n",
              "    <tr>\n",
              "      <th># Tests Needed (k per day)</th>\n",
              "      <td>89.2</td>\n",
              "    </tr>\n",
              "  </tbody>\n",
              "</table>\n",
              "</div>"
            ],
            "text/plain": [
              "                             Simulation results: S2 test based TTI\n",
              "Base R                                                         3.8\n",
              "Effective R                                                    1.8\n",
              "# Manual Traces (k per day)                                  186.4\n",
              "# App Traces (k per day)                                      28.2\n",
              "# Tests Needed (k per day)                                    89.2"
            ]
          },
          "metadata": {
            "tags": []
          }
        },
        {
          "output_type": "display_data",
          "data": {
            "text/html": [
              "<div>\n",
              "<style scoped>\n",
              "    .dataframe tbody tr th:only-of-type {\n",
              "        vertical-align: middle;\n",
              "    }\n",
              "\n",
              "    .dataframe tbody tr th {\n",
              "        vertical-align: top;\n",
              "    }\n",
              "\n",
              "    .dataframe thead th {\n",
              "        text-align: right;\n",
              "    }\n",
              "</style>\n",
              "<table border=\"1\" class=\"dataframe\">\n",
              "  <thead>\n",
              "    <tr style=\"text-align: right;\">\n",
              "      <th></th>\n",
              "      <th>Simulation results: S2 test based TTI</th>\n",
              "    </tr>\n",
              "  </thead>\n",
              "  <tbody>\n",
              "    <tr>\n",
              "      <th>Base R</th>\n",
              "      <td>4.1</td>\n",
              "    </tr>\n",
              "    <tr>\n",
              "      <th>Effective R</th>\n",
              "      <td>1.7</td>\n",
              "    </tr>\n",
              "    <tr>\n",
              "      <th># Manual Traces (k per day)</th>\n",
              "      <td>186.7</td>\n",
              "    </tr>\n",
              "    <tr>\n",
              "      <th># App Traces (k per day)</th>\n",
              "      <td>26.6</td>\n",
              "    </tr>\n",
              "    <tr>\n",
              "      <th># Tests Needed (k per day)</th>\n",
              "      <td>89.2</td>\n",
              "    </tr>\n",
              "  </tbody>\n",
              "</table>\n",
              "</div>"
            ],
            "text/plain": [
              "                             Simulation results: S2 test based TTI\n",
              "Base R                                                         4.1\n",
              "Effective R                                                    1.7\n",
              "# Manual Traces (k per day)                                  186.7\n",
              "# App Traces (k per day)                                      26.6\n",
              "# Tests Needed (k per day)                                    89.2"
            ]
          },
          "metadata": {
            "tags": []
          }
        },
        {
          "output_type": "display_data",
          "data": {
            "text/html": [
              "<div>\n",
              "<style scoped>\n",
              "    .dataframe tbody tr th:only-of-type {\n",
              "        vertical-align: middle;\n",
              "    }\n",
              "\n",
              "    .dataframe tbody tr th {\n",
              "        vertical-align: top;\n",
              "    }\n",
              "\n",
              "    .dataframe thead th {\n",
              "        text-align: right;\n",
              "    }\n",
              "</style>\n",
              "<table border=\"1\" class=\"dataframe\">\n",
              "  <thead>\n",
              "    <tr style=\"text-align: right;\">\n",
              "      <th></th>\n",
              "      <th>Simulation results: S2 test based TTI</th>\n",
              "    </tr>\n",
              "  </thead>\n",
              "  <tbody>\n",
              "    <tr>\n",
              "      <th>Base R</th>\n",
              "      <td>4.0</td>\n",
              "    </tr>\n",
              "    <tr>\n",
              "      <th>Effective R</th>\n",
              "      <td>1.8</td>\n",
              "    </tr>\n",
              "    <tr>\n",
              "      <th># Manual Traces (k per day)</th>\n",
              "      <td>186.1</td>\n",
              "    </tr>\n",
              "    <tr>\n",
              "      <th># App Traces (k per day)</th>\n",
              "      <td>28.7</td>\n",
              "    </tr>\n",
              "    <tr>\n",
              "      <th># Tests Needed (k per day)</th>\n",
              "      <td>89.4</td>\n",
              "    </tr>\n",
              "  </tbody>\n",
              "</table>\n",
              "</div>"
            ],
            "text/plain": [
              "                             Simulation results: S2 test based TTI\n",
              "Base R                                                         4.0\n",
              "Effective R                                                    1.8\n",
              "# Manual Traces (k per day)                                  186.1\n",
              "# App Traces (k per day)                                      28.7\n",
              "# Tests Needed (k per day)                                    89.4"
            ]
          },
          "metadata": {
            "tags": []
          }
        },
        {
          "output_type": "display_data",
          "data": {
            "text/html": [
              "<div>\n",
              "<style scoped>\n",
              "    .dataframe tbody tr th:only-of-type {\n",
              "        vertical-align: middle;\n",
              "    }\n",
              "\n",
              "    .dataframe tbody tr th {\n",
              "        vertical-align: top;\n",
              "    }\n",
              "\n",
              "    .dataframe thead th {\n",
              "        text-align: right;\n",
              "    }\n",
              "</style>\n",
              "<table border=\"1\" class=\"dataframe\">\n",
              "  <thead>\n",
              "    <tr style=\"text-align: right;\">\n",
              "      <th></th>\n",
              "      <th>Simulation results: S2 test based TTI</th>\n",
              "    </tr>\n",
              "  </thead>\n",
              "  <tbody>\n",
              "    <tr>\n",
              "      <th>Base R</th>\n",
              "      <td>3.9</td>\n",
              "    </tr>\n",
              "    <tr>\n",
              "      <th>Effective R</th>\n",
              "      <td>1.8</td>\n",
              "    </tr>\n",
              "    <tr>\n",
              "      <th># Manual Traces (k per day)</th>\n",
              "      <td>170.3</td>\n",
              "    </tr>\n",
              "    <tr>\n",
              "      <th># App Traces (k per day)</th>\n",
              "      <td>24.0</td>\n",
              "    </tr>\n",
              "    <tr>\n",
              "      <th># Tests Needed (k per day)</th>\n",
              "      <td>90.1</td>\n",
              "    </tr>\n",
              "  </tbody>\n",
              "</table>\n",
              "</div>"
            ],
            "text/plain": [
              "                             Simulation results: S2 test based TTI\n",
              "Base R                                                         3.9\n",
              "Effective R                                                    1.8\n",
              "# Manual Traces (k per day)                                  170.3\n",
              "# App Traces (k per day)                                      24.0\n",
              "# Tests Needed (k per day)                                    90.1"
            ]
          },
          "metadata": {
            "tags": []
          }
        },
        {
          "output_type": "display_data",
          "data": {
            "text/html": [
              "<div>\n",
              "<style scoped>\n",
              "    .dataframe tbody tr th:only-of-type {\n",
              "        vertical-align: middle;\n",
              "    }\n",
              "\n",
              "    .dataframe tbody tr th {\n",
              "        vertical-align: top;\n",
              "    }\n",
              "\n",
              "    .dataframe thead th {\n",
              "        text-align: right;\n",
              "    }\n",
              "</style>\n",
              "<table border=\"1\" class=\"dataframe\">\n",
              "  <thead>\n",
              "    <tr style=\"text-align: right;\">\n",
              "      <th></th>\n",
              "      <th>Simulation results: S2 test based TTI</th>\n",
              "    </tr>\n",
              "  </thead>\n",
              "  <tbody>\n",
              "    <tr>\n",
              "      <th>Base R</th>\n",
              "      <td>4.1</td>\n",
              "    </tr>\n",
              "    <tr>\n",
              "      <th>Effective R</th>\n",
              "      <td>1.9</td>\n",
              "    </tr>\n",
              "    <tr>\n",
              "      <th># Manual Traces (k per day)</th>\n",
              "      <td>199.3</td>\n",
              "    </tr>\n",
              "    <tr>\n",
              "      <th># App Traces (k per day)</th>\n",
              "      <td>29.3</td>\n",
              "    </tr>\n",
              "    <tr>\n",
              "      <th># Tests Needed (k per day)</th>\n",
              "      <td>90.1</td>\n",
              "    </tr>\n",
              "  </tbody>\n",
              "</table>\n",
              "</div>"
            ],
            "text/plain": [
              "                             Simulation results: S2 test based TTI\n",
              "Base R                                                         4.1\n",
              "Effective R                                                    1.9\n",
              "# Manual Traces (k per day)                                  199.3\n",
              "# App Traces (k per day)                                      29.3\n",
              "# Tests Needed (k per day)                                    90.1"
            ]
          },
          "metadata": {
            "tags": []
          }
        },
        {
          "output_type": "stream",
          "text": [
            "\n",
            "\n",
            "******************** p_under18 parameters: 0.2 ********************\n"
          ],
          "name": "stdout"
        },
        {
          "output_type": "display_data",
          "data": {
            "text/html": [
              "<div>\n",
              "<style scoped>\n",
              "    .dataframe tbody tr th:only-of-type {\n",
              "        vertical-align: middle;\n",
              "    }\n",
              "\n",
              "    .dataframe tbody tr th {\n",
              "        vertical-align: top;\n",
              "    }\n",
              "\n",
              "    .dataframe thead th {\n",
              "        text-align: right;\n",
              "    }\n",
              "</style>\n",
              "<table border=\"1\" class=\"dataframe\">\n",
              "  <thead>\n",
              "    <tr style=\"text-align: right;\">\n",
              "      <th></th>\n",
              "      <th>Simulation results: S2 test based TTI</th>\n",
              "    </tr>\n",
              "  </thead>\n",
              "  <tbody>\n",
              "    <tr>\n",
              "      <th>Base R</th>\n",
              "      <td>3.9</td>\n",
              "    </tr>\n",
              "    <tr>\n",
              "      <th>Effective R</th>\n",
              "      <td>1.7</td>\n",
              "    </tr>\n",
              "    <tr>\n",
              "      <th># Manual Traces (k per day)</th>\n",
              "      <td>190.8</td>\n",
              "    </tr>\n",
              "    <tr>\n",
              "      <th># App Traces (k per day)</th>\n",
              "      <td>30.8</td>\n",
              "    </tr>\n",
              "    <tr>\n",
              "      <th># Tests Needed (k per day)</th>\n",
              "      <td>88.8</td>\n",
              "    </tr>\n",
              "  </tbody>\n",
              "</table>\n",
              "</div>"
            ],
            "text/plain": [
              "                             Simulation results: S2 test based TTI\n",
              "Base R                                                         3.9\n",
              "Effective R                                                    1.7\n",
              "# Manual Traces (k per day)                                  190.8\n",
              "# App Traces (k per day)                                      30.8\n",
              "# Tests Needed (k per day)                                    88.8"
            ]
          },
          "metadata": {
            "tags": []
          }
        },
        {
          "output_type": "display_data",
          "data": {
            "text/html": [
              "<div>\n",
              "<style scoped>\n",
              "    .dataframe tbody tr th:only-of-type {\n",
              "        vertical-align: middle;\n",
              "    }\n",
              "\n",
              "    .dataframe tbody tr th {\n",
              "        vertical-align: top;\n",
              "    }\n",
              "\n",
              "    .dataframe thead th {\n",
              "        text-align: right;\n",
              "    }\n",
              "</style>\n",
              "<table border=\"1\" class=\"dataframe\">\n",
              "  <thead>\n",
              "    <tr style=\"text-align: right;\">\n",
              "      <th></th>\n",
              "      <th>Simulation results: S2 test based TTI</th>\n",
              "    </tr>\n",
              "  </thead>\n",
              "  <tbody>\n",
              "    <tr>\n",
              "      <th>Base R</th>\n",
              "      <td>3.9</td>\n",
              "    </tr>\n",
              "    <tr>\n",
              "      <th>Effective R</th>\n",
              "      <td>1.8</td>\n",
              "    </tr>\n",
              "    <tr>\n",
              "      <th># Manual Traces (k per day)</th>\n",
              "      <td>170.4</td>\n",
              "    </tr>\n",
              "    <tr>\n",
              "      <th># App Traces (k per day)</th>\n",
              "      <td>28.8</td>\n",
              "    </tr>\n",
              "    <tr>\n",
              "      <th># Tests Needed (k per day)</th>\n",
              "      <td>89.8</td>\n",
              "    </tr>\n",
              "  </tbody>\n",
              "</table>\n",
              "</div>"
            ],
            "text/plain": [
              "                             Simulation results: S2 test based TTI\n",
              "Base R                                                         3.9\n",
              "Effective R                                                    1.8\n",
              "# Manual Traces (k per day)                                  170.4\n",
              "# App Traces (k per day)                                      28.8\n",
              "# Tests Needed (k per day)                                    89.8"
            ]
          },
          "metadata": {
            "tags": []
          }
        },
        {
          "output_type": "display_data",
          "data": {
            "text/html": [
              "<div>\n",
              "<style scoped>\n",
              "    .dataframe tbody tr th:only-of-type {\n",
              "        vertical-align: middle;\n",
              "    }\n",
              "\n",
              "    .dataframe tbody tr th {\n",
              "        vertical-align: top;\n",
              "    }\n",
              "\n",
              "    .dataframe thead th {\n",
              "        text-align: right;\n",
              "    }\n",
              "</style>\n",
              "<table border=\"1\" class=\"dataframe\">\n",
              "  <thead>\n",
              "    <tr style=\"text-align: right;\">\n",
              "      <th></th>\n",
              "      <th>Simulation results: S2 test based TTI</th>\n",
              "    </tr>\n",
              "  </thead>\n",
              "  <tbody>\n",
              "    <tr>\n",
              "      <th>Base R</th>\n",
              "      <td>4.1</td>\n",
              "    </tr>\n",
              "    <tr>\n",
              "      <th>Effective R</th>\n",
              "      <td>1.8</td>\n",
              "    </tr>\n",
              "    <tr>\n",
              "      <th># Manual Traces (k per day)</th>\n",
              "      <td>165.1</td>\n",
              "    </tr>\n",
              "    <tr>\n",
              "      <th># App Traces (k per day)</th>\n",
              "      <td>23.0</td>\n",
              "    </tr>\n",
              "    <tr>\n",
              "      <th># Tests Needed (k per day)</th>\n",
              "      <td>90.3</td>\n",
              "    </tr>\n",
              "  </tbody>\n",
              "</table>\n",
              "</div>"
            ],
            "text/plain": [
              "                             Simulation results: S2 test based TTI\n",
              "Base R                                                         4.1\n",
              "Effective R                                                    1.8\n",
              "# Manual Traces (k per day)                                  165.1\n",
              "# App Traces (k per day)                                      23.0\n",
              "# Tests Needed (k per day)                                    90.3"
            ]
          },
          "metadata": {
            "tags": []
          }
        },
        {
          "output_type": "display_data",
          "data": {
            "text/html": [
              "<div>\n",
              "<style scoped>\n",
              "    .dataframe tbody tr th:only-of-type {\n",
              "        vertical-align: middle;\n",
              "    }\n",
              "\n",
              "    .dataframe tbody tr th {\n",
              "        vertical-align: top;\n",
              "    }\n",
              "\n",
              "    .dataframe thead th {\n",
              "        text-align: right;\n",
              "    }\n",
              "</style>\n",
              "<table border=\"1\" class=\"dataframe\">\n",
              "  <thead>\n",
              "    <tr style=\"text-align: right;\">\n",
              "      <th></th>\n",
              "      <th>Simulation results: S2 test based TTI</th>\n",
              "    </tr>\n",
              "  </thead>\n",
              "  <tbody>\n",
              "    <tr>\n",
              "      <th>Base R</th>\n",
              "      <td>3.8</td>\n",
              "    </tr>\n",
              "    <tr>\n",
              "      <th>Effective R</th>\n",
              "      <td>1.7</td>\n",
              "    </tr>\n",
              "    <tr>\n",
              "      <th># Manual Traces (k per day)</th>\n",
              "      <td>188.0</td>\n",
              "    </tr>\n",
              "    <tr>\n",
              "      <th># App Traces (k per day)</th>\n",
              "      <td>30.5</td>\n",
              "    </tr>\n",
              "    <tr>\n",
              "      <th># Tests Needed (k per day)</th>\n",
              "      <td>89.7</td>\n",
              "    </tr>\n",
              "  </tbody>\n",
              "</table>\n",
              "</div>"
            ],
            "text/plain": [
              "                             Simulation results: S2 test based TTI\n",
              "Base R                                                         3.8\n",
              "Effective R                                                    1.7\n",
              "# Manual Traces (k per day)                                  188.0\n",
              "# App Traces (k per day)                                      30.5\n",
              "# Tests Needed (k per day)                                    89.7"
            ]
          },
          "metadata": {
            "tags": []
          }
        },
        {
          "output_type": "display_data",
          "data": {
            "text/html": [
              "<div>\n",
              "<style scoped>\n",
              "    .dataframe tbody tr th:only-of-type {\n",
              "        vertical-align: middle;\n",
              "    }\n",
              "\n",
              "    .dataframe tbody tr th {\n",
              "        vertical-align: top;\n",
              "    }\n",
              "\n",
              "    .dataframe thead th {\n",
              "        text-align: right;\n",
              "    }\n",
              "</style>\n",
              "<table border=\"1\" class=\"dataframe\">\n",
              "  <thead>\n",
              "    <tr style=\"text-align: right;\">\n",
              "      <th></th>\n",
              "      <th>Simulation results: S2 test based TTI</th>\n",
              "    </tr>\n",
              "  </thead>\n",
              "  <tbody>\n",
              "    <tr>\n",
              "      <th>Base R</th>\n",
              "      <td>3.8</td>\n",
              "    </tr>\n",
              "    <tr>\n",
              "      <th>Effective R</th>\n",
              "      <td>1.8</td>\n",
              "    </tr>\n",
              "    <tr>\n",
              "      <th># Manual Traces (k per day)</th>\n",
              "      <td>161.1</td>\n",
              "    </tr>\n",
              "    <tr>\n",
              "      <th># App Traces (k per day)</th>\n",
              "      <td>26.5</td>\n",
              "    </tr>\n",
              "    <tr>\n",
              "      <th># Tests Needed (k per day)</th>\n",
              "      <td>89.3</td>\n",
              "    </tr>\n",
              "  </tbody>\n",
              "</table>\n",
              "</div>"
            ],
            "text/plain": [
              "                             Simulation results: S2 test based TTI\n",
              "Base R                                                         3.8\n",
              "Effective R                                                    1.8\n",
              "# Manual Traces (k per day)                                  161.1\n",
              "# App Traces (k per day)                                      26.5\n",
              "# Tests Needed (k per day)                                    89.3"
            ]
          },
          "metadata": {
            "tags": []
          }
        },
        {
          "output_type": "stream",
          "text": [
            "\n",
            "\n",
            "******************** p_under18 parameters: 0.3 ********************\n"
          ],
          "name": "stdout"
        },
        {
          "output_type": "display_data",
          "data": {
            "text/html": [
              "<div>\n",
              "<style scoped>\n",
              "    .dataframe tbody tr th:only-of-type {\n",
              "        vertical-align: middle;\n",
              "    }\n",
              "\n",
              "    .dataframe tbody tr th {\n",
              "        vertical-align: top;\n",
              "    }\n",
              "\n",
              "    .dataframe thead th {\n",
              "        text-align: right;\n",
              "    }\n",
              "</style>\n",
              "<table border=\"1\" class=\"dataframe\">\n",
              "  <thead>\n",
              "    <tr style=\"text-align: right;\">\n",
              "      <th></th>\n",
              "      <th>Simulation results: S2 test based TTI</th>\n",
              "    </tr>\n",
              "  </thead>\n",
              "  <tbody>\n",
              "    <tr>\n",
              "      <th>Base R</th>\n",
              "      <td>3.7</td>\n",
              "    </tr>\n",
              "    <tr>\n",
              "      <th>Effective R</th>\n",
              "      <td>1.7</td>\n",
              "    </tr>\n",
              "    <tr>\n",
              "      <th># Manual Traces (k per day)</th>\n",
              "      <td>186.7</td>\n",
              "    </tr>\n",
              "    <tr>\n",
              "      <th># App Traces (k per day)</th>\n",
              "      <td>28.5</td>\n",
              "    </tr>\n",
              "    <tr>\n",
              "      <th># Tests Needed (k per day)</th>\n",
              "      <td>89.3</td>\n",
              "    </tr>\n",
              "  </tbody>\n",
              "</table>\n",
              "</div>"
            ],
            "text/plain": [
              "                             Simulation results: S2 test based TTI\n",
              "Base R                                                         3.7\n",
              "Effective R                                                    1.7\n",
              "# Manual Traces (k per day)                                  186.7\n",
              "# App Traces (k per day)                                      28.5\n",
              "# Tests Needed (k per day)                                    89.3"
            ]
          },
          "metadata": {
            "tags": []
          }
        },
        {
          "output_type": "display_data",
          "data": {
            "text/html": [
              "<div>\n",
              "<style scoped>\n",
              "    .dataframe tbody tr th:only-of-type {\n",
              "        vertical-align: middle;\n",
              "    }\n",
              "\n",
              "    .dataframe tbody tr th {\n",
              "        vertical-align: top;\n",
              "    }\n",
              "\n",
              "    .dataframe thead th {\n",
              "        text-align: right;\n",
              "    }\n",
              "</style>\n",
              "<table border=\"1\" class=\"dataframe\">\n",
              "  <thead>\n",
              "    <tr style=\"text-align: right;\">\n",
              "      <th></th>\n",
              "      <th>Simulation results: S2 test based TTI</th>\n",
              "    </tr>\n",
              "  </thead>\n",
              "  <tbody>\n",
              "    <tr>\n",
              "      <th>Base R</th>\n",
              "      <td>3.9</td>\n",
              "    </tr>\n",
              "    <tr>\n",
              "      <th>Effective R</th>\n",
              "      <td>1.8</td>\n",
              "    </tr>\n",
              "    <tr>\n",
              "      <th># Manual Traces (k per day)</th>\n",
              "      <td>187.1</td>\n",
              "    </tr>\n",
              "    <tr>\n",
              "      <th># App Traces (k per day)</th>\n",
              "      <td>28.6</td>\n",
              "    </tr>\n",
              "    <tr>\n",
              "      <th># Tests Needed (k per day)</th>\n",
              "      <td>89.3</td>\n",
              "    </tr>\n",
              "  </tbody>\n",
              "</table>\n",
              "</div>"
            ],
            "text/plain": [
              "                             Simulation results: S2 test based TTI\n",
              "Base R                                                         3.9\n",
              "Effective R                                                    1.8\n",
              "# Manual Traces (k per day)                                  187.1\n",
              "# App Traces (k per day)                                      28.6\n",
              "# Tests Needed (k per day)                                    89.3"
            ]
          },
          "metadata": {
            "tags": []
          }
        },
        {
          "output_type": "display_data",
          "data": {
            "text/html": [
              "<div>\n",
              "<style scoped>\n",
              "    .dataframe tbody tr th:only-of-type {\n",
              "        vertical-align: middle;\n",
              "    }\n",
              "\n",
              "    .dataframe tbody tr th {\n",
              "        vertical-align: top;\n",
              "    }\n",
              "\n",
              "    .dataframe thead th {\n",
              "        text-align: right;\n",
              "    }\n",
              "</style>\n",
              "<table border=\"1\" class=\"dataframe\">\n",
              "  <thead>\n",
              "    <tr style=\"text-align: right;\">\n",
              "      <th></th>\n",
              "      <th>Simulation results: S2 test based TTI</th>\n",
              "    </tr>\n",
              "  </thead>\n",
              "  <tbody>\n",
              "    <tr>\n",
              "      <th>Base R</th>\n",
              "      <td>3.8</td>\n",
              "    </tr>\n",
              "    <tr>\n",
              "      <th>Effective R</th>\n",
              "      <td>1.7</td>\n",
              "    </tr>\n",
              "    <tr>\n",
              "      <th># Manual Traces (k per day)</th>\n",
              "      <td>185.1</td>\n",
              "    </tr>\n",
              "    <tr>\n",
              "      <th># App Traces (k per day)</th>\n",
              "      <td>31.3</td>\n",
              "    </tr>\n",
              "    <tr>\n",
              "      <th># Tests Needed (k per day)</th>\n",
              "      <td>89.7</td>\n",
              "    </tr>\n",
              "  </tbody>\n",
              "</table>\n",
              "</div>"
            ],
            "text/plain": [
              "                             Simulation results: S2 test based TTI\n",
              "Base R                                                         3.8\n",
              "Effective R                                                    1.7\n",
              "# Manual Traces (k per day)                                  185.1\n",
              "# App Traces (k per day)                                      31.3\n",
              "# Tests Needed (k per day)                                    89.7"
            ]
          },
          "metadata": {
            "tags": []
          }
        },
        {
          "output_type": "display_data",
          "data": {
            "text/html": [
              "<div>\n",
              "<style scoped>\n",
              "    .dataframe tbody tr th:only-of-type {\n",
              "        vertical-align: middle;\n",
              "    }\n",
              "\n",
              "    .dataframe tbody tr th {\n",
              "        vertical-align: top;\n",
              "    }\n",
              "\n",
              "    .dataframe thead th {\n",
              "        text-align: right;\n",
              "    }\n",
              "</style>\n",
              "<table border=\"1\" class=\"dataframe\">\n",
              "  <thead>\n",
              "    <tr style=\"text-align: right;\">\n",
              "      <th></th>\n",
              "      <th>Simulation results: S2 test based TTI</th>\n",
              "    </tr>\n",
              "  </thead>\n",
              "  <tbody>\n",
              "    <tr>\n",
              "      <th>Base R</th>\n",
              "      <td>3.7</td>\n",
              "    </tr>\n",
              "    <tr>\n",
              "      <th>Effective R</th>\n",
              "      <td>1.6</td>\n",
              "    </tr>\n",
              "    <tr>\n",
              "      <th># Manual Traces (k per day)</th>\n",
              "      <td>175.8</td>\n",
              "    </tr>\n",
              "    <tr>\n",
              "      <th># App Traces (k per day)</th>\n",
              "      <td>31.6</td>\n",
              "    </tr>\n",
              "    <tr>\n",
              "      <th># Tests Needed (k per day)</th>\n",
              "      <td>89.4</td>\n",
              "    </tr>\n",
              "  </tbody>\n",
              "</table>\n",
              "</div>"
            ],
            "text/plain": [
              "                             Simulation results: S2 test based TTI\n",
              "Base R                                                         3.7\n",
              "Effective R                                                    1.6\n",
              "# Manual Traces (k per day)                                  175.8\n",
              "# App Traces (k per day)                                      31.6\n",
              "# Tests Needed (k per day)                                    89.4"
            ]
          },
          "metadata": {
            "tags": []
          }
        },
        {
          "output_type": "display_data",
          "data": {
            "text/html": [
              "<div>\n",
              "<style scoped>\n",
              "    .dataframe tbody tr th:only-of-type {\n",
              "        vertical-align: middle;\n",
              "    }\n",
              "\n",
              "    .dataframe tbody tr th {\n",
              "        vertical-align: top;\n",
              "    }\n",
              "\n",
              "    .dataframe thead th {\n",
              "        text-align: right;\n",
              "    }\n",
              "</style>\n",
              "<table border=\"1\" class=\"dataframe\">\n",
              "  <thead>\n",
              "    <tr style=\"text-align: right;\">\n",
              "      <th></th>\n",
              "      <th>Simulation results: S2 test based TTI</th>\n",
              "    </tr>\n",
              "  </thead>\n",
              "  <tbody>\n",
              "    <tr>\n",
              "      <th>Base R</th>\n",
              "      <td>3.7</td>\n",
              "    </tr>\n",
              "    <tr>\n",
              "      <th>Effective R</th>\n",
              "      <td>1.6</td>\n",
              "    </tr>\n",
              "    <tr>\n",
              "      <th># Manual Traces (k per day)</th>\n",
              "      <td>175.8</td>\n",
              "    </tr>\n",
              "    <tr>\n",
              "      <th># App Traces (k per day)</th>\n",
              "      <td>31.6</td>\n",
              "    </tr>\n",
              "    <tr>\n",
              "      <th># Tests Needed (k per day)</th>\n",
              "      <td>89.4</td>\n",
              "    </tr>\n",
              "  </tbody>\n",
              "</table>\n",
              "</div>"
            ],
            "text/plain": [
              "                             Simulation results: S2 test based TTI\n",
              "Base R                                                         3.7\n",
              "Effective R                                                    1.6\n",
              "# Manual Traces (k per day)                                  175.8\n",
              "# App Traces (k per day)                                      31.6\n",
              "# Tests Needed (k per day)                                    89.4"
            ]
          },
          "metadata": {
            "tags": []
          }
        },
        {
          "output_type": "stream",
          "text": [
            "\n",
            "\n",
            "******************** p_under18 parameters: 0.4 ********************\n"
          ],
          "name": "stdout"
        },
        {
          "output_type": "display_data",
          "data": {
            "text/html": [
              "<div>\n",
              "<style scoped>\n",
              "    .dataframe tbody tr th:only-of-type {\n",
              "        vertical-align: middle;\n",
              "    }\n",
              "\n",
              "    .dataframe tbody tr th {\n",
              "        vertical-align: top;\n",
              "    }\n",
              "\n",
              "    .dataframe thead th {\n",
              "        text-align: right;\n",
              "    }\n",
              "</style>\n",
              "<table border=\"1\" class=\"dataframe\">\n",
              "  <thead>\n",
              "    <tr style=\"text-align: right;\">\n",
              "      <th></th>\n",
              "      <th>Simulation results: S2 test based TTI</th>\n",
              "    </tr>\n",
              "  </thead>\n",
              "  <tbody>\n",
              "    <tr>\n",
              "      <th>Base R</th>\n",
              "      <td>3.9</td>\n",
              "    </tr>\n",
              "    <tr>\n",
              "      <th>Effective R</th>\n",
              "      <td>1.8</td>\n",
              "    </tr>\n",
              "    <tr>\n",
              "      <th># Manual Traces (k per day)</th>\n",
              "      <td>191.3</td>\n",
              "    </tr>\n",
              "    <tr>\n",
              "      <th># App Traces (k per day)</th>\n",
              "      <td>27.7</td>\n",
              "    </tr>\n",
              "    <tr>\n",
              "      <th># Tests Needed (k per day)</th>\n",
              "      <td>90.0</td>\n",
              "    </tr>\n",
              "  </tbody>\n",
              "</table>\n",
              "</div>"
            ],
            "text/plain": [
              "                             Simulation results: S2 test based TTI\n",
              "Base R                                                         3.9\n",
              "Effective R                                                    1.8\n",
              "# Manual Traces (k per day)                                  191.3\n",
              "# App Traces (k per day)                                      27.7\n",
              "# Tests Needed (k per day)                                    90.0"
            ]
          },
          "metadata": {
            "tags": []
          }
        },
        {
          "output_type": "display_data",
          "data": {
            "text/html": [
              "<div>\n",
              "<style scoped>\n",
              "    .dataframe tbody tr th:only-of-type {\n",
              "        vertical-align: middle;\n",
              "    }\n",
              "\n",
              "    .dataframe tbody tr th {\n",
              "        vertical-align: top;\n",
              "    }\n",
              "\n",
              "    .dataframe thead th {\n",
              "        text-align: right;\n",
              "    }\n",
              "</style>\n",
              "<table border=\"1\" class=\"dataframe\">\n",
              "  <thead>\n",
              "    <tr style=\"text-align: right;\">\n",
              "      <th></th>\n",
              "      <th>Simulation results: S2 test based TTI</th>\n",
              "    </tr>\n",
              "  </thead>\n",
              "  <tbody>\n",
              "    <tr>\n",
              "      <th>Base R</th>\n",
              "      <td>3.7</td>\n",
              "    </tr>\n",
              "    <tr>\n",
              "      <th>Effective R</th>\n",
              "      <td>1.8</td>\n",
              "    </tr>\n",
              "    <tr>\n",
              "      <th># Manual Traces (k per day)</th>\n",
              "      <td>171.6</td>\n",
              "    </tr>\n",
              "    <tr>\n",
              "      <th># App Traces (k per day)</th>\n",
              "      <td>24.1</td>\n",
              "    </tr>\n",
              "    <tr>\n",
              "      <th># Tests Needed (k per day)</th>\n",
              "      <td>89.6</td>\n",
              "    </tr>\n",
              "  </tbody>\n",
              "</table>\n",
              "</div>"
            ],
            "text/plain": [
              "                             Simulation results: S2 test based TTI\n",
              "Base R                                                         3.7\n",
              "Effective R                                                    1.8\n",
              "# Manual Traces (k per day)                                  171.6\n",
              "# App Traces (k per day)                                      24.1\n",
              "# Tests Needed (k per day)                                    89.6"
            ]
          },
          "metadata": {
            "tags": []
          }
        },
        {
          "output_type": "display_data",
          "data": {
            "text/html": [
              "<div>\n",
              "<style scoped>\n",
              "    .dataframe tbody tr th:only-of-type {\n",
              "        vertical-align: middle;\n",
              "    }\n",
              "\n",
              "    .dataframe tbody tr th {\n",
              "        vertical-align: top;\n",
              "    }\n",
              "\n",
              "    .dataframe thead th {\n",
              "        text-align: right;\n",
              "    }\n",
              "</style>\n",
              "<table border=\"1\" class=\"dataframe\">\n",
              "  <thead>\n",
              "    <tr style=\"text-align: right;\">\n",
              "      <th></th>\n",
              "      <th>Simulation results: S2 test based TTI</th>\n",
              "    </tr>\n",
              "  </thead>\n",
              "  <tbody>\n",
              "    <tr>\n",
              "      <th>Base R</th>\n",
              "      <td>3.9</td>\n",
              "    </tr>\n",
              "    <tr>\n",
              "      <th>Effective R</th>\n",
              "      <td>1.7</td>\n",
              "    </tr>\n",
              "    <tr>\n",
              "      <th># Manual Traces (k per day)</th>\n",
              "      <td>202.1</td>\n",
              "    </tr>\n",
              "    <tr>\n",
              "      <th># App Traces (k per day)</th>\n",
              "      <td>34.8</td>\n",
              "    </tr>\n",
              "    <tr>\n",
              "      <th># Tests Needed (k per day)</th>\n",
              "      <td>89.5</td>\n",
              "    </tr>\n",
              "  </tbody>\n",
              "</table>\n",
              "</div>"
            ],
            "text/plain": [
              "                             Simulation results: S2 test based TTI\n",
              "Base R                                                         3.9\n",
              "Effective R                                                    1.7\n",
              "# Manual Traces (k per day)                                  202.1\n",
              "# App Traces (k per day)                                      34.8\n",
              "# Tests Needed (k per day)                                    89.5"
            ]
          },
          "metadata": {
            "tags": []
          }
        },
        {
          "output_type": "display_data",
          "data": {
            "text/html": [
              "<div>\n",
              "<style scoped>\n",
              "    .dataframe tbody tr th:only-of-type {\n",
              "        vertical-align: middle;\n",
              "    }\n",
              "\n",
              "    .dataframe tbody tr th {\n",
              "        vertical-align: top;\n",
              "    }\n",
              "\n",
              "    .dataframe thead th {\n",
              "        text-align: right;\n",
              "    }\n",
              "</style>\n",
              "<table border=\"1\" class=\"dataframe\">\n",
              "  <thead>\n",
              "    <tr style=\"text-align: right;\">\n",
              "      <th></th>\n",
              "      <th>Simulation results: S2 test based TTI</th>\n",
              "    </tr>\n",
              "  </thead>\n",
              "  <tbody>\n",
              "    <tr>\n",
              "      <th>Base R</th>\n",
              "      <td>3.8</td>\n",
              "    </tr>\n",
              "    <tr>\n",
              "      <th>Effective R</th>\n",
              "      <td>1.8</td>\n",
              "    </tr>\n",
              "    <tr>\n",
              "      <th># Manual Traces (k per day)</th>\n",
              "      <td>192.7</td>\n",
              "    </tr>\n",
              "    <tr>\n",
              "      <th># App Traces (k per day)</th>\n",
              "      <td>31.0</td>\n",
              "    </tr>\n",
              "    <tr>\n",
              "      <th># Tests Needed (k per day)</th>\n",
              "      <td>89.5</td>\n",
              "    </tr>\n",
              "  </tbody>\n",
              "</table>\n",
              "</div>"
            ],
            "text/plain": [
              "                             Simulation results: S2 test based TTI\n",
              "Base R                                                         3.8\n",
              "Effective R                                                    1.8\n",
              "# Manual Traces (k per day)                                  192.7\n",
              "# App Traces (k per day)                                      31.0\n",
              "# Tests Needed (k per day)                                    89.5"
            ]
          },
          "metadata": {
            "tags": []
          }
        },
        {
          "output_type": "display_data",
          "data": {
            "text/html": [
              "<div>\n",
              "<style scoped>\n",
              "    .dataframe tbody tr th:only-of-type {\n",
              "        vertical-align: middle;\n",
              "    }\n",
              "\n",
              "    .dataframe tbody tr th {\n",
              "        vertical-align: top;\n",
              "    }\n",
              "\n",
              "    .dataframe thead th {\n",
              "        text-align: right;\n",
              "    }\n",
              "</style>\n",
              "<table border=\"1\" class=\"dataframe\">\n",
              "  <thead>\n",
              "    <tr style=\"text-align: right;\">\n",
              "      <th></th>\n",
              "      <th>Simulation results: S2 test based TTI</th>\n",
              "    </tr>\n",
              "  </thead>\n",
              "  <tbody>\n",
              "    <tr>\n",
              "      <th>Base R</th>\n",
              "      <td>3.7</td>\n",
              "    </tr>\n",
              "    <tr>\n",
              "      <th>Effective R</th>\n",
              "      <td>1.7</td>\n",
              "    </tr>\n",
              "    <tr>\n",
              "      <th># Manual Traces (k per day)</th>\n",
              "      <td>183.3</td>\n",
              "    </tr>\n",
              "    <tr>\n",
              "      <th># App Traces (k per day)</th>\n",
              "      <td>28.1</td>\n",
              "    </tr>\n",
              "    <tr>\n",
              "      <th># Tests Needed (k per day)</th>\n",
              "      <td>89.4</td>\n",
              "    </tr>\n",
              "  </tbody>\n",
              "</table>\n",
              "</div>"
            ],
            "text/plain": [
              "                             Simulation results: S2 test based TTI\n",
              "Base R                                                         3.7\n",
              "Effective R                                                    1.7\n",
              "# Manual Traces (k per day)                                  183.3\n",
              "# App Traces (k per day)                                      28.1\n",
              "# Tests Needed (k per day)                                    89.4"
            ]
          },
          "metadata": {
            "tags": []
          }
        },
        {
          "output_type": "stream",
          "text": [
            "\n",
            "\n",
            "******************** p_under18 parameters: 0.5 ********************\n"
          ],
          "name": "stdout"
        },
        {
          "output_type": "display_data",
          "data": {
            "text/html": [
              "<div>\n",
              "<style scoped>\n",
              "    .dataframe tbody tr th:only-of-type {\n",
              "        vertical-align: middle;\n",
              "    }\n",
              "\n",
              "    .dataframe tbody tr th {\n",
              "        vertical-align: top;\n",
              "    }\n",
              "\n",
              "    .dataframe thead th {\n",
              "        text-align: right;\n",
              "    }\n",
              "</style>\n",
              "<table border=\"1\" class=\"dataframe\">\n",
              "  <thead>\n",
              "    <tr style=\"text-align: right;\">\n",
              "      <th></th>\n",
              "      <th>Simulation results: S2 test based TTI</th>\n",
              "    </tr>\n",
              "  </thead>\n",
              "  <tbody>\n",
              "    <tr>\n",
              "      <th>Base R</th>\n",
              "      <td>3.5</td>\n",
              "    </tr>\n",
              "    <tr>\n",
              "      <th>Effective R</th>\n",
              "      <td>1.6</td>\n",
              "    </tr>\n",
              "    <tr>\n",
              "      <th># Manual Traces (k per day)</th>\n",
              "      <td>177.7</td>\n",
              "    </tr>\n",
              "    <tr>\n",
              "      <th># App Traces (k per day)</th>\n",
              "      <td>24.0</td>\n",
              "    </tr>\n",
              "    <tr>\n",
              "      <th># Tests Needed (k per day)</th>\n",
              "      <td>88.8</td>\n",
              "    </tr>\n",
              "  </tbody>\n",
              "</table>\n",
              "</div>"
            ],
            "text/plain": [
              "                             Simulation results: S2 test based TTI\n",
              "Base R                                                         3.5\n",
              "Effective R                                                    1.6\n",
              "# Manual Traces (k per day)                                  177.7\n",
              "# App Traces (k per day)                                      24.0\n",
              "# Tests Needed (k per day)                                    88.8"
            ]
          },
          "metadata": {
            "tags": []
          }
        },
        {
          "output_type": "display_data",
          "data": {
            "text/html": [
              "<div>\n",
              "<style scoped>\n",
              "    .dataframe tbody tr th:only-of-type {\n",
              "        vertical-align: middle;\n",
              "    }\n",
              "\n",
              "    .dataframe tbody tr th {\n",
              "        vertical-align: top;\n",
              "    }\n",
              "\n",
              "    .dataframe thead th {\n",
              "        text-align: right;\n",
              "    }\n",
              "</style>\n",
              "<table border=\"1\" class=\"dataframe\">\n",
              "  <thead>\n",
              "    <tr style=\"text-align: right;\">\n",
              "      <th></th>\n",
              "      <th>Simulation results: S2 test based TTI</th>\n",
              "    </tr>\n",
              "  </thead>\n",
              "  <tbody>\n",
              "    <tr>\n",
              "      <th>Base R</th>\n",
              "      <td>3.4</td>\n",
              "    </tr>\n",
              "    <tr>\n",
              "      <th>Effective R</th>\n",
              "      <td>1.5</td>\n",
              "    </tr>\n",
              "    <tr>\n",
              "      <th># Manual Traces (k per day)</th>\n",
              "      <td>167.5</td>\n",
              "    </tr>\n",
              "    <tr>\n",
              "      <th># App Traces (k per day)</th>\n",
              "      <td>30.8</td>\n",
              "    </tr>\n",
              "    <tr>\n",
              "      <th># Tests Needed (k per day)</th>\n",
              "      <td>90.1</td>\n",
              "    </tr>\n",
              "  </tbody>\n",
              "</table>\n",
              "</div>"
            ],
            "text/plain": [
              "                             Simulation results: S2 test based TTI\n",
              "Base R                                                         3.4\n",
              "Effective R                                                    1.5\n",
              "# Manual Traces (k per day)                                  167.5\n",
              "# App Traces (k per day)                                      30.8\n",
              "# Tests Needed (k per day)                                    90.1"
            ]
          },
          "metadata": {
            "tags": []
          }
        },
        {
          "output_type": "display_data",
          "data": {
            "text/html": [
              "<div>\n",
              "<style scoped>\n",
              "    .dataframe tbody tr th:only-of-type {\n",
              "        vertical-align: middle;\n",
              "    }\n",
              "\n",
              "    .dataframe tbody tr th {\n",
              "        vertical-align: top;\n",
              "    }\n",
              "\n",
              "    .dataframe thead th {\n",
              "        text-align: right;\n",
              "    }\n",
              "</style>\n",
              "<table border=\"1\" class=\"dataframe\">\n",
              "  <thead>\n",
              "    <tr style=\"text-align: right;\">\n",
              "      <th></th>\n",
              "      <th>Simulation results: S2 test based TTI</th>\n",
              "    </tr>\n",
              "  </thead>\n",
              "  <tbody>\n",
              "    <tr>\n",
              "      <th>Base R</th>\n",
              "      <td>3.5</td>\n",
              "    </tr>\n",
              "    <tr>\n",
              "      <th>Effective R</th>\n",
              "      <td>1.6</td>\n",
              "    </tr>\n",
              "    <tr>\n",
              "      <th># Manual Traces (k per day)</th>\n",
              "      <td>189.7</td>\n",
              "    </tr>\n",
              "    <tr>\n",
              "      <th># App Traces (k per day)</th>\n",
              "      <td>28.5</td>\n",
              "    </tr>\n",
              "    <tr>\n",
              "      <th># Tests Needed (k per day)</th>\n",
              "      <td>90.6</td>\n",
              "    </tr>\n",
              "  </tbody>\n",
              "</table>\n",
              "</div>"
            ],
            "text/plain": [
              "                             Simulation results: S2 test based TTI\n",
              "Base R                                                         3.5\n",
              "Effective R                                                    1.6\n",
              "# Manual Traces (k per day)                                  189.7\n",
              "# App Traces (k per day)                                      28.5\n",
              "# Tests Needed (k per day)                                    90.6"
            ]
          },
          "metadata": {
            "tags": []
          }
        },
        {
          "output_type": "display_data",
          "data": {
            "text/html": [
              "<div>\n",
              "<style scoped>\n",
              "    .dataframe tbody tr th:only-of-type {\n",
              "        vertical-align: middle;\n",
              "    }\n",
              "\n",
              "    .dataframe tbody tr th {\n",
              "        vertical-align: top;\n",
              "    }\n",
              "\n",
              "    .dataframe thead th {\n",
              "        text-align: right;\n",
              "    }\n",
              "</style>\n",
              "<table border=\"1\" class=\"dataframe\">\n",
              "  <thead>\n",
              "    <tr style=\"text-align: right;\">\n",
              "      <th></th>\n",
              "      <th>Simulation results: S2 test based TTI</th>\n",
              "    </tr>\n",
              "  </thead>\n",
              "  <tbody>\n",
              "    <tr>\n",
              "      <th>Base R</th>\n",
              "      <td>3.9</td>\n",
              "    </tr>\n",
              "    <tr>\n",
              "      <th>Effective R</th>\n",
              "      <td>1.7</td>\n",
              "    </tr>\n",
              "    <tr>\n",
              "      <th># Manual Traces (k per day)</th>\n",
              "      <td>204.1</td>\n",
              "    </tr>\n",
              "    <tr>\n",
              "      <th># App Traces (k per day)</th>\n",
              "      <td>24.3</td>\n",
              "    </tr>\n",
              "    <tr>\n",
              "      <th># Tests Needed (k per day)</th>\n",
              "      <td>89.4</td>\n",
              "    </tr>\n",
              "  </tbody>\n",
              "</table>\n",
              "</div>"
            ],
            "text/plain": [
              "                             Simulation results: S2 test based TTI\n",
              "Base R                                                         3.9\n",
              "Effective R                                                    1.7\n",
              "# Manual Traces (k per day)                                  204.1\n",
              "# App Traces (k per day)                                      24.3\n",
              "# Tests Needed (k per day)                                    89.4"
            ]
          },
          "metadata": {
            "tags": []
          }
        },
        {
          "output_type": "display_data",
          "data": {
            "text/html": [
              "<div>\n",
              "<style scoped>\n",
              "    .dataframe tbody tr th:only-of-type {\n",
              "        vertical-align: middle;\n",
              "    }\n",
              "\n",
              "    .dataframe tbody tr th {\n",
              "        vertical-align: top;\n",
              "    }\n",
              "\n",
              "    .dataframe thead th {\n",
              "        text-align: right;\n",
              "    }\n",
              "</style>\n",
              "<table border=\"1\" class=\"dataframe\">\n",
              "  <thead>\n",
              "    <tr style=\"text-align: right;\">\n",
              "      <th></th>\n",
              "      <th>Simulation results: S2 test based TTI</th>\n",
              "    </tr>\n",
              "  </thead>\n",
              "  <tbody>\n",
              "    <tr>\n",
              "      <th>Base R</th>\n",
              "      <td>3.5</td>\n",
              "    </tr>\n",
              "    <tr>\n",
              "      <th>Effective R</th>\n",
              "      <td>1.7</td>\n",
              "    </tr>\n",
              "    <tr>\n",
              "      <th># Manual Traces (k per day)</th>\n",
              "      <td>157.5</td>\n",
              "    </tr>\n",
              "    <tr>\n",
              "      <th># App Traces (k per day)</th>\n",
              "      <td>19.5</td>\n",
              "    </tr>\n",
              "    <tr>\n",
              "      <th># Tests Needed (k per day)</th>\n",
              "      <td>89.3</td>\n",
              "    </tr>\n",
              "  </tbody>\n",
              "</table>\n",
              "</div>"
            ],
            "text/plain": [
              "                             Simulation results: S2 test based TTI\n",
              "Base R                                                         3.5\n",
              "Effective R                                                    1.7\n",
              "# Manual Traces (k per day)                                  157.5\n",
              "# App Traces (k per day)                                      19.5\n",
              "# Tests Needed (k per day)                                    89.3"
            ]
          },
          "metadata": {
            "tags": []
          }
        },
        {
          "output_type": "stream",
          "text": [
            "\n",
            "\n",
            "******************** p_under18 parameters: 0.6 ********************\n"
          ],
          "name": "stdout"
        },
        {
          "output_type": "display_data",
          "data": {
            "text/html": [
              "<div>\n",
              "<style scoped>\n",
              "    .dataframe tbody tr th:only-of-type {\n",
              "        vertical-align: middle;\n",
              "    }\n",
              "\n",
              "    .dataframe tbody tr th {\n",
              "        vertical-align: top;\n",
              "    }\n",
              "\n",
              "    .dataframe thead th {\n",
              "        text-align: right;\n",
              "    }\n",
              "</style>\n",
              "<table border=\"1\" class=\"dataframe\">\n",
              "  <thead>\n",
              "    <tr style=\"text-align: right;\">\n",
              "      <th></th>\n",
              "      <th>Simulation results: S2 test based TTI</th>\n",
              "    </tr>\n",
              "  </thead>\n",
              "  <tbody>\n",
              "    <tr>\n",
              "      <th>Base R</th>\n",
              "      <td>3.6</td>\n",
              "    </tr>\n",
              "    <tr>\n",
              "      <th>Effective R</th>\n",
              "      <td>1.7</td>\n",
              "    </tr>\n",
              "    <tr>\n",
              "      <th># Manual Traces (k per day)</th>\n",
              "      <td>171.2</td>\n",
              "    </tr>\n",
              "    <tr>\n",
              "      <th># App Traces (k per day)</th>\n",
              "      <td>21.6</td>\n",
              "    </tr>\n",
              "    <tr>\n",
              "      <th># Tests Needed (k per day)</th>\n",
              "      <td>88.5</td>\n",
              "    </tr>\n",
              "  </tbody>\n",
              "</table>\n",
              "</div>"
            ],
            "text/plain": [
              "                             Simulation results: S2 test based TTI\n",
              "Base R                                                         3.6\n",
              "Effective R                                                    1.7\n",
              "# Manual Traces (k per day)                                  171.2\n",
              "# App Traces (k per day)                                      21.6\n",
              "# Tests Needed (k per day)                                    88.5"
            ]
          },
          "metadata": {
            "tags": []
          }
        },
        {
          "output_type": "display_data",
          "data": {
            "text/html": [
              "<div>\n",
              "<style scoped>\n",
              "    .dataframe tbody tr th:only-of-type {\n",
              "        vertical-align: middle;\n",
              "    }\n",
              "\n",
              "    .dataframe tbody tr th {\n",
              "        vertical-align: top;\n",
              "    }\n",
              "\n",
              "    .dataframe thead th {\n",
              "        text-align: right;\n",
              "    }\n",
              "</style>\n",
              "<table border=\"1\" class=\"dataframe\">\n",
              "  <thead>\n",
              "    <tr style=\"text-align: right;\">\n",
              "      <th></th>\n",
              "      <th>Simulation results: S2 test based TTI</th>\n",
              "    </tr>\n",
              "  </thead>\n",
              "  <tbody>\n",
              "    <tr>\n",
              "      <th>Base R</th>\n",
              "      <td>3.6</td>\n",
              "    </tr>\n",
              "    <tr>\n",
              "      <th>Effective R</th>\n",
              "      <td>1.7</td>\n",
              "    </tr>\n",
              "    <tr>\n",
              "      <th># Manual Traces (k per day)</th>\n",
              "      <td>181.3</td>\n",
              "    </tr>\n",
              "    <tr>\n",
              "      <th># App Traces (k per day)</th>\n",
              "      <td>26.6</td>\n",
              "    </tr>\n",
              "    <tr>\n",
              "      <th># Tests Needed (k per day)</th>\n",
              "      <td>89.3</td>\n",
              "    </tr>\n",
              "  </tbody>\n",
              "</table>\n",
              "</div>"
            ],
            "text/plain": [
              "                             Simulation results: S2 test based TTI\n",
              "Base R                                                         3.6\n",
              "Effective R                                                    1.7\n",
              "# Manual Traces (k per day)                                  181.3\n",
              "# App Traces (k per day)                                      26.6\n",
              "# Tests Needed (k per day)                                    89.3"
            ]
          },
          "metadata": {
            "tags": []
          }
        },
        {
          "output_type": "display_data",
          "data": {
            "text/html": [
              "<div>\n",
              "<style scoped>\n",
              "    .dataframe tbody tr th:only-of-type {\n",
              "        vertical-align: middle;\n",
              "    }\n",
              "\n",
              "    .dataframe tbody tr th {\n",
              "        vertical-align: top;\n",
              "    }\n",
              "\n",
              "    .dataframe thead th {\n",
              "        text-align: right;\n",
              "    }\n",
              "</style>\n",
              "<table border=\"1\" class=\"dataframe\">\n",
              "  <thead>\n",
              "    <tr style=\"text-align: right;\">\n",
              "      <th></th>\n",
              "      <th>Simulation results: S2 test based TTI</th>\n",
              "    </tr>\n",
              "  </thead>\n",
              "  <tbody>\n",
              "    <tr>\n",
              "      <th>Base R</th>\n",
              "      <td>3.5</td>\n",
              "    </tr>\n",
              "    <tr>\n",
              "      <th>Effective R</th>\n",
              "      <td>1.6</td>\n",
              "    </tr>\n",
              "    <tr>\n",
              "      <th># Manual Traces (k per day)</th>\n",
              "      <td>162.2</td>\n",
              "    </tr>\n",
              "    <tr>\n",
              "      <th># App Traces (k per day)</th>\n",
              "      <td>26.6</td>\n",
              "    </tr>\n",
              "    <tr>\n",
              "      <th># Tests Needed (k per day)</th>\n",
              "      <td>88.4</td>\n",
              "    </tr>\n",
              "  </tbody>\n",
              "</table>\n",
              "</div>"
            ],
            "text/plain": [
              "                             Simulation results: S2 test based TTI\n",
              "Base R                                                         3.5\n",
              "Effective R                                                    1.6\n",
              "# Manual Traces (k per day)                                  162.2\n",
              "# App Traces (k per day)                                      26.6\n",
              "# Tests Needed (k per day)                                    88.4"
            ]
          },
          "metadata": {
            "tags": []
          }
        },
        {
          "output_type": "display_data",
          "data": {
            "text/html": [
              "<div>\n",
              "<style scoped>\n",
              "    .dataframe tbody tr th:only-of-type {\n",
              "        vertical-align: middle;\n",
              "    }\n",
              "\n",
              "    .dataframe tbody tr th {\n",
              "        vertical-align: top;\n",
              "    }\n",
              "\n",
              "    .dataframe thead th {\n",
              "        text-align: right;\n",
              "    }\n",
              "</style>\n",
              "<table border=\"1\" class=\"dataframe\">\n",
              "  <thead>\n",
              "    <tr style=\"text-align: right;\">\n",
              "      <th></th>\n",
              "      <th>Simulation results: S2 test based TTI</th>\n",
              "    </tr>\n",
              "  </thead>\n",
              "  <tbody>\n",
              "    <tr>\n",
              "      <th>Base R</th>\n",
              "      <td>3.3</td>\n",
              "    </tr>\n",
              "    <tr>\n",
              "      <th>Effective R</th>\n",
              "      <td>1.5</td>\n",
              "    </tr>\n",
              "    <tr>\n",
              "      <th># Manual Traces (k per day)</th>\n",
              "      <td>162.1</td>\n",
              "    </tr>\n",
              "    <tr>\n",
              "      <th># App Traces (k per day)</th>\n",
              "      <td>27.9</td>\n",
              "    </tr>\n",
              "    <tr>\n",
              "      <th># Tests Needed (k per day)</th>\n",
              "      <td>89.3</td>\n",
              "    </tr>\n",
              "  </tbody>\n",
              "</table>\n",
              "</div>"
            ],
            "text/plain": [
              "                             Simulation results: S2 test based TTI\n",
              "Base R                                                         3.3\n",
              "Effective R                                                    1.5\n",
              "# Manual Traces (k per day)                                  162.1\n",
              "# App Traces (k per day)                                      27.9\n",
              "# Tests Needed (k per day)                                    89.3"
            ]
          },
          "metadata": {
            "tags": []
          }
        },
        {
          "output_type": "display_data",
          "data": {
            "text/html": [
              "<div>\n",
              "<style scoped>\n",
              "    .dataframe tbody tr th:only-of-type {\n",
              "        vertical-align: middle;\n",
              "    }\n",
              "\n",
              "    .dataframe tbody tr th {\n",
              "        vertical-align: top;\n",
              "    }\n",
              "\n",
              "    .dataframe thead th {\n",
              "        text-align: right;\n",
              "    }\n",
              "</style>\n",
              "<table border=\"1\" class=\"dataframe\">\n",
              "  <thead>\n",
              "    <tr style=\"text-align: right;\">\n",
              "      <th></th>\n",
              "      <th>Simulation results: S2 test based TTI</th>\n",
              "    </tr>\n",
              "  </thead>\n",
              "  <tbody>\n",
              "    <tr>\n",
              "      <th>Base R</th>\n",
              "      <td>3.5</td>\n",
              "    </tr>\n",
              "    <tr>\n",
              "      <th>Effective R</th>\n",
              "      <td>1.6</td>\n",
              "    </tr>\n",
              "    <tr>\n",
              "      <th># Manual Traces (k per day)</th>\n",
              "      <td>180.5</td>\n",
              "    </tr>\n",
              "    <tr>\n",
              "      <th># App Traces (k per day)</th>\n",
              "      <td>23.4</td>\n",
              "    </tr>\n",
              "    <tr>\n",
              "      <th># Tests Needed (k per day)</th>\n",
              "      <td>90.4</td>\n",
              "    </tr>\n",
              "  </tbody>\n",
              "</table>\n",
              "</div>"
            ],
            "text/plain": [
              "                             Simulation results: S2 test based TTI\n",
              "Base R                                                         3.5\n",
              "Effective R                                                    1.6\n",
              "# Manual Traces (k per day)                                  180.5\n",
              "# App Traces (k per day)                                      23.4\n",
              "# Tests Needed (k per day)                                    90.4"
            ]
          },
          "metadata": {
            "tags": []
          }
        },
        {
          "output_type": "stream",
          "text": [
            "\n",
            "\n",
            "******************** p_under18 parameters: 0.7 ********************\n"
          ],
          "name": "stdout"
        },
        {
          "output_type": "display_data",
          "data": {
            "text/html": [
              "<div>\n",
              "<style scoped>\n",
              "    .dataframe tbody tr th:only-of-type {\n",
              "        vertical-align: middle;\n",
              "    }\n",
              "\n",
              "    .dataframe tbody tr th {\n",
              "        vertical-align: top;\n",
              "    }\n",
              "\n",
              "    .dataframe thead th {\n",
              "        text-align: right;\n",
              "    }\n",
              "</style>\n",
              "<table border=\"1\" class=\"dataframe\">\n",
              "  <thead>\n",
              "    <tr style=\"text-align: right;\">\n",
              "      <th></th>\n",
              "      <th>Simulation results: S2 test based TTI</th>\n",
              "    </tr>\n",
              "  </thead>\n",
              "  <tbody>\n",
              "    <tr>\n",
              "      <th>Base R</th>\n",
              "      <td>3.3</td>\n",
              "    </tr>\n",
              "    <tr>\n",
              "      <th>Effective R</th>\n",
              "      <td>1.6</td>\n",
              "    </tr>\n",
              "    <tr>\n",
              "      <th># Manual Traces (k per day)</th>\n",
              "      <td>179.7</td>\n",
              "    </tr>\n",
              "    <tr>\n",
              "      <th># App Traces (k per day)</th>\n",
              "      <td>31.7</td>\n",
              "    </tr>\n",
              "    <tr>\n",
              "      <th># Tests Needed (k per day)</th>\n",
              "      <td>90.1</td>\n",
              "    </tr>\n",
              "  </tbody>\n",
              "</table>\n",
              "</div>"
            ],
            "text/plain": [
              "                             Simulation results: S2 test based TTI\n",
              "Base R                                                         3.3\n",
              "Effective R                                                    1.6\n",
              "# Manual Traces (k per day)                                  179.7\n",
              "# App Traces (k per day)                                      31.7\n",
              "# Tests Needed (k per day)                                    90.1"
            ]
          },
          "metadata": {
            "tags": []
          }
        },
        {
          "output_type": "display_data",
          "data": {
            "text/html": [
              "<div>\n",
              "<style scoped>\n",
              "    .dataframe tbody tr th:only-of-type {\n",
              "        vertical-align: middle;\n",
              "    }\n",
              "\n",
              "    .dataframe tbody tr th {\n",
              "        vertical-align: top;\n",
              "    }\n",
              "\n",
              "    .dataframe thead th {\n",
              "        text-align: right;\n",
              "    }\n",
              "</style>\n",
              "<table border=\"1\" class=\"dataframe\">\n",
              "  <thead>\n",
              "    <tr style=\"text-align: right;\">\n",
              "      <th></th>\n",
              "      <th>Simulation results: S2 test based TTI</th>\n",
              "    </tr>\n",
              "  </thead>\n",
              "  <tbody>\n",
              "    <tr>\n",
              "      <th>Base R</th>\n",
              "      <td>3.4</td>\n",
              "    </tr>\n",
              "    <tr>\n",
              "      <th>Effective R</th>\n",
              "      <td>1.7</td>\n",
              "    </tr>\n",
              "    <tr>\n",
              "      <th># Manual Traces (k per day)</th>\n",
              "      <td>170.1</td>\n",
              "    </tr>\n",
              "    <tr>\n",
              "      <th># App Traces (k per day)</th>\n",
              "      <td>25.6</td>\n",
              "    </tr>\n",
              "    <tr>\n",
              "      <th># Tests Needed (k per day)</th>\n",
              "      <td>89.4</td>\n",
              "    </tr>\n",
              "  </tbody>\n",
              "</table>\n",
              "</div>"
            ],
            "text/plain": [
              "                             Simulation results: S2 test based TTI\n",
              "Base R                                                         3.4\n",
              "Effective R                                                    1.7\n",
              "# Manual Traces (k per day)                                  170.1\n",
              "# App Traces (k per day)                                      25.6\n",
              "# Tests Needed (k per day)                                    89.4"
            ]
          },
          "metadata": {
            "tags": []
          }
        },
        {
          "output_type": "display_data",
          "data": {
            "text/html": [
              "<div>\n",
              "<style scoped>\n",
              "    .dataframe tbody tr th:only-of-type {\n",
              "        vertical-align: middle;\n",
              "    }\n",
              "\n",
              "    .dataframe tbody tr th {\n",
              "        vertical-align: top;\n",
              "    }\n",
              "\n",
              "    .dataframe thead th {\n",
              "        text-align: right;\n",
              "    }\n",
              "</style>\n",
              "<table border=\"1\" class=\"dataframe\">\n",
              "  <thead>\n",
              "    <tr style=\"text-align: right;\">\n",
              "      <th></th>\n",
              "      <th>Simulation results: S2 test based TTI</th>\n",
              "    </tr>\n",
              "  </thead>\n",
              "  <tbody>\n",
              "    <tr>\n",
              "      <th>Base R</th>\n",
              "      <td>3.5</td>\n",
              "    </tr>\n",
              "    <tr>\n",
              "      <th>Effective R</th>\n",
              "      <td>1.5</td>\n",
              "    </tr>\n",
              "    <tr>\n",
              "      <th># Manual Traces (k per day)</th>\n",
              "      <td>186.2</td>\n",
              "    </tr>\n",
              "    <tr>\n",
              "      <th># App Traces (k per day)</th>\n",
              "      <td>30.0</td>\n",
              "    </tr>\n",
              "    <tr>\n",
              "      <th># Tests Needed (k per day)</th>\n",
              "      <td>90.5</td>\n",
              "    </tr>\n",
              "  </tbody>\n",
              "</table>\n",
              "</div>"
            ],
            "text/plain": [
              "                             Simulation results: S2 test based TTI\n",
              "Base R                                                         3.5\n",
              "Effective R                                                    1.5\n",
              "# Manual Traces (k per day)                                  186.2\n",
              "# App Traces (k per day)                                      30.0\n",
              "# Tests Needed (k per day)                                    90.5"
            ]
          },
          "metadata": {
            "tags": []
          }
        },
        {
          "output_type": "display_data",
          "data": {
            "text/html": [
              "<div>\n",
              "<style scoped>\n",
              "    .dataframe tbody tr th:only-of-type {\n",
              "        vertical-align: middle;\n",
              "    }\n",
              "\n",
              "    .dataframe tbody tr th {\n",
              "        vertical-align: top;\n",
              "    }\n",
              "\n",
              "    .dataframe thead th {\n",
              "        text-align: right;\n",
              "    }\n",
              "</style>\n",
              "<table border=\"1\" class=\"dataframe\">\n",
              "  <thead>\n",
              "    <tr style=\"text-align: right;\">\n",
              "      <th></th>\n",
              "      <th>Simulation results: S2 test based TTI</th>\n",
              "    </tr>\n",
              "  </thead>\n",
              "  <tbody>\n",
              "    <tr>\n",
              "      <th>Base R</th>\n",
              "      <td>3.3</td>\n",
              "    </tr>\n",
              "    <tr>\n",
              "      <th>Effective R</th>\n",
              "      <td>1.5</td>\n",
              "    </tr>\n",
              "    <tr>\n",
              "      <th># Manual Traces (k per day)</th>\n",
              "      <td>180.2</td>\n",
              "    </tr>\n",
              "    <tr>\n",
              "      <th># App Traces (k per day)</th>\n",
              "      <td>30.5</td>\n",
              "    </tr>\n",
              "    <tr>\n",
              "      <th># Tests Needed (k per day)</th>\n",
              "      <td>89.5</td>\n",
              "    </tr>\n",
              "  </tbody>\n",
              "</table>\n",
              "</div>"
            ],
            "text/plain": [
              "                             Simulation results: S2 test based TTI\n",
              "Base R                                                         3.3\n",
              "Effective R                                                    1.5\n",
              "# Manual Traces (k per day)                                  180.2\n",
              "# App Traces (k per day)                                      30.5\n",
              "# Tests Needed (k per day)                                    89.5"
            ]
          },
          "metadata": {
            "tags": []
          }
        },
        {
          "output_type": "display_data",
          "data": {
            "text/html": [
              "<div>\n",
              "<style scoped>\n",
              "    .dataframe tbody tr th:only-of-type {\n",
              "        vertical-align: middle;\n",
              "    }\n",
              "\n",
              "    .dataframe tbody tr th {\n",
              "        vertical-align: top;\n",
              "    }\n",
              "\n",
              "    .dataframe thead th {\n",
              "        text-align: right;\n",
              "    }\n",
              "</style>\n",
              "<table border=\"1\" class=\"dataframe\">\n",
              "  <thead>\n",
              "    <tr style=\"text-align: right;\">\n",
              "      <th></th>\n",
              "      <th>Simulation results: S2 test based TTI</th>\n",
              "    </tr>\n",
              "  </thead>\n",
              "  <tbody>\n",
              "    <tr>\n",
              "      <th>Base R</th>\n",
              "      <td>3.4</td>\n",
              "    </tr>\n",
              "    <tr>\n",
              "      <th>Effective R</th>\n",
              "      <td>1.7</td>\n",
              "    </tr>\n",
              "    <tr>\n",
              "      <th># Manual Traces (k per day)</th>\n",
              "      <td>163.0</td>\n",
              "    </tr>\n",
              "    <tr>\n",
              "      <th># App Traces (k per day)</th>\n",
              "      <td>23.7</td>\n",
              "    </tr>\n",
              "    <tr>\n",
              "      <th># Tests Needed (k per day)</th>\n",
              "      <td>90.2</td>\n",
              "    </tr>\n",
              "  </tbody>\n",
              "</table>\n",
              "</div>"
            ],
            "text/plain": [
              "                             Simulation results: S2 test based TTI\n",
              "Base R                                                         3.4\n",
              "Effective R                                                    1.7\n",
              "# Manual Traces (k per day)                                  163.0\n",
              "# App Traces (k per day)                                      23.7\n",
              "# Tests Needed (k per day)                                    90.2"
            ]
          },
          "metadata": {
            "tags": []
          }
        },
        {
          "output_type": "stream",
          "text": [
            "\n",
            "\n",
            "******************** p_under18 parameters: 0.8 ********************\n"
          ],
          "name": "stdout"
        },
        {
          "output_type": "display_data",
          "data": {
            "text/html": [
              "<div>\n",
              "<style scoped>\n",
              "    .dataframe tbody tr th:only-of-type {\n",
              "        vertical-align: middle;\n",
              "    }\n",
              "\n",
              "    .dataframe tbody tr th {\n",
              "        vertical-align: top;\n",
              "    }\n",
              "\n",
              "    .dataframe thead th {\n",
              "        text-align: right;\n",
              "    }\n",
              "</style>\n",
              "<table border=\"1\" class=\"dataframe\">\n",
              "  <thead>\n",
              "    <tr style=\"text-align: right;\">\n",
              "      <th></th>\n",
              "      <th>Simulation results: S2 test based TTI</th>\n",
              "    </tr>\n",
              "  </thead>\n",
              "  <tbody>\n",
              "    <tr>\n",
              "      <th>Base R</th>\n",
              "      <td>3.7</td>\n",
              "    </tr>\n",
              "    <tr>\n",
              "      <th>Effective R</th>\n",
              "      <td>1.7</td>\n",
              "    </tr>\n",
              "    <tr>\n",
              "      <th># Manual Traces (k per day)</th>\n",
              "      <td>183.0</td>\n",
              "    </tr>\n",
              "    <tr>\n",
              "      <th># App Traces (k per day)</th>\n",
              "      <td>31.2</td>\n",
              "    </tr>\n",
              "    <tr>\n",
              "      <th># Tests Needed (k per day)</th>\n",
              "      <td>89.6</td>\n",
              "    </tr>\n",
              "  </tbody>\n",
              "</table>\n",
              "</div>"
            ],
            "text/plain": [
              "                             Simulation results: S2 test based TTI\n",
              "Base R                                                         3.7\n",
              "Effective R                                                    1.7\n",
              "# Manual Traces (k per day)                                  183.0\n",
              "# App Traces (k per day)                                      31.2\n",
              "# Tests Needed (k per day)                                    89.6"
            ]
          },
          "metadata": {
            "tags": []
          }
        },
        {
          "output_type": "display_data",
          "data": {
            "text/html": [
              "<div>\n",
              "<style scoped>\n",
              "    .dataframe tbody tr th:only-of-type {\n",
              "        vertical-align: middle;\n",
              "    }\n",
              "\n",
              "    .dataframe tbody tr th {\n",
              "        vertical-align: top;\n",
              "    }\n",
              "\n",
              "    .dataframe thead th {\n",
              "        text-align: right;\n",
              "    }\n",
              "</style>\n",
              "<table border=\"1\" class=\"dataframe\">\n",
              "  <thead>\n",
              "    <tr style=\"text-align: right;\">\n",
              "      <th></th>\n",
              "      <th>Simulation results: S2 test based TTI</th>\n",
              "    </tr>\n",
              "  </thead>\n",
              "  <tbody>\n",
              "    <tr>\n",
              "      <th>Base R</th>\n",
              "      <td>3.3</td>\n",
              "    </tr>\n",
              "    <tr>\n",
              "      <th>Effective R</th>\n",
              "      <td>1.6</td>\n",
              "    </tr>\n",
              "    <tr>\n",
              "      <th># Manual Traces (k per day)</th>\n",
              "      <td>193.8</td>\n",
              "    </tr>\n",
              "    <tr>\n",
              "      <th># App Traces (k per day)</th>\n",
              "      <td>25.5</td>\n",
              "    </tr>\n",
              "    <tr>\n",
              "      <th># Tests Needed (k per day)</th>\n",
              "      <td>88.8</td>\n",
              "    </tr>\n",
              "  </tbody>\n",
              "</table>\n",
              "</div>"
            ],
            "text/plain": [
              "                             Simulation results: S2 test based TTI\n",
              "Base R                                                         3.3\n",
              "Effective R                                                    1.6\n",
              "# Manual Traces (k per day)                                  193.8\n",
              "# App Traces (k per day)                                      25.5\n",
              "# Tests Needed (k per day)                                    88.8"
            ]
          },
          "metadata": {
            "tags": []
          }
        },
        {
          "output_type": "display_data",
          "data": {
            "text/html": [
              "<div>\n",
              "<style scoped>\n",
              "    .dataframe tbody tr th:only-of-type {\n",
              "        vertical-align: middle;\n",
              "    }\n",
              "\n",
              "    .dataframe tbody tr th {\n",
              "        vertical-align: top;\n",
              "    }\n",
              "\n",
              "    .dataframe thead th {\n",
              "        text-align: right;\n",
              "    }\n",
              "</style>\n",
              "<table border=\"1\" class=\"dataframe\">\n",
              "  <thead>\n",
              "    <tr style=\"text-align: right;\">\n",
              "      <th></th>\n",
              "      <th>Simulation results: S2 test based TTI</th>\n",
              "    </tr>\n",
              "  </thead>\n",
              "  <tbody>\n",
              "    <tr>\n",
              "      <th>Base R</th>\n",
              "      <td>3.3</td>\n",
              "    </tr>\n",
              "    <tr>\n",
              "      <th>Effective R</th>\n",
              "      <td>1.6</td>\n",
              "    </tr>\n",
              "    <tr>\n",
              "      <th># Manual Traces (k per day)</th>\n",
              "      <td>199.3</td>\n",
              "    </tr>\n",
              "    <tr>\n",
              "      <th># App Traces (k per day)</th>\n",
              "      <td>28.9</td>\n",
              "    </tr>\n",
              "    <tr>\n",
              "      <th># Tests Needed (k per day)</th>\n",
              "      <td>88.5</td>\n",
              "    </tr>\n",
              "  </tbody>\n",
              "</table>\n",
              "</div>"
            ],
            "text/plain": [
              "                             Simulation results: S2 test based TTI\n",
              "Base R                                                         3.3\n",
              "Effective R                                                    1.6\n",
              "# Manual Traces (k per day)                                  199.3\n",
              "# App Traces (k per day)                                      28.9\n",
              "# Tests Needed (k per day)                                    88.5"
            ]
          },
          "metadata": {
            "tags": []
          }
        },
        {
          "output_type": "display_data",
          "data": {
            "text/html": [
              "<div>\n",
              "<style scoped>\n",
              "    .dataframe tbody tr th:only-of-type {\n",
              "        vertical-align: middle;\n",
              "    }\n",
              "\n",
              "    .dataframe tbody tr th {\n",
              "        vertical-align: top;\n",
              "    }\n",
              "\n",
              "    .dataframe thead th {\n",
              "        text-align: right;\n",
              "    }\n",
              "</style>\n",
              "<table border=\"1\" class=\"dataframe\">\n",
              "  <thead>\n",
              "    <tr style=\"text-align: right;\">\n",
              "      <th></th>\n",
              "      <th>Simulation results: S2 test based TTI</th>\n",
              "    </tr>\n",
              "  </thead>\n",
              "  <tbody>\n",
              "    <tr>\n",
              "      <th>Base R</th>\n",
              "      <td>3.5</td>\n",
              "    </tr>\n",
              "    <tr>\n",
              "      <th>Effective R</th>\n",
              "      <td>1.7</td>\n",
              "    </tr>\n",
              "    <tr>\n",
              "      <th># Manual Traces (k per day)</th>\n",
              "      <td>193.6</td>\n",
              "    </tr>\n",
              "    <tr>\n",
              "      <th># App Traces (k per day)</th>\n",
              "      <td>26.4</td>\n",
              "    </tr>\n",
              "    <tr>\n",
              "      <th># Tests Needed (k per day)</th>\n",
              "      <td>88.9</td>\n",
              "    </tr>\n",
              "  </tbody>\n",
              "</table>\n",
              "</div>"
            ],
            "text/plain": [
              "                             Simulation results: S2 test based TTI\n",
              "Base R                                                         3.5\n",
              "Effective R                                                    1.7\n",
              "# Manual Traces (k per day)                                  193.6\n",
              "# App Traces (k per day)                                      26.4\n",
              "# Tests Needed (k per day)                                    88.9"
            ]
          },
          "metadata": {
            "tags": []
          }
        },
        {
          "output_type": "display_data",
          "data": {
            "text/html": [
              "<div>\n",
              "<style scoped>\n",
              "    .dataframe tbody tr th:only-of-type {\n",
              "        vertical-align: middle;\n",
              "    }\n",
              "\n",
              "    .dataframe tbody tr th {\n",
              "        vertical-align: top;\n",
              "    }\n",
              "\n",
              "    .dataframe thead th {\n",
              "        text-align: right;\n",
              "    }\n",
              "</style>\n",
              "<table border=\"1\" class=\"dataframe\">\n",
              "  <thead>\n",
              "    <tr style=\"text-align: right;\">\n",
              "      <th></th>\n",
              "      <th>Simulation results: S2 test based TTI</th>\n",
              "    </tr>\n",
              "  </thead>\n",
              "  <tbody>\n",
              "    <tr>\n",
              "      <th>Base R</th>\n",
              "      <td>3.5</td>\n",
              "    </tr>\n",
              "    <tr>\n",
              "      <th>Effective R</th>\n",
              "      <td>1.7</td>\n",
              "    </tr>\n",
              "    <tr>\n",
              "      <th># Manual Traces (k per day)</th>\n",
              "      <td>194.9</td>\n",
              "    </tr>\n",
              "    <tr>\n",
              "      <th># App Traces (k per day)</th>\n",
              "      <td>22.3</td>\n",
              "    </tr>\n",
              "    <tr>\n",
              "      <th># Tests Needed (k per day)</th>\n",
              "      <td>89.5</td>\n",
              "    </tr>\n",
              "  </tbody>\n",
              "</table>\n",
              "</div>"
            ],
            "text/plain": [
              "                             Simulation results: S2 test based TTI\n",
              "Base R                                                         3.5\n",
              "Effective R                                                    1.7\n",
              "# Manual Traces (k per day)                                  194.9\n",
              "# App Traces (k per day)                                      22.3\n",
              "# Tests Needed (k per day)                                    89.5"
            ]
          },
          "metadata": {
            "tags": []
          }
        },
        {
          "output_type": "stream",
          "text": [
            "\n",
            "\n",
            "******************** p_under18 parameters: 0.9 ********************\n"
          ],
          "name": "stdout"
        },
        {
          "output_type": "display_data",
          "data": {
            "text/html": [
              "<div>\n",
              "<style scoped>\n",
              "    .dataframe tbody tr th:only-of-type {\n",
              "        vertical-align: middle;\n",
              "    }\n",
              "\n",
              "    .dataframe tbody tr th {\n",
              "        vertical-align: top;\n",
              "    }\n",
              "\n",
              "    .dataframe thead th {\n",
              "        text-align: right;\n",
              "    }\n",
              "</style>\n",
              "<table border=\"1\" class=\"dataframe\">\n",
              "  <thead>\n",
              "    <tr style=\"text-align: right;\">\n",
              "      <th></th>\n",
              "      <th>Simulation results: S2 test based TTI</th>\n",
              "    </tr>\n",
              "  </thead>\n",
              "  <tbody>\n",
              "    <tr>\n",
              "      <th>Base R</th>\n",
              "      <td>3.3</td>\n",
              "    </tr>\n",
              "    <tr>\n",
              "      <th>Effective R</th>\n",
              "      <td>1.6</td>\n",
              "    </tr>\n",
              "    <tr>\n",
              "      <th># Manual Traces (k per day)</th>\n",
              "      <td>184.5</td>\n",
              "    </tr>\n",
              "    <tr>\n",
              "      <th># App Traces (k per day)</th>\n",
              "      <td>25.7</td>\n",
              "    </tr>\n",
              "    <tr>\n",
              "      <th># Tests Needed (k per day)</th>\n",
              "      <td>89.5</td>\n",
              "    </tr>\n",
              "  </tbody>\n",
              "</table>\n",
              "</div>"
            ],
            "text/plain": [
              "                             Simulation results: S2 test based TTI\n",
              "Base R                                                         3.3\n",
              "Effective R                                                    1.6\n",
              "# Manual Traces (k per day)                                  184.5\n",
              "# App Traces (k per day)                                      25.7\n",
              "# Tests Needed (k per day)                                    89.5"
            ]
          },
          "metadata": {
            "tags": []
          }
        },
        {
          "output_type": "display_data",
          "data": {
            "text/html": [
              "<div>\n",
              "<style scoped>\n",
              "    .dataframe tbody tr th:only-of-type {\n",
              "        vertical-align: middle;\n",
              "    }\n",
              "\n",
              "    .dataframe tbody tr th {\n",
              "        vertical-align: top;\n",
              "    }\n",
              "\n",
              "    .dataframe thead th {\n",
              "        text-align: right;\n",
              "    }\n",
              "</style>\n",
              "<table border=\"1\" class=\"dataframe\">\n",
              "  <thead>\n",
              "    <tr style=\"text-align: right;\">\n",
              "      <th></th>\n",
              "      <th>Simulation results: S2 test based TTI</th>\n",
              "    </tr>\n",
              "  </thead>\n",
              "  <tbody>\n",
              "    <tr>\n",
              "      <th>Base R</th>\n",
              "      <td>3.4</td>\n",
              "    </tr>\n",
              "    <tr>\n",
              "      <th>Effective R</th>\n",
              "      <td>1.6</td>\n",
              "    </tr>\n",
              "    <tr>\n",
              "      <th># Manual Traces (k per day)</th>\n",
              "      <td>169.2</td>\n",
              "    </tr>\n",
              "    <tr>\n",
              "      <th># App Traces (k per day)</th>\n",
              "      <td>26.8</td>\n",
              "    </tr>\n",
              "    <tr>\n",
              "      <th># Tests Needed (k per day)</th>\n",
              "      <td>90.2</td>\n",
              "    </tr>\n",
              "  </tbody>\n",
              "</table>\n",
              "</div>"
            ],
            "text/plain": [
              "                             Simulation results: S2 test based TTI\n",
              "Base R                                                         3.4\n",
              "Effective R                                                    1.6\n",
              "# Manual Traces (k per day)                                  169.2\n",
              "# App Traces (k per day)                                      26.8\n",
              "# Tests Needed (k per day)                                    90.2"
            ]
          },
          "metadata": {
            "tags": []
          }
        },
        {
          "output_type": "display_data",
          "data": {
            "text/html": [
              "<div>\n",
              "<style scoped>\n",
              "    .dataframe tbody tr th:only-of-type {\n",
              "        vertical-align: middle;\n",
              "    }\n",
              "\n",
              "    .dataframe tbody tr th {\n",
              "        vertical-align: top;\n",
              "    }\n",
              "\n",
              "    .dataframe thead th {\n",
              "        text-align: right;\n",
              "    }\n",
              "</style>\n",
              "<table border=\"1\" class=\"dataframe\">\n",
              "  <thead>\n",
              "    <tr style=\"text-align: right;\">\n",
              "      <th></th>\n",
              "      <th>Simulation results: S2 test based TTI</th>\n",
              "    </tr>\n",
              "  </thead>\n",
              "  <tbody>\n",
              "    <tr>\n",
              "      <th>Base R</th>\n",
              "      <td>3.2</td>\n",
              "    </tr>\n",
              "    <tr>\n",
              "      <th>Effective R</th>\n",
              "      <td>1.6</td>\n",
              "    </tr>\n",
              "    <tr>\n",
              "      <th># Manual Traces (k per day)</th>\n",
              "      <td>168.2</td>\n",
              "    </tr>\n",
              "    <tr>\n",
              "      <th># App Traces (k per day)</th>\n",
              "      <td>25.1</td>\n",
              "    </tr>\n",
              "    <tr>\n",
              "      <th># Tests Needed (k per day)</th>\n",
              "      <td>89.3</td>\n",
              "    </tr>\n",
              "  </tbody>\n",
              "</table>\n",
              "</div>"
            ],
            "text/plain": [
              "                             Simulation results: S2 test based TTI\n",
              "Base R                                                         3.2\n",
              "Effective R                                                    1.6\n",
              "# Manual Traces (k per day)                                  168.2\n",
              "# App Traces (k per day)                                      25.1\n",
              "# Tests Needed (k per day)                                    89.3"
            ]
          },
          "metadata": {
            "tags": []
          }
        },
        {
          "output_type": "display_data",
          "data": {
            "text/html": [
              "<div>\n",
              "<style scoped>\n",
              "    .dataframe tbody tr th:only-of-type {\n",
              "        vertical-align: middle;\n",
              "    }\n",
              "\n",
              "    .dataframe tbody tr th {\n",
              "        vertical-align: top;\n",
              "    }\n",
              "\n",
              "    .dataframe thead th {\n",
              "        text-align: right;\n",
              "    }\n",
              "</style>\n",
              "<table border=\"1\" class=\"dataframe\">\n",
              "  <thead>\n",
              "    <tr style=\"text-align: right;\">\n",
              "      <th></th>\n",
              "      <th>Simulation results: S2 test based TTI</th>\n",
              "    </tr>\n",
              "  </thead>\n",
              "  <tbody>\n",
              "    <tr>\n",
              "      <th>Base R</th>\n",
              "      <td>3.1</td>\n",
              "    </tr>\n",
              "    <tr>\n",
              "      <th>Effective R</th>\n",
              "      <td>1.6</td>\n",
              "    </tr>\n",
              "    <tr>\n",
              "      <th># Manual Traces (k per day)</th>\n",
              "      <td>158.9</td>\n",
              "    </tr>\n",
              "    <tr>\n",
              "      <th># App Traces (k per day)</th>\n",
              "      <td>23.7</td>\n",
              "    </tr>\n",
              "    <tr>\n",
              "      <th># Tests Needed (k per day)</th>\n",
              "      <td>88.5</td>\n",
              "    </tr>\n",
              "  </tbody>\n",
              "</table>\n",
              "</div>"
            ],
            "text/plain": [
              "                             Simulation results: S2 test based TTI\n",
              "Base R                                                         3.1\n",
              "Effective R                                                    1.6\n",
              "# Manual Traces (k per day)                                  158.9\n",
              "# App Traces (k per day)                                      23.7\n",
              "# Tests Needed (k per day)                                    88.5"
            ]
          },
          "metadata": {
            "tags": []
          }
        },
        {
          "output_type": "display_data",
          "data": {
            "text/html": [
              "<div>\n",
              "<style scoped>\n",
              "    .dataframe tbody tr th:only-of-type {\n",
              "        vertical-align: middle;\n",
              "    }\n",
              "\n",
              "    .dataframe tbody tr th {\n",
              "        vertical-align: top;\n",
              "    }\n",
              "\n",
              "    .dataframe thead th {\n",
              "        text-align: right;\n",
              "    }\n",
              "</style>\n",
              "<table border=\"1\" class=\"dataframe\">\n",
              "  <thead>\n",
              "    <tr style=\"text-align: right;\">\n",
              "      <th></th>\n",
              "      <th>Simulation results: S2 test based TTI</th>\n",
              "    </tr>\n",
              "  </thead>\n",
              "  <tbody>\n",
              "    <tr>\n",
              "      <th>Base R</th>\n",
              "      <td>3.3</td>\n",
              "    </tr>\n",
              "    <tr>\n",
              "      <th>Effective R</th>\n",
              "      <td>1.5</td>\n",
              "    </tr>\n",
              "    <tr>\n",
              "      <th># Manual Traces (k per day)</th>\n",
              "      <td>177.1</td>\n",
              "    </tr>\n",
              "    <tr>\n",
              "      <th># App Traces (k per day)</th>\n",
              "      <td>22.3</td>\n",
              "    </tr>\n",
              "    <tr>\n",
              "      <th># Tests Needed (k per day)</th>\n",
              "      <td>89.5</td>\n",
              "    </tr>\n",
              "  </tbody>\n",
              "</table>\n",
              "</div>"
            ],
            "text/plain": [
              "                             Simulation results: S2 test based TTI\n",
              "Base R                                                         3.3\n",
              "Effective R                                                    1.5\n",
              "# Manual Traces (k per day)                                  177.1\n",
              "# App Traces (k per day)                                      22.3\n",
              "# Tests Needed (k per day)                                    89.5"
            ]
          },
          "metadata": {
            "tags": []
          }
        },
        {
          "output_type": "stream",
          "text": [
            "\n",
            "\n",
            "******************** p_under18 parameters: 1.0 ********************\n"
          ],
          "name": "stdout"
        },
        {
          "output_type": "display_data",
          "data": {
            "text/html": [
              "<div>\n",
              "<style scoped>\n",
              "    .dataframe tbody tr th:only-of-type {\n",
              "        vertical-align: middle;\n",
              "    }\n",
              "\n",
              "    .dataframe tbody tr th {\n",
              "        vertical-align: top;\n",
              "    }\n",
              "\n",
              "    .dataframe thead th {\n",
              "        text-align: right;\n",
              "    }\n",
              "</style>\n",
              "<table border=\"1\" class=\"dataframe\">\n",
              "  <thead>\n",
              "    <tr style=\"text-align: right;\">\n",
              "      <th></th>\n",
              "      <th>Simulation results: S2 test based TTI</th>\n",
              "    </tr>\n",
              "  </thead>\n",
              "  <tbody>\n",
              "    <tr>\n",
              "      <th>Base R</th>\n",
              "      <td>3.2</td>\n",
              "    </tr>\n",
              "    <tr>\n",
              "      <th>Effective R</th>\n",
              "      <td>1.6</td>\n",
              "    </tr>\n",
              "    <tr>\n",
              "      <th># Manual Traces (k per day)</th>\n",
              "      <td>175.1</td>\n",
              "    </tr>\n",
              "    <tr>\n",
              "      <th># App Traces (k per day)</th>\n",
              "      <td>29.0</td>\n",
              "    </tr>\n",
              "    <tr>\n",
              "      <th># Tests Needed (k per day)</th>\n",
              "      <td>88.6</td>\n",
              "    </tr>\n",
              "  </tbody>\n",
              "</table>\n",
              "</div>"
            ],
            "text/plain": [
              "                             Simulation results: S2 test based TTI\n",
              "Base R                                                         3.2\n",
              "Effective R                                                    1.6\n",
              "# Manual Traces (k per day)                                  175.1\n",
              "# App Traces (k per day)                                      29.0\n",
              "# Tests Needed (k per day)                                    88.6"
            ]
          },
          "metadata": {
            "tags": []
          }
        },
        {
          "output_type": "display_data",
          "data": {
            "text/html": [
              "<div>\n",
              "<style scoped>\n",
              "    .dataframe tbody tr th:only-of-type {\n",
              "        vertical-align: middle;\n",
              "    }\n",
              "\n",
              "    .dataframe tbody tr th {\n",
              "        vertical-align: top;\n",
              "    }\n",
              "\n",
              "    .dataframe thead th {\n",
              "        text-align: right;\n",
              "    }\n",
              "</style>\n",
              "<table border=\"1\" class=\"dataframe\">\n",
              "  <thead>\n",
              "    <tr style=\"text-align: right;\">\n",
              "      <th></th>\n",
              "      <th>Simulation results: S2 test based TTI</th>\n",
              "    </tr>\n",
              "  </thead>\n",
              "  <tbody>\n",
              "    <tr>\n",
              "      <th>Base R</th>\n",
              "      <td>3.2</td>\n",
              "    </tr>\n",
              "    <tr>\n",
              "      <th>Effective R</th>\n",
              "      <td>1.6</td>\n",
              "    </tr>\n",
              "    <tr>\n",
              "      <th># Manual Traces (k per day)</th>\n",
              "      <td>191.1</td>\n",
              "    </tr>\n",
              "    <tr>\n",
              "      <th># App Traces (k per day)</th>\n",
              "      <td>23.2</td>\n",
              "    </tr>\n",
              "    <tr>\n",
              "      <th># Tests Needed (k per day)</th>\n",
              "      <td>90.3</td>\n",
              "    </tr>\n",
              "  </tbody>\n",
              "</table>\n",
              "</div>"
            ],
            "text/plain": [
              "                             Simulation results: S2 test based TTI\n",
              "Base R                                                         3.2\n",
              "Effective R                                                    1.6\n",
              "# Manual Traces (k per day)                                  191.1\n",
              "# App Traces (k per day)                                      23.2\n",
              "# Tests Needed (k per day)                                    90.3"
            ]
          },
          "metadata": {
            "tags": []
          }
        },
        {
          "output_type": "display_data",
          "data": {
            "text/html": [
              "<div>\n",
              "<style scoped>\n",
              "    .dataframe tbody tr th:only-of-type {\n",
              "        vertical-align: middle;\n",
              "    }\n",
              "\n",
              "    .dataframe tbody tr th {\n",
              "        vertical-align: top;\n",
              "    }\n",
              "\n",
              "    .dataframe thead th {\n",
              "        text-align: right;\n",
              "    }\n",
              "</style>\n",
              "<table border=\"1\" class=\"dataframe\">\n",
              "  <thead>\n",
              "    <tr style=\"text-align: right;\">\n",
              "      <th></th>\n",
              "      <th>Simulation results: S2 test based TTI</th>\n",
              "    </tr>\n",
              "  </thead>\n",
              "  <tbody>\n",
              "    <tr>\n",
              "      <th>Base R</th>\n",
              "      <td>3.2</td>\n",
              "    </tr>\n",
              "    <tr>\n",
              "      <th>Effective R</th>\n",
              "      <td>1.6</td>\n",
              "    </tr>\n",
              "    <tr>\n",
              "      <th># Manual Traces (k per day)</th>\n",
              "      <td>163.9</td>\n",
              "    </tr>\n",
              "    <tr>\n",
              "      <th># App Traces (k per day)</th>\n",
              "      <td>25.9</td>\n",
              "    </tr>\n",
              "    <tr>\n",
              "      <th># Tests Needed (k per day)</th>\n",
              "      <td>88.4</td>\n",
              "    </tr>\n",
              "  </tbody>\n",
              "</table>\n",
              "</div>"
            ],
            "text/plain": [
              "                             Simulation results: S2 test based TTI\n",
              "Base R                                                         3.2\n",
              "Effective R                                                    1.6\n",
              "# Manual Traces (k per day)                                  163.9\n",
              "# App Traces (k per day)                                      25.9\n",
              "# Tests Needed (k per day)                                    88.4"
            ]
          },
          "metadata": {
            "tags": []
          }
        },
        {
          "output_type": "display_data",
          "data": {
            "text/html": [
              "<div>\n",
              "<style scoped>\n",
              "    .dataframe tbody tr th:only-of-type {\n",
              "        vertical-align: middle;\n",
              "    }\n",
              "\n",
              "    .dataframe tbody tr th {\n",
              "        vertical-align: top;\n",
              "    }\n",
              "\n",
              "    .dataframe thead th {\n",
              "        text-align: right;\n",
              "    }\n",
              "</style>\n",
              "<table border=\"1\" class=\"dataframe\">\n",
              "  <thead>\n",
              "    <tr style=\"text-align: right;\">\n",
              "      <th></th>\n",
              "      <th>Simulation results: S2 test based TTI</th>\n",
              "    </tr>\n",
              "  </thead>\n",
              "  <tbody>\n",
              "    <tr>\n",
              "      <th>Base R</th>\n",
              "      <td>3.4</td>\n",
              "    </tr>\n",
              "    <tr>\n",
              "      <th>Effective R</th>\n",
              "      <td>1.7</td>\n",
              "    </tr>\n",
              "    <tr>\n",
              "      <th># Manual Traces (k per day)</th>\n",
              "      <td>161.7</td>\n",
              "    </tr>\n",
              "    <tr>\n",
              "      <th># App Traces (k per day)</th>\n",
              "      <td>21.6</td>\n",
              "    </tr>\n",
              "    <tr>\n",
              "      <th># Tests Needed (k per day)</th>\n",
              "      <td>89.5</td>\n",
              "    </tr>\n",
              "  </tbody>\n",
              "</table>\n",
              "</div>"
            ],
            "text/plain": [
              "                             Simulation results: S2 test based TTI\n",
              "Base R                                                         3.4\n",
              "Effective R                                                    1.7\n",
              "# Manual Traces (k per day)                                  161.7\n",
              "# App Traces (k per day)                                      21.6\n",
              "# Tests Needed (k per day)                                    89.5"
            ]
          },
          "metadata": {
            "tags": []
          }
        },
        {
          "output_type": "display_data",
          "data": {
            "text/html": [
              "<div>\n",
              "<style scoped>\n",
              "    .dataframe tbody tr th:only-of-type {\n",
              "        vertical-align: middle;\n",
              "    }\n",
              "\n",
              "    .dataframe tbody tr th {\n",
              "        vertical-align: top;\n",
              "    }\n",
              "\n",
              "    .dataframe thead th {\n",
              "        text-align: right;\n",
              "    }\n",
              "</style>\n",
              "<table border=\"1\" class=\"dataframe\">\n",
              "  <thead>\n",
              "    <tr style=\"text-align: right;\">\n",
              "      <th></th>\n",
              "      <th>Simulation results: S2 test based TTI</th>\n",
              "    </tr>\n",
              "  </thead>\n",
              "  <tbody>\n",
              "    <tr>\n",
              "      <th>Base R</th>\n",
              "      <td>3.2</td>\n",
              "    </tr>\n",
              "    <tr>\n",
              "      <th>Effective R</th>\n",
              "      <td>1.7</td>\n",
              "    </tr>\n",
              "    <tr>\n",
              "      <th># Manual Traces (k per day)</th>\n",
              "      <td>171.5</td>\n",
              "    </tr>\n",
              "    <tr>\n",
              "      <th># App Traces (k per day)</th>\n",
              "      <td>27.6</td>\n",
              "    </tr>\n",
              "    <tr>\n",
              "      <th># Tests Needed (k per day)</th>\n",
              "      <td>90.5</td>\n",
              "    </tr>\n",
              "  </tbody>\n",
              "</table>\n",
              "</div>"
            ],
            "text/plain": [
              "                             Simulation results: S2 test based TTI\n",
              "Base R                                                         3.2\n",
              "Effective R                                                    1.7\n",
              "# Manual Traces (k per day)                                  171.5\n",
              "# App Traces (k per day)                                      27.6\n",
              "# Tests Needed (k per day)                                    90.5"
            ]
          },
          "metadata": {
            "tags": []
          }
        },
        {
          "output_type": "stream",
          "text": [
            "\n",
            "\n"
          ],
          "name": "stdout"
        }
      ]
    },
    {
      "cell_type": "markdown",
      "metadata": {
        "id": "VXnhlmNaN5T9"
      },
      "source": [
        "### Policy and Strategy"
      ]
    },
    {
      "cell_type": "code",
      "metadata": {
        "id": "f9da2gBmOF_K"
      },
      "source": [
        "policy_name_params = [f\"{i}_{j}\" for i in [\"S1\", \"S2\", \"S3\", \"S4\", \"S5\"] for j in [\"no_TTI\", \"symptom_based_TTI\", \"test_based_TTI\", \"test_based_TTI_test_contacts\"]]\n",
        "policy_name_params.append(\"S0\")\n",
        "case_config = config.get_case_config(\"delve\")\n",
        "contacts_config = config.get_contacts_config(\"delve\")\n",
        "n_experiments = 5 # number of simulations performed for a particular value"
      ],
      "execution_count": null,
      "outputs": []
    },
    {
      "cell_type": "code",
      "metadata": {
        "id": "FmsXWRTQOGsO"
      },
      "source": [
        "dict_outputs = {policy_name: [] for policy_name in policy_name_params}"
      ],
      "execution_count": null,
      "outputs": []
    },
    {
      "cell_type": "code",
      "metadata": {
        "colab": {
          "base_uri": "https://localhost:8080/",
          "height": 66,
          "referenced_widgets": [
            "87eb9b63d350437d8f0280ae764a30c3",
            "325c711453e84f989cfd02419771d9df",
            "ebfa18b6f7f44140a2936e30201fe59b",
            "c0d9960ea7434525b5802ba3b34a5e63",
            "7ff197d64afc4e1d9a8a7a57316c3d49",
            "bc732d0933fa4841bb5d64f70b42e6e5",
            "6b9375e3077f4d909f51580207dd80a4",
            "dcf8294bf81144fd859b5333096ef7a2"
          ]
        },
        "id": "s9Y9ChPvEQBh",
        "outputId": "2da2d044-8d7d-4f13-c347-17ac07ea6025"
      },
      "source": [
        "# Try all possible p_under18\n",
        "for policy_name in tqdm(policy_name_params):\n",
        "    # For each case, experiment n times\n",
        "    for _ in range(n_experiments):\n",
        "        outputs = do_simulation(policy_name, case_config_, contacts_config, n_cases=10000)\n",
        "        dict_outputs[policy_name].append(outputs)"
      ],
      "execution_count": null,
      "outputs": [
        {
          "output_type": "display_data",
          "data": {
            "application/vnd.jupyter.widget-view+json": {
              "model_id": "87eb9b63d350437d8f0280ae764a30c3",
              "version_minor": 0,
              "version_major": 2
            },
            "text/plain": [
              "HBox(children=(FloatProgress(value=0.0, max=21.0), HTML(value='')))"
            ]
          },
          "metadata": {
            "tags": []
          }
        },
        {
          "output_type": "stream",
          "text": [
            "\n"
          ],
          "name": "stdout"
        }
      ]
    },
    {
      "cell_type": "code",
      "metadata": {
        "id": "cXgE2s6rEQDu"
      },
      "source": [
        "for policy_name in policy_name_params:\n",
        "    print(\"*\"*20, f\"policy name parameters: {policy_name}\", \"*\"*20)\n",
        "    for i in range(n_experiments):\n",
        "        outputs = dict_outputs[policy_name][i]\n",
        "        summarise_simulation_results(outputs, policy_name, case_config)\n",
        "    \n",
        "    print(\"\\n\")"
      ],
      "execution_count": null,
      "outputs": []
    },
    {
      "cell_type": "code",
      "metadata": {
        "id": "0ocpwK5bEQPv"
      },
      "source": [
        "key_params = [f\"{i}_{j}\" for i in [\"S1\", \"S2\", \"S3\", \"S4\", \"S5\"] for j in [\"no_TTI\", \"symptom_based_TTI\", \"test_based_TTI\", \"test_based_TTI_test_contacts\"]]\n",
        "key_params.append(\"S0\")\n",
        "df_result = {\"strategy\": [], \"gov_policy\": [], \"effective_r\": [], \"base_r\": [],\n",
        "             \"manual_traces\": [], \"app_traces\": [], \"test_needed\": []}\n",
        "nppl = 120\n",
        "\n",
        "for key in key_params:\n",
        "    if key != \"S0\":\n",
        "        strategy = key[:2]\n",
        "        gov_policy = key[3:]\n",
        "        \n",
        "        for i in range(n_experiments):\n",
        "            result_format = pd.DataFrame(dict_outputs[key][i]).mean(0)\n",
        "\n",
        "            df_result[\"strategy\"].append(strategy)\n",
        "            df_result[\"gov_policy\"].append(gov_policy)\n",
        "            df_result[\"effective_r\"].append(result_format.loc[\"Effective R\"])\n",
        "            df_result[\"base_r\"].append(result_format.loc[\"Base R\"])\n",
        "            df_result[\"manual_traces\"].append(result_format.loc[\"# Manual Traces\"] * nppl)\n",
        "            df_result[\"app_traces\"].append(result_format.loc[\"# App Traces\"] * nppl)\n",
        "            df_result[\"test_needed\"].append(result_format.loc[\"# Tests Needed\"] * nppl)"
      ],
      "execution_count": null,
      "outputs": []
    },
    {
      "cell_type": "code",
      "metadata": {
        "id": "ThDcrudlW1a3"
      },
      "source": [
        "df_result = pd.DataFrame(df_result)"
      ],
      "execution_count": null,
      "outputs": []
    },
    {
      "cell_type": "code",
      "metadata": {
        "id": "_YCx4F4VZkPs"
      },
      "source": [
        "import seaborn as sns\n",
        "import matplotlib.pyplot as plt\n",
        "sns.set_style(\"darkgrid\")\n",
        "sns.set_style(\"ticks\", rc={'axes.grid': True, 'xtick.direction': 'in'})"
      ],
      "execution_count": null,
      "outputs": []
    },
    {
      "cell_type": "code",
      "metadata": {
        "colab": {
          "base_uri": "https://localhost:8080/",
          "height": 557
        },
        "id": "_uWRMiaHUlCv",
        "outputId": "33692549-6e23-4a5b-99aa-29648a974220"
      },
      "source": [
        "fig = plt.figure(figsize=(7, 8))\n",
        "ax = fig.add_subplot(111)\n",
        "\n",
        "sns.lineplot(x=\"gov_policy\", y=\"effective_r\", data=df_result, hue=\"strategy\", \n",
        "             err_style=\"bars\", linewidth=2,\n",
        "             ci=68)\n",
        "sns.despine(top=False, right=False, left=False, bottom=False)\n",
        "ax.legend(loc='center left', bbox_to_anchor=(0.05, 1.05), ncol=5, frameon=False,\n",
        "          prop={'size': 12})\n",
        "plt.ylabel(\"Effective $R$\", fontsize=15)\n",
        "plt.xlabel(\"Government Policy\", fontsize=15)\n",
        "plt.xticks(rotation=-10)\n",
        "plt.show()"
      ],
      "execution_count": null,
      "outputs": [
        {
          "output_type": "display_data",
          "data": {
            "image/png": "[encoded data removed]",
            "text/plain": [
              "<Figure size 504x576 with 1 Axes>"
            ]
          },
          "metadata": {
            "tags": []
          }
        }
      ]
    },
    {
      "cell_type": "code",
      "metadata": {
        "colab": {
          "base_uri": "https://localhost:8080/",
          "height": 557
        },
        "id": "kWdXN5lOdEGA",
        "outputId": "bb2d483e-b292-4736-8464-7a0e538d48a9"
      },
      "source": [
        "fig = plt.figure(figsize=(7, 8))\n",
        "ax = fig.add_subplot(111)\n",
        "\n",
        "sns.lineplot(x=\"gov_policy\", y=\"test_needed\", data=df_result, hue=\"strategy\", \n",
        "             err_style=\"bars\", linewidth=2,\n",
        "             ci=68)\n",
        "sns.despine(top=False, right=False, left=False, bottom=False)\n",
        "ax.legend(loc='center left', bbox_to_anchor=(0.05, 1.05), ncol=5, frameon=False,\n",
        "          prop={'size': 12})\n",
        "plt.ylabel(\"# Tests Needed\", fontsize=15)\n",
        "plt.xlabel(\"Government Policy\", fontsize=15)\n",
        "plt.xticks(rotation=-10)\n",
        "plt.show()"
      ],
      "execution_count": null,
      "outputs": [
        {
          "output_type": "display_data",
          "data": {
            "image/png": "[encoded data removed]",
            "text/plain": [
              "<Figure size 504x576 with 1 Axes>"
            ]
          },
          "metadata": {
            "tags": []
          }
        }
      ]
    },
    {
      "cell_type": "code",
      "metadata": {
        "colab": {
          "base_uri": "https://localhost:8080/",
          "height": 557
        },
        "id": "Gh3F4Z_WdW17",
        "outputId": "e0918648-4377-4a06-b049-7e231c7cd811"
      },
      "source": [
        "fig = plt.figure(figsize=(7, 8))\n",
        "ax = fig.add_subplot(111)\n",
        "\n",
        "sns.lineplot(x=\"gov_policy\", y=\"manual_traces\", data=df_result, hue=\"strategy\", \n",
        "             err_style=\"bars\", linewidth=2,\n",
        "             ci=68)\n",
        "sns.despine(top=False, right=False, left=False, bottom=False)\n",
        "ax.legend(loc='center left', bbox_to_anchor=(0.05, 1.05), ncol=5, frameon=False,\n",
        "          prop={'size': 12})\n",
        "plt.ylabel(\"# Manual Traces\", fontsize=15)\n",
        "plt.xlabel(\"Government Policy\", fontsize=15)\n",
        "plt.xticks(rotation=-10)\n",
        "plt.show()"
      ],
      "execution_count": null,
      "outputs": [
        {
          "output_type": "display_data",
          "data": {
            "image/png": "[encoded data removed]",
            "text/plain": [
              "<Figure size 504x576 with 1 Axes>"
            ]
          },
          "metadata": {
            "tags": []
          }
        }
      ]
    },
    {
      "cell_type": "code",
      "metadata": {
        "colab": {
          "base_uri": "https://localhost:8080/",
          "height": 557
        },
        "id": "s3Fvkc3ZdvLi",
        "outputId": "2e2a394d-a8c9-41ee-dac3-a18754e41532"
      },
      "source": [
        "fig = plt.figure(figsize=(7, 8))\n",
        "ax = fig.add_subplot(111)\n",
        "\n",
        "sns.lineplot(x=\"gov_policy\", y=\"app_traces\", data=df_result, hue=\"strategy\", \n",
        "             err_style=\"bars\", linewidth=2,\n",
        "             ci=68)\n",
        "sns.despine(top=False, right=False, left=False, bottom=False)\n",
        "ax.legend(loc='center left', bbox_to_anchor=(0.05, 1.05), ncol=5, frameon=False,\n",
        "          prop={'size': 12})\n",
        "plt.ylabel(\"# App Traces\", fontsize=15)\n",
        "plt.xlabel(\"Government Policy\", fontsize=15)\n",
        "plt.xticks(rotation=-10)\n",
        "plt.show()"
      ],
      "execution_count": null,
      "outputs": [
        {
          "output_type": "display_data",
          "data": {
            "image/png": "[encoded data removed]",
            "text/plain": [
              "<Figure size 504x576 with 1 Axes>"
            ]
          },
          "metadata": {
            "tags": []
          }
        }
      ]
    }
  ]
}