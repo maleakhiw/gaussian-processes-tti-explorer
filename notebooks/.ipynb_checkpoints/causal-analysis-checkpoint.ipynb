{
 "cells": [
  {
   "cell_type": "markdown",
   "metadata": {},
   "source": [
    "# Causal Analysis\n",
    "\n",
    "This notebook contains code used to perform causal analysis. This is an extension to the sensitivity analysis."
   ]
  },
  {
   "cell_type": "code",
   "execution_count": 1,
   "metadata": {},
   "outputs": [],
   "source": [
    "import os\n",
    "import numpy as np\n",
    "import pandas as pd\n",
    "from tqdm.notebook import trange, tqdm\n",
    "from IPython.display import display, HTML\n",
    "from copy import deepcopy\n",
    "import random\n",
    "import pickle\n",
    "import matplotlib.pyplot as plt\n",
    "import seaborn as sns\n",
    "import matplotlib.style as style\n",
    "from scipy.stats import ks_2samp\n",
    "\n",
    "from tti_explorer import config, utils\n",
    "from tti_explorer.case import simulate_case, CaseFactors\n",
    "from tti_explorer.contacts import EmpiricalContactsSimulator\n",
    "from tti_explorer.strategies import TTIFlowModel, RETURN_KEYS\n",
    "\n",
    "import warnings\n",
    "warnings.filterwarnings('ignore')\n",
    "style.use('fivethirtyeight')"
   ]
  },
  {
   "cell_type": "code",
   "execution_count": 11,
   "metadata": {},
   "outputs": [],
   "source": [
    "%run utilities.ipynb"
   ]
  },
  {
   "cell_type": "code",
   "execution_count": 3,
   "metadata": {},
   "outputs": [],
   "source": [
    "# Load data\n",
    "over18 = load_csv(\"../data/bbc-pandemic/contact_distributions_o18.csv\")\n",
    "under18 = load_csv(\"../data/bbc-pandemic/contact_distributions_u18.csv\")"
   ]
  },
  {
   "cell_type": "markdown",
   "metadata": {},
   "source": [
    "## Age\n",
    "\n",
    "This section simulated and verify whether intervening on age changes the distribution of effective R."
   ]
  },
  {
   "cell_type": "markdown",
   "metadata": {},
   "source": [
    "#### Under 18"
   ]
  },
  {
   "cell_type": "code",
   "execution_count": 60,
   "metadata": {},
   "outputs": [],
   "source": [
    "policy_name = \"S3_test_based_TTI\"\n",
    "n_experiments = 100 # number of simulations performed for a particular value\n",
    "case_config = config.get_case_config(\"delve\")\n",
    "contacts_config = config.get_contacts_config(\"delve\")\n",
    "age_less = []"
   ]
  },
  {
   "cell_type": "code",
   "execution_count": 61,
   "metadata": {},
   "outputs": [
    {
     "data": {
      "application/vnd.jupyter.widget-view+json": {
       "model_id": "7fa94a81024642958940ca4c812190f6",
       "version_major": 2,
       "version_minor": 0
      },
      "text/plain": [
       "HBox(children=(FloatProgress(value=0.0), HTML(value='')))"
      ]
     },
     "metadata": {},
     "output_type": "display_data"
    },
    {
     "name": "stdout",
     "output_type": "stream",
     "text": [
      "\n"
     ]
    }
   ],
   "source": [
    "# Used to store the experimentation result\n",
    "for _ in tqdm(range(n_experiments)):\n",
    "    case_config[\"p_under18\"] = 1\n",
    "    outputs = do_simulation(policy_name, case_config, contacts_config, n_cases=10000)\n",
    "    results = pd.DataFrame(outputs).mean(0)\n",
    "    age_less.append(float(results.loc[\"Effective R\"]))"
   ]
  },
  {
   "cell_type": "markdown",
   "metadata": {},
   "source": [
    "#### Over 18"
   ]
  },
  {
   "cell_type": "code",
   "execution_count": 62,
   "metadata": {},
   "outputs": [],
   "source": [
    "policy_name = \"S3_test_based_TTI\"\n",
    "n_experiments = 100 # number of simulations performed for a particular value\n",
    "case_config = config.get_case_config(\"delve\")\n",
    "contacts_config = config.get_contacts_config(\"delve\")\n",
    "age_greater = []"
   ]
  },
  {
   "cell_type": "code",
   "execution_count": 63,
   "metadata": {},
   "outputs": [
    {
     "data": {
      "application/vnd.jupyter.widget-view+json": {
       "model_id": "a962882f0b6a44d3a1356738a1339e07",
       "version_major": 2,
       "version_minor": 0
      },
      "text/plain": [
       "HBox(children=(FloatProgress(value=0.0), HTML(value='')))"
      ]
     },
     "metadata": {},
     "output_type": "display_data"
    },
    {
     "name": "stdout",
     "output_type": "stream",
     "text": [
      "\n"
     ]
    }
   ],
   "source": [
    "# Used to store the experimentation result\n",
    "for _ in tqdm(range(n_experiments)):\n",
    "    case_config[\"p_under18\"] = 0\n",
    "    outputs = do_simulation(policy_name, case_config, contacts_config, n_cases=10000)\n",
    "    results = pd.DataFrame(outputs).mean(0)\n",
    "    age_greater.append(float(results.loc[\"Effective R\"]))"
   ]
  },
  {
   "cell_type": "markdown",
   "metadata": {},
   "source": [
    "#### Default"
   ]
  },
  {
   "cell_type": "code",
   "execution_count": 74,
   "metadata": {},
   "outputs": [],
   "source": [
    "policy_name = \"S3_test_based_TTI\"\n",
    "n_experiments = 100 # number of simulations performed for a particular value\n",
    "case_config = config.get_case_config(\"delve\")\n",
    "contacts_config = config.get_contacts_config(\"delve\")\n",
    "age_default = []"
   ]
  },
  {
   "cell_type": "code",
   "execution_count": 75,
   "metadata": {},
   "outputs": [
    {
     "data": {
      "application/vnd.jupyter.widget-view+json": {
       "model_id": "d25ffbe3ebec4d80b7ae21dbdafbd833",
       "version_major": 2,
       "version_minor": 0
      },
      "text/plain": [
       "HBox(children=(FloatProgress(value=0.0), HTML(value='')))"
      ]
     },
     "metadata": {},
     "output_type": "display_data"
    },
    {
     "name": "stdout",
     "output_type": "stream",
     "text": [
      "\n"
     ]
    }
   ],
   "source": [
    "# Used to store the experimentation result\n",
    "for _ in tqdm(range(n_experiments)):\n",
    "    case_config[\"p_under18\"] = 0.21\n",
    "    outputs = do_simulation(policy_name, case_config, contacts_config, n_cases=10000)\n",
    "    results = pd.DataFrame(outputs).mean(0)\n",
    "    age_default.append(float(results.loc[\"Effective R\"]))"
   ]
  },
  {
   "cell_type": "code",
   "execution_count": 84,
   "metadata": {},
   "outputs": [],
   "source": [
    "# ## Save result\n",
    "# dict_ages = {\n",
    "#     \"under_18\": age_less,\n",
    "#     \"over_18\": age_greater,\n",
    "#     \"default\": age_default\n",
    "# }\n",
    "\n",
    "# pd.DataFrame(dict_ages).to_csv(\"../results/age-causal.csv\", index=False)"
   ]
  },
  {
   "cell_type": "code",
   "execution_count": 4,
   "metadata": {},
   "outputs": [],
   "source": [
    "df_age = pd.read_csv(\"../results/age-causal.csv\")\n",
    "age_less = df_age[\"under_18\"]\n",
    "age_greater = df_age[\"over_18\"]\n",
    "age_default = df_age[\"default\"]"
   ]
  },
  {
   "cell_type": "markdown",
   "metadata": {},
   "source": [
    "#### Visualise distribution\n",
    "\n",
    "We plot kernel density estimate of effective R."
   ]
  },
  {
   "cell_type": "code",
   "execution_count": 7,
   "metadata": {},
   "outputs": [
    {
     "data": {
      "image/png": "[encoded data removed]",
      "text/plain": [
       "<Figure size 432x288 with 1 Axes>"
      ]
     },
     "metadata": {},
     "output_type": "display_data"
    }
   ],
   "source": [
    "fig = plt.figure(figsize=(6, 4), facecolor=\"white\")\n",
    "ax = fig.add_subplot(111)\n",
    "sns.kdeplot(data=age_less, ax=ax, shade=True, label=\"Age < 18\", linewidth=2)\n",
    "sns.kdeplot(data=age_greater, ax=ax, shade=True, label=\"Age > 18\", linewidth=2)\n",
    "sns.kdeplot(data=age_default, ax=ax, shade=True, label=\"Default\", linewidth=2)\n",
    "\n",
    "ax.set_facecolor(\"white\")\n",
    "ax.spines['bottom'].set_color('black')\n",
    "ax.spines['left'].set_color('black')\n",
    "ax.spines['right'].set_visible(False)\n",
    "ax.spines['top'].set_visible(False)\n",
    "for axis in ['top','bottom','left','right']:\n",
    "    ax.spines[axis].set_linewidth(1.5)\n",
    "ax.tick_params(axis='both', which='major', labelsize=11)\n",
    "ax.set_xlabel(\"Effective $R$\", fontsize=13)\n",
    "legend = plt.legend(fontsize=11)\n",
    "frame = legend.get_frame()\n",
    "frame.set_facecolor(\"white\")\n",
    "plt.grid(False)\n",
    "plt.show()"
   ]
  },
  {
   "cell_type": "markdown",
   "metadata": {},
   "source": [
    "#### Check distribution difference\n",
    "We use Kolmogorov-Smirnov to check whether two distributions differ. Under the null hypothesis the two distributions are identical. If the K-S statistic is small or the p-value is high (greater than the significance level, say 5%), then we cannot reject the hypothesis that the distributions of the two samples are the same. Conversely, we can reject the null hypothesis if the p-value is low."
   ]
  },
  {
   "cell_type": "code",
   "execution_count": 77,
   "metadata": {},
   "outputs": [],
   "source": [
    "x = age_less\n",
    "y = age_greater\n",
    "z = age_default"
   ]
  },
  {
   "cell_type": "code",
   "execution_count": 78,
   "metadata": {
    "scrolled": false
   },
   "outputs": [
    {
     "name": "stdout",
     "output_type": "stream",
     "text": [
      "Age less and greater: Ks_2sampResult(statistic=1.0, pvalue=1.5505547466854487e-45)\n",
      "Age less and default: Ks_2sampResult(statistic=1.0, pvalue=1.5505547466854487e-45)\n",
      "Age greater and default: Ks_2sampResult(statistic=0.5800000000000001, pvalue=1.336113546418592e-15)\n"
     ]
    }
   ],
   "source": [
    "print(f\"Age less and greater: {ks_2samp(x, y)}\")\n",
    "print(f\"Age less and default: {ks_2samp(x, z)}\")\n",
    "print(f\"Age greater and default: {ks_2samp(y, z)}\")"
   ]
  },
  {
   "cell_type": "markdown",
   "metadata": {},
   "source": [
    "## WFH"
   ]
  },
  {
   "cell_type": "markdown",
   "metadata": {},
   "source": [
    "#### Office"
   ]
  },
  {
   "cell_type": "code",
   "execution_count": 112,
   "metadata": {},
   "outputs": [],
   "source": [
    "policy_name = \"S3_test_based_TTI\"\n",
    "n_experiments = 100 # number of simulations performed for a particular value\n",
    "case_config = deepcopy(config.get_case_config(\"delve\"))\n",
    "contacts_config = deepcopy(config.get_contacts_config(\"delve\"))\n",
    "wfh_0 = []"
   ]
  },
  {
   "cell_type": "code",
   "execution_count": 113,
   "metadata": {},
   "outputs": [
    {
     "data": {
      "application/vnd.jupyter.widget-view+json": {
       "model_id": "b690d17014714357a80c40bf0a868b0c",
       "version_major": 2,
       "version_minor": 0
      },
      "text/plain": [
       "HBox(children=(FloatProgress(value=0.0), HTML(value='')))"
      ]
     },
     "metadata": {},
     "output_type": "display_data"
    },
    {
     "name": "stdout",
     "output_type": "stream",
     "text": [
      "\n"
     ]
    }
   ],
   "source": [
    "# Used to store the experimentation result\n",
    "for _ in tqdm(range(n_experiments)):\n",
    "    outputs = do_simulation(policy_name, case_config, contacts_config, \n",
    "                            n_cases=10000,dict_params={\"wfh_prob\": 0})\n",
    "    results = pd.DataFrame(outputs).mean(0)\n",
    "    wfh_0.append(float(results.loc[\"Effective R\"]))"
   ]
  },
  {
   "cell_type": "markdown",
   "metadata": {},
   "source": [
    "#### Home"
   ]
  },
  {
   "cell_type": "code",
   "execution_count": 114,
   "metadata": {},
   "outputs": [],
   "source": [
    "policy_name = \"S3_test_based_TTI\"\n",
    "n_experiments = 100 # number of simulations performed for a particular value\n",
    "case_config = deepcopy(config.get_case_config(\"delve\"))\n",
    "contacts_config = deepcopy(config.get_contacts_config(\"delve\"))\n",
    "wfh_1 = []"
   ]
  },
  {
   "cell_type": "code",
   "execution_count": 115,
   "metadata": {},
   "outputs": [
    {
     "data": {
      "application/vnd.jupyter.widget-view+json": {
       "model_id": "bee81e373a0f417e925afba3ae804612",
       "version_major": 2,
       "version_minor": 0
      },
      "text/plain": [
       "HBox(children=(FloatProgress(value=0.0), HTML(value='')))"
      ]
     },
     "metadata": {},
     "output_type": "display_data"
    },
    {
     "name": "stdout",
     "output_type": "stream",
     "text": [
      "\n"
     ]
    }
   ],
   "source": [
    "# Used to store the experimentation result\n",
    "for _ in tqdm(range(n_experiments)):\n",
    "    outputs = do_simulation(policy_name, case_config, contacts_config, \n",
    "                            n_cases=10000,dict_params={\"wfh_prob\": 1})\n",
    "    results = pd.DataFrame(outputs).mean(0)\n",
    "    wfh_1.append(float(results.loc[\"Effective R\"]))"
   ]
  },
  {
   "cell_type": "markdown",
   "metadata": {},
   "source": [
    "#### Default"
   ]
  },
  {
   "cell_type": "code",
   "execution_count": 116,
   "metadata": {},
   "outputs": [],
   "source": [
    "policy_name = \"S3_test_based_TTI\"\n",
    "n_experiments = 100 # number of simulations performed for a particular value\n",
    "case_config = deepcopy(config.get_case_config(\"delve\"))\n",
    "contacts_config = deepcopy(config.get_contacts_config(\"delve\"))\n",
    "wfh_default = []"
   ]
  },
  {
   "cell_type": "code",
   "execution_count": 117,
   "metadata": {},
   "outputs": [
    {
     "data": {
      "application/vnd.jupyter.widget-view+json": {
       "model_id": "21e383746f4d473d951ec22a978b9784",
       "version_major": 2,
       "version_minor": 0
      },
      "text/plain": [
       "HBox(children=(FloatProgress(value=0.0), HTML(value='')))"
      ]
     },
     "metadata": {},
     "output_type": "display_data"
    },
    {
     "name": "stdout",
     "output_type": "stream",
     "text": [
      "\n"
     ]
    }
   ],
   "source": [
    "# Used to store the experimentation result\n",
    "for _ in tqdm(range(n_experiments)):\n",
    "    outputs = do_simulation(policy_name, case_config, contacts_config, \n",
    "                            n_cases=10000)\n",
    "    results = pd.DataFrame(outputs).mean(0)\n",
    "    wfh_default.append(float(results.loc[\"Effective R\"]))"
   ]
  },
  {
   "cell_type": "code",
   "execution_count": 118,
   "metadata": {},
   "outputs": [],
   "source": [
    "## Save result\n",
    "dict_wfh = {\n",
    "    \"wfh_0\": wfh_0,\n",
    "    \"wfh_1\": wfh_1,\n",
    "    \"wfh_default\": wfh_default\n",
    "}\n",
    "\n",
    "pd.DataFrame(dict_wfh).to_csv(\"../results/wfh-causal.csv\", index=False)"
   ]
  },
  {
   "cell_type": "markdown",
   "metadata": {},
   "source": [
    "#### Visualise distribution\n",
    "\n",
    "We plot kernel density estimate of effective R."
   ]
  },
  {
   "cell_type": "code",
   "execution_count": 123,
   "metadata": {},
   "outputs": [
    {
     "data": {
      "image/png": "[encoded data removed]",
      "text/plain": [
       "<Figure size 432x288 with 1 Axes>"
      ]
     },
     "metadata": {},
     "output_type": "display_data"
    }
   ],
   "source": [
    "fig = plt.figure(figsize=(6, 4), facecolor=\"white\")\n",
    "ax = fig.add_subplot(111)\n",
    "sns.kdeplot(data=wfh_0, ax=ax, shade=True, label=\"WFH = 0\", linewidth=2)\n",
    "sns.kdeplot(data=wfh_1, ax=ax, shade=True, label=\"WFH = 1\", linewidth=2)\n",
    "sns.kdeplot(data=wfh_default, ax=ax, shade=True, label=\"Default\", linewidth=2)\n",
    "\n",
    "ax.set_facecolor(\"white\")\n",
    "ax.spines['bottom'].set_color('black')\n",
    "ax.spines['left'].set_color('black')\n",
    "ax.spines['right'].set_visible(False)\n",
    "ax.spines['top'].set_visible(False)\n",
    "for axis in ['top','bottom','left','right']:\n",
    "    ax.spines[axis].set_linewidth(1.5)\n",
    "ax.tick_params(axis='both', which='major', labelsize=11)\n",
    "ax.set_xlabel(\"Effective $R$\", fontsize=13)\n",
    "legend = plt.legend(fontsize=11)\n",
    "frame = legend.get_frame()\n",
    "frame.set_facecolor(\"white\")\n",
    "plt.grid(False)\n",
    "plt.show()"
   ]
  },
  {
   "cell_type": "markdown",
   "metadata": {},
   "source": [
    "#### Check distribution difference\n",
    "We use Kolmogorov-Smirnov to check whether two distributions differ. Under the null hypothesis the two distributions are identical. If the K-S statistic is small or the p-value is high (greater than the significance level, say 5%), then we cannot reject the hypothesis that the distributions of the two samples are the same. Conversely, we can reject the null hypothesis if the p-value is low."
   ]
  },
  {
   "cell_type": "code",
   "execution_count": 120,
   "metadata": {},
   "outputs": [],
   "source": [
    "x = wfh_0\n",
    "y = wfh_1\n",
    "z = wfh_default"
   ]
  },
  {
   "cell_type": "code",
   "execution_count": 121,
   "metadata": {},
   "outputs": [
    {
     "name": "stdout",
     "output_type": "stream",
     "text": [
      "x and y: Ks_2sampResult(statistic=1.0, pvalue=1.5505547466854487e-45)\n",
      "x and z: Ks_2sampResult(statistic=1.0, pvalue=1.5505547466854487e-45)\n",
      "y and z: Ks_2sampResult(statistic=1.0, pvalue=1.5505547466854487e-45)\n"
     ]
    }
   ],
   "source": [
    "print(f\"x and y: {ks_2samp(x, y)}\")\n",
    "print(f\"x and z: {ks_2samp(x, z)}\")\n",
    "print(f\"y and z: {ks_2samp(y, z)}\")"
   ]
  },
  {
   "cell_type": "markdown",
   "metadata": {},
   "source": [
    "## GTS"
   ]
  },
  {
   "cell_type": "markdown",
   "metadata": {},
   "source": [
    "#### School"
   ]
  },
  {
   "cell_type": "code",
   "execution_count": 42,
   "metadata": {},
   "outputs": [],
   "source": [
    "policy_name = \"S3_test_based_TTI\"\n",
    "n_experiments = 100 # number of simulations performed for a particular value\n",
    "case_config = deepcopy(config.get_case_config(\"delve\"))\n",
    "contacts_config = deepcopy(config.get_contacts_config(\"delve\"))\n",
    "gts_1 = []"
   ]
  },
  {
   "cell_type": "code",
   "execution_count": 43,
   "metadata": {},
   "outputs": [
    {
     "data": {
      "application/vnd.jupyter.widget-view+json": {
       "model_id": "5ff95b6feda745669b7102df8fdcf031",
       "version_major": 2,
       "version_minor": 0
      },
      "text/plain": [
       "HBox(children=(FloatProgress(value=0.0), HTML(value='')))"
      ]
     },
     "metadata": {},
     "output_type": "display_data"
    },
    {
     "name": "stdout",
     "output_type": "stream",
     "text": [
      "\n"
     ]
    }
   ],
   "source": [
    "# Used to store the experimentation result\n",
    "for _ in tqdm(range(n_experiments)):\n",
    "    outputs = do_simulation(policy_name, case_config, contacts_config, \n",
    "                            n_cases=10000,dict_params={\"go_to_school_prob\": 1})\n",
    "    results = pd.DataFrame(outputs).mean(0)\n",
    "    gts_1.append(float(results.loc[\"Effective R\"]))"
   ]
  },
  {
   "cell_type": "markdown",
   "metadata": {},
   "source": [
    "#### Home"
   ]
  },
  {
   "cell_type": "code",
   "execution_count": 44,
   "metadata": {},
   "outputs": [],
   "source": [
    "policy_name = \"S3_test_based_TTI\"\n",
    "n_experiments = 100 # number of simulations performed for a particular value\n",
    "case_config = deepcopy(config.get_case_config(\"delve\"))\n",
    "contacts_config = deepcopy(config.get_contacts_config(\"delve\"))\n",
    "gts_0 = []"
   ]
  },
  {
   "cell_type": "code",
   "execution_count": 45,
   "metadata": {},
   "outputs": [
    {
     "data": {
      "application/vnd.jupyter.widget-view+json": {
       "model_id": "70bdc3335fdf43ffb308c275e2e48fa5",
       "version_major": 2,
       "version_minor": 0
      },
      "text/plain": [
       "HBox(children=(FloatProgress(value=0.0), HTML(value='')))"
      ]
     },
     "metadata": {},
     "output_type": "display_data"
    },
    {
     "name": "stdout",
     "output_type": "stream",
     "text": [
      "\n"
     ]
    }
   ],
   "source": [
    "# Used to store the experimentation result\n",
    "for _ in tqdm(range(n_experiments)):\n",
    "    outputs = do_simulation(policy_name, case_config, contacts_config, \n",
    "                            n_cases=10000,dict_params={\"go_to_school_prob\": 0})\n",
    "    results = pd.DataFrame(outputs).mean(0)\n",
    "    gts_0.append(float(results.loc[\"Effective R\"]))"
   ]
  },
  {
   "cell_type": "markdown",
   "metadata": {},
   "source": [
    "#### Default"
   ]
  },
  {
   "cell_type": "code",
   "execution_count": 46,
   "metadata": {},
   "outputs": [],
   "source": [
    "policy_name = \"S3_test_based_TTI\"\n",
    "n_experiments = 100 # number of simulations performed for a particular value\n",
    "case_config = deepcopy(config.get_case_config(\"delve\"))\n",
    "contacts_config = deepcopy(config.get_contacts_config(\"delve\"))\n",
    "gts_default = []"
   ]
  },
  {
   "cell_type": "code",
   "execution_count": 47,
   "metadata": {},
   "outputs": [
    {
     "data": {
      "application/vnd.jupyter.widget-view+json": {
       "model_id": "2f96290bc2fd4279bbf4747b13d210f4",
       "version_major": 2,
       "version_minor": 0
      },
      "text/plain": [
       "HBox(children=(FloatProgress(value=0.0), HTML(value='')))"
      ]
     },
     "metadata": {},
     "output_type": "display_data"
    },
    {
     "name": "stdout",
     "output_type": "stream",
     "text": [
      "\n"
     ]
    }
   ],
   "source": [
    "# Used to store the experimentation result\n",
    "for _ in tqdm(range(n_experiments)):\n",
    "    outputs = do_simulation(policy_name, case_config, contacts_config, \n",
    "                            n_cases=10000)\n",
    "    results = pd.DataFrame(outputs).mean(0)\n",
    "    gts_default.append(float(results.loc[\"Effective R\"]))"
   ]
  },
  {
   "cell_type": "code",
   "execution_count": 48,
   "metadata": {},
   "outputs": [],
   "source": [
    "## Save result\n",
    "dict_gts = {\n",
    "    \"gts_0\": gts_0,\n",
    "    \"gts_1\": gts_1,\n",
    "    \"gts_default\": gts_default\n",
    "}\n",
    "\n",
    "pd.DataFrame(dict_gts).to_csv(\"../results/gts-causal.csv\", index=False)"
   ]
  },
  {
   "cell_type": "markdown",
   "metadata": {},
   "source": [
    "#### Visualise distribution\n",
    "\n",
    "We plot kernel density estimate of effective R."
   ]
  },
  {
   "cell_type": "code",
   "execution_count": 122,
   "metadata": {},
   "outputs": [
    {
     "data": {
      "image/png": "[encoded data removed]",
      "text/plain": [
       "<Figure size 432x288 with 1 Axes>"
      ]
     },
     "metadata": {},
     "output_type": "display_data"
    }
   ],
   "source": [
    "fig = plt.figure(figsize=(6, 4), facecolor=\"white\")\n",
    "ax = fig.add_subplot(111)\n",
    "sns.kdeplot(data=gts_0, ax=ax, shade=True, label=\"Go to school = 0\", linewidth=2)\n",
    "sns.kdeplot(data=gts_1, ax=ax, shade=True, label=\"Go to school = 1\", linewidth=2)\n",
    "sns.kdeplot(data=gts_default, ax=ax, shade=True, label=\"Default\", linewidth=2)\n",
    "\n",
    "ax.set_facecolor(\"white\")\n",
    "ax.spines['bottom'].set_color('black')\n",
    "ax.spines['left'].set_color('black')\n",
    "ax.spines['right'].set_visible(False)\n",
    "ax.spines['top'].set_visible(False)\n",
    "for axis in ['top','bottom','left','right']:\n",
    "    ax.spines[axis].set_linewidth(1.5)\n",
    "ax.tick_params(axis='both', which='major', labelsize=11)\n",
    "ax.set_xlabel(\"Effective $R$\", fontsize=13)\n",
    "legend = plt.legend(fontsize=11)\n",
    "frame = legend.get_frame()\n",
    "frame.set_facecolor(\"white\")\n",
    "plt.grid(False)\n",
    "plt.show()"
   ]
  },
  {
   "cell_type": "markdown",
   "metadata": {},
   "source": [
    "#### Check distribution difference\n",
    "We use Kolmogorov-Smirnov to check whether two distributions differ. Under the null hypothesis the two distributions are identical. If the K-S statistic is small or the p-value is high (greater than the significance level, say 5%), then we cannot reject the hypothesis that the distributions of the two samples are the same. Conversely, we can reject the null hypothesis if the p-value is low."
   ]
  },
  {
   "cell_type": "code",
   "execution_count": 50,
   "metadata": {},
   "outputs": [],
   "source": [
    "x = gts_0\n",
    "y = gts_1\n",
    "z = gts_default"
   ]
  },
  {
   "cell_type": "code",
   "execution_count": 51,
   "metadata": {},
   "outputs": [
    {
     "name": "stdout",
     "output_type": "stream",
     "text": [
      "x and y: Ks_2sampResult(statistic=0.9299999999999999, pvalue=1.9271763142800174e-39)\n",
      "x and z: Ks_2sampResult(statistic=0.6599999999999999, pvalue=4.475870497788872e-20)\n",
      "y and z: Ks_2sampResult(statistic=0.5700000000000001, pvalue=4.411787749587611e-15)\n"
     ]
    }
   ],
   "source": [
    "print(f\"x and y: {ks_2samp(x, y)}\")\n",
    "print(f\"x and z: {ks_2samp(x, z)}\")\n",
    "print(f\"y and z: {ks_2samp(y, z)}\")"
   ]
  },
  {
   "cell_type": "markdown",
   "metadata": {},
   "source": [
    "## Work SAR"
   ]
  },
  {
   "cell_type": "markdown",
   "metadata": {},
   "source": [
    "#### 0"
   ]
  },
  {
   "cell_type": "code",
   "execution_count": 52,
   "metadata": {},
   "outputs": [],
   "source": [
    "policy_name = \"S3_test_based_TTI\"\n",
    "n_experiments = 100 # number of simulations performed for a particular value\n",
    "case_config = deepcopy(config.get_case_config(\"delve\"))\n",
    "contacts_config = deepcopy(config.get_contacts_config(\"delve\"))\n",
    "work_sar_0 = []"
   ]
  },
  {
   "cell_type": "code",
   "execution_count": 53,
   "metadata": {},
   "outputs": [
    {
     "data": {
      "application/vnd.jupyter.widget-view+json": {
       "model_id": "64660ff83fbb438a83bc632c8505a1ce",
       "version_major": 2,
       "version_minor": 0
      },
      "text/plain": [
       "HBox(children=(FloatProgress(value=0.0), HTML(value='')))"
      ]
     },
     "metadata": {},
     "output_type": "display_data"
    },
    {
     "name": "stdout",
     "output_type": "stream",
     "text": [
      "\n"
     ]
    }
   ],
   "source": [
    "# Used to store the experimentation result\n",
    "for _ in tqdm(range(n_experiments)):\n",
    "    contacts_config[\"work_sar\"] = 0\n",
    "    outputs = do_simulation(policy_name, case_config, contacts_config, n_cases=10000)\n",
    "    results = pd.DataFrame(outputs).mean(0)\n",
    "    work_sar_0.append(float(results.loc[\"Effective R\"]))"
   ]
  },
  {
   "cell_type": "markdown",
   "metadata": {},
   "source": [
    "#### 0.5"
   ]
  },
  {
   "cell_type": "code",
   "execution_count": 54,
   "metadata": {},
   "outputs": [],
   "source": [
    "policy_name = \"S3_test_based_TTI\"\n",
    "n_experiments = 100 # number of simulations performed for a particular value\n",
    "case_config = deepcopy(config.get_case_config(\"delve\"))\n",
    "contacts_config = deepcopy(config.get_contacts_config(\"delve\"))\n",
    "work_sar_1 = []"
   ]
  },
  {
   "cell_type": "code",
   "execution_count": 55,
   "metadata": {},
   "outputs": [
    {
     "data": {
      "application/vnd.jupyter.widget-view+json": {
       "model_id": "b684c175ae98423f8ba59572aa6b7c5f",
       "version_major": 2,
       "version_minor": 0
      },
      "text/plain": [
       "HBox(children=(FloatProgress(value=0.0), HTML(value='')))"
      ]
     },
     "metadata": {},
     "output_type": "display_data"
    },
    {
     "name": "stdout",
     "output_type": "stream",
     "text": [
      "\n"
     ]
    }
   ],
   "source": [
    "# Used to store the experimentation result\n",
    "for _ in tqdm(range(n_experiments)):\n",
    "    contacts_config[\"work_sar\"] = 0.5\n",
    "    outputs = do_simulation(policy_name, case_config, contacts_config, n_cases=10000)\n",
    "    results = pd.DataFrame(outputs).mean(0)\n",
    "    work_sar_1.append(float(results.loc[\"Effective R\"]))"
   ]
  },
  {
   "cell_type": "markdown",
   "metadata": {},
   "source": [
    "#### Default"
   ]
  },
  {
   "cell_type": "code",
   "execution_count": 56,
   "metadata": {},
   "outputs": [],
   "source": [
    "policy_name = \"S3_test_based_TTI\"\n",
    "n_experiments = 100 # number of simulations performed for a particular value\n",
    "case_config = deepcopy(config.get_case_config(\"delve\"))\n",
    "contacts_config = deepcopy(config.get_contacts_config(\"delve\"))\n",
    "work_sar_default = []"
   ]
  },
  {
   "cell_type": "code",
   "execution_count": 57,
   "metadata": {},
   "outputs": [
    {
     "data": {
      "application/vnd.jupyter.widget-view+json": {
       "model_id": "17f08414493f4f70a553847944d0aeac",
       "version_major": 2,
       "version_minor": 0
      },
      "text/plain": [
       "HBox(children=(FloatProgress(value=0.0), HTML(value='')))"
      ]
     },
     "metadata": {},
     "output_type": "display_data"
    },
    {
     "name": "stdout",
     "output_type": "stream",
     "text": [
      "\n"
     ]
    }
   ],
   "source": [
    "# Used to store the experimentation result\n",
    "for _ in tqdm(range(n_experiments)):\n",
    "    outputs = do_simulation(policy_name, case_config, contacts_config, n_cases=10000)\n",
    "    results = pd.DataFrame(outputs).mean(0)\n",
    "    work_sar_default.append(float(results.loc[\"Effective R\"]))"
   ]
  },
  {
   "cell_type": "code",
   "execution_count": 58,
   "metadata": {},
   "outputs": [],
   "source": [
    "## Save result\n",
    "dict_ages = {\n",
    "    \"work_sar_0\": work_sar_0,\n",
    "    \"work_sar_1\": work_sar_1,\n",
    "    \"default\": work_sar_default\n",
    "}\n",
    "\n",
    "pd.DataFrame(dict_ages).to_csv(\"../results/work-sar-causal.csv\", index=False)"
   ]
  },
  {
   "cell_type": "markdown",
   "metadata": {},
   "source": [
    "#### Visualise distribution\n",
    "\n",
    "We plot kernel density estimate of effective R."
   ]
  },
  {
   "cell_type": "code",
   "execution_count": 59,
   "metadata": {},
   "outputs": [
    {
     "data": {
      "image/png": "[encoded data removed]",
      "text/plain": [
       "<Figure size 432x288 with 1 Axes>"
      ]
     },
     "metadata": {},
     "output_type": "display_data"
    }
   ],
   "source": [
    "fig = plt.figure(figsize=(6, 4), facecolor=\"white\")\n",
    "ax = fig.add_subplot(111)\n",
    "sns.kdeplot(data=work_sar_0, ax=ax, shade=True, label=\"Work SAR = 0\", linewidth=2)\n",
    "sns.kdeplot(data=work_sar_1, ax=ax, shade=True, label=\"Work SAR = 0.5\", linewidth=2)\n",
    "sns.kdeplot(data=work_sar_default, ax=ax, shade=True, label=\"Default\", linewidth=2)\n",
    "\n",
    "ax.set_facecolor(\"white\")\n",
    "ax.spines['bottom'].set_color('black')\n",
    "ax.spines['left'].set_color('black')\n",
    "ax.spines['right'].set_visible(False)\n",
    "ax.spines['top'].set_visible(False)\n",
    "for axis in ['top','bottom','left','right']:\n",
    "    ax.spines[axis].set_linewidth(1.5)\n",
    "ax.tick_params(axis='both', which='major', labelsize=11)\n",
    "ax.set_xlabel(\"Effective $R$\", fontsize=13)\n",
    "legend = plt.legend(fontsize=11)\n",
    "frame = legend.get_frame()\n",
    "frame.set_facecolor(\"white\")\n",
    "plt.grid(False)\n",
    "plt.show()"
   ]
  },
  {
   "cell_type": "markdown",
   "metadata": {},
   "source": [
    "#### Check distribution difference\n",
    "We use Kolmogorov-Smirnov to check whether two distributions differ. Under the null hypothesis the two distributions are identical. If the K-S statistic is small or the p-value is high (greater than the significance level, say 5%), then we cannot reject the hypothesis that the distributions of the two samples are the same. Conversely, we can reject the null hypothesis if the p-value is low."
   ]
  },
  {
   "cell_type": "code",
   "execution_count": 60,
   "metadata": {},
   "outputs": [],
   "source": [
    "x = work_sar_0\n",
    "y = work_sar_1\n",
    "z = work_sar_default"
   ]
  },
  {
   "cell_type": "code",
   "execution_count": 61,
   "metadata": {
    "scrolled": false
   },
   "outputs": [
    {
     "name": "stdout",
     "output_type": "stream",
     "text": [
      "x and y: Ks_2sampResult(statistic=1.0, pvalue=1.5505547466854487e-45)\n",
      "x and z: Ks_2sampResult(statistic=1.0, pvalue=1.5505547466854487e-45)\n",
      "y and z: Ks_2sampResult(statistic=1.0, pvalue=1.5505547466854487e-45)\n"
     ]
    }
   ],
   "source": [
    "print(f\"x and y: {ks_2samp(x, y)}\")\n",
    "print(f\"x and z: {ks_2samp(x, z)}\")\n",
    "print(f\"y and z: {ks_2samp(y, z)}\")"
   ]
  },
  {
   "cell_type": "markdown",
   "metadata": {},
   "source": [
    "## Other SAR"
   ]
  },
  {
   "cell_type": "markdown",
   "metadata": {},
   "source": [
    "#### 0"
   ]
  },
  {
   "cell_type": "code",
   "execution_count": 62,
   "metadata": {},
   "outputs": [],
   "source": [
    "policy_name = \"S3_test_based_TTI\"\n",
    "n_experiments = 100 # number of simulations performed for a particular value\n",
    "case_config = deepcopy(config.get_case_config(\"delve\"))\n",
    "contacts_config = deepcopy(config.get_contacts_config(\"delve\"))\n",
    "other_sar_0 = []"
   ]
  },
  {
   "cell_type": "code",
   "execution_count": 63,
   "metadata": {},
   "outputs": [
    {
     "data": {
      "application/vnd.jupyter.widget-view+json": {
       "model_id": "76533c42d99a48bcbf79cac8833dcbc4",
       "version_major": 2,
       "version_minor": 0
      },
      "text/plain": [
       "HBox(children=(FloatProgress(value=0.0), HTML(value='')))"
      ]
     },
     "metadata": {},
     "output_type": "display_data"
    },
    {
     "name": "stdout",
     "output_type": "stream",
     "text": [
      "\n"
     ]
    }
   ],
   "source": [
    "# Used to store the experimentation result\n",
    "for _ in tqdm(range(n_experiments)):\n",
    "    contacts_config[\"other_sar\"] = 0\n",
    "    outputs = do_simulation(policy_name, case_config, contacts_config, n_cases=10000)\n",
    "    results = pd.DataFrame(outputs).mean(0)\n",
    "    other_sar_0.append(float(results.loc[\"Effective R\"]))"
   ]
  },
  {
   "cell_type": "markdown",
   "metadata": {},
   "source": [
    "#### 0.5"
   ]
  },
  {
   "cell_type": "code",
   "execution_count": 64,
   "metadata": {},
   "outputs": [],
   "source": [
    "policy_name = \"S3_test_based_TTI\"\n",
    "n_experiments = 100 # number of simulations performed for a particular value\n",
    "case_config = deepcopy(config.get_case_config(\"delve\"))\n",
    "contacts_config = deepcopy(config.get_contacts_config(\"delve\"))\n",
    "other_sar_1 = []"
   ]
  },
  {
   "cell_type": "code",
   "execution_count": 65,
   "metadata": {},
   "outputs": [
    {
     "data": {
      "application/vnd.jupyter.widget-view+json": {
       "model_id": "8001c1340e9a4d5c9816c60154269f57",
       "version_major": 2,
       "version_minor": 0
      },
      "text/plain": [
       "HBox(children=(FloatProgress(value=0.0), HTML(value='')))"
      ]
     },
     "metadata": {},
     "output_type": "display_data"
    },
    {
     "name": "stdout",
     "output_type": "stream",
     "text": [
      "\n"
     ]
    }
   ],
   "source": [
    "# Used to store the experimentation result\n",
    "for _ in tqdm(range(n_experiments)):\n",
    "    contacts_config[\"other_sar\"] = 0.5\n",
    "    outputs = do_simulation(policy_name, case_config, contacts_config, n_cases=10000)\n",
    "    results = pd.DataFrame(outputs).mean(0)\n",
    "    other_sar_1.append(float(results.loc[\"Effective R\"]))"
   ]
  },
  {
   "cell_type": "markdown",
   "metadata": {},
   "source": [
    "#### Default"
   ]
  },
  {
   "cell_type": "code",
   "execution_count": 66,
   "metadata": {},
   "outputs": [],
   "source": [
    "policy_name = \"S3_test_based_TTI\"\n",
    "n_experiments = 100 # number of simulations performed for a particular value\n",
    "case_config = deepcopy(config.get_case_config(\"delve\"))\n",
    "contacts_config = deepcopy(config.get_contacts_config(\"delve\"))\n",
    "other_sar_default = []"
   ]
  },
  {
   "cell_type": "code",
   "execution_count": 67,
   "metadata": {},
   "outputs": [
    {
     "data": {
      "application/vnd.jupyter.widget-view+json": {
       "model_id": "81456ef9132d4dc49b0d87c1eb8ab1cd",
       "version_major": 2,
       "version_minor": 0
      },
      "text/plain": [
       "HBox(children=(FloatProgress(value=0.0), HTML(value='')))"
      ]
     },
     "metadata": {},
     "output_type": "display_data"
    },
    {
     "name": "stdout",
     "output_type": "stream",
     "text": [
      "\n"
     ]
    }
   ],
   "source": [
    "# Used to store the experimentation result\n",
    "for _ in tqdm(range(n_experiments)):\n",
    "    outputs = do_simulation(policy_name, case_config, contacts_config, n_cases=10000)\n",
    "    results = pd.DataFrame(outputs).mean(0)\n",
    "    other_sar_default.append(float(results.loc[\"Effective R\"]))"
   ]
  },
  {
   "cell_type": "code",
   "execution_count": 68,
   "metadata": {},
   "outputs": [],
   "source": [
    "## Save result\n",
    "dict_ages = {\n",
    "    \"other_sar_0\": work_sar_0,\n",
    "    \"other_sar_1\": work_sar_1,\n",
    "    \"default\": work_sar_default\n",
    "}\n",
    "\n",
    "pd.DataFrame(dict_ages).to_csv(\"../results/other-sar-causal.csv\", index=False)"
   ]
  },
  {
   "cell_type": "markdown",
   "metadata": {},
   "source": [
    "#### Visualise distribution\n",
    "\n",
    "We plot kernel density estimate of effective R."
   ]
  },
  {
   "cell_type": "code",
   "execution_count": 69,
   "metadata": {},
   "outputs": [
    {
     "data": {
      "image/png": "[encoded data removed]",
      "text/plain": [
       "<Figure size 432x288 with 1 Axes>"
      ]
     },
     "metadata": {},
     "output_type": "display_data"
    }
   ],
   "source": [
    "fig = plt.figure(figsize=(6, 4), facecolor=\"white\")\n",
    "ax = fig.add_subplot(111)\n",
    "sns.kdeplot(data=other_sar_0, ax=ax, shade=True, label=\"Other SAR = 0\", linewidth=2)\n",
    "sns.kdeplot(data=other_sar_1, ax=ax, shade=True, label=\"Other SAR = 0.5\", linewidth=2)\n",
    "sns.kdeplot(data=other_sar_default, ax=ax, shade=True, label=\"Default\", linewidth=2)\n",
    "\n",
    "ax.set_facecolor(\"white\")\n",
    "ax.spines['bottom'].set_color('black')\n",
    "ax.spines['left'].set_color('black')\n",
    "ax.spines['right'].set_visible(False)\n",
    "ax.spines['top'].set_visible(False)\n",
    "for axis in ['top','bottom','left','right']:\n",
    "    ax.spines[axis].set_linewidth(1.5)\n",
    "ax.tick_params(axis='both', which='major', labelsize=11)\n",
    "ax.set_xlabel(\"Effective $R$\", fontsize=13)\n",
    "legend = plt.legend(fontsize=11)\n",
    "frame = legend.get_frame()\n",
    "frame.set_facecolor(\"white\")\n",
    "plt.grid(False)\n",
    "plt.show()"
   ]
  },
  {
   "cell_type": "markdown",
   "metadata": {},
   "source": [
    "#### Check distribution difference\n",
    "We use Kolmogorov-Smirnov to check whether two distributions differ. Under the null hypothesis the two distributions are identical. If the K-S statistic is small or the p-value is high (greater than the significance level, say 5%), then we cannot reject the hypothesis that the distributions of the two samples are the same. Conversely, we can reject the null hypothesis if the p-value is low."
   ]
  },
  {
   "cell_type": "code",
   "execution_count": 70,
   "metadata": {},
   "outputs": [],
   "source": [
    "x = other_sar_0\n",
    "y = other_sar_1\n",
    "z = other_sar_default"
   ]
  },
  {
   "cell_type": "code",
   "execution_count": 71,
   "metadata": {
    "scrolled": false
   },
   "outputs": [
    {
     "name": "stdout",
     "output_type": "stream",
     "text": [
      "x and y: Ks_2sampResult(statistic=1.0, pvalue=1.5505547466854487e-45)\n",
      "x and z: Ks_2sampResult(statistic=1.0, pvalue=1.5505547466854487e-45)\n",
      "y and z: Ks_2sampResult(statistic=1.0, pvalue=1.5505547466854487e-45)\n"
     ]
    }
   ],
   "source": [
    "print(f\"x and y: {ks_2samp(x, y)}\")\n",
    "print(f\"x and z: {ks_2samp(x, z)}\")\n",
    "print(f\"y and z: {ks_2samp(y, z)}\")"
   ]
  },
  {
   "cell_type": "markdown",
   "metadata": {},
   "source": [
    "## Home SAR"
   ]
  },
  {
   "cell_type": "markdown",
   "metadata": {},
   "source": [
    "#### 0"
   ]
  },
  {
   "cell_type": "code",
   "execution_count": 72,
   "metadata": {},
   "outputs": [],
   "source": [
    "policy_name = \"S3_test_based_TTI\"\n",
    "n_experiments = 100 # number of simulations performed for a particular value\n",
    "case_config = deepcopy(config.get_case_config(\"delve\"))\n",
    "contacts_config = deepcopy(config.get_contacts_config(\"delve\"))\n",
    "home_sar_0 = []"
   ]
  },
  {
   "cell_type": "code",
   "execution_count": 73,
   "metadata": {},
   "outputs": [
    {
     "data": {
      "application/vnd.jupyter.widget-view+json": {
       "model_id": "9c80703bce7e47719d268f878f50fd44",
       "version_major": 2,
       "version_minor": 0
      },
      "text/plain": [
       "HBox(children=(FloatProgress(value=0.0), HTML(value='')))"
      ]
     },
     "metadata": {},
     "output_type": "display_data"
    },
    {
     "name": "stdout",
     "output_type": "stream",
     "text": [
      "\n"
     ]
    }
   ],
   "source": [
    "# Used to store the experimentation result\n",
    "for _ in tqdm(range(n_experiments)):\n",
    "    contacts_config[\"home_sar\"] = 0\n",
    "    outputs = do_simulation(policy_name, case_config, contacts_config, n_cases=10000)\n",
    "    results = pd.DataFrame(outputs).mean(0)\n",
    "    home_sar_0.append(float(results.loc[\"Effective R\"]))"
   ]
  },
  {
   "cell_type": "markdown",
   "metadata": {},
   "source": [
    "#### 0.5"
   ]
  },
  {
   "cell_type": "code",
   "execution_count": 74,
   "metadata": {},
   "outputs": [],
   "source": [
    "policy_name = \"S3_test_based_TTI\"\n",
    "n_experiments = 100 # number of simulations performed for a particular value\n",
    "case_config = deepcopy(config.get_case_config(\"delve\"))\n",
    "contacts_config = deepcopy(config.get_contacts_config(\"delve\"))\n",
    "home_sar_1 = []"
   ]
  },
  {
   "cell_type": "code",
   "execution_count": 75,
   "metadata": {},
   "outputs": [
    {
     "data": {
      "application/vnd.jupyter.widget-view+json": {
       "model_id": "1b456f9b5f0d4a02be6a19cc1b0057db",
       "version_major": 2,
       "version_minor": 0
      },
      "text/plain": [
       "HBox(children=(FloatProgress(value=0.0), HTML(value='')))"
      ]
     },
     "metadata": {},
     "output_type": "display_data"
    },
    {
     "name": "stdout",
     "output_type": "stream",
     "text": [
      "\n"
     ]
    }
   ],
   "source": [
    "# Used to store the experimentation result\n",
    "for _ in tqdm(range(n_experiments)):\n",
    "    contacts_config[\"home_sar\"] = 0.5\n",
    "    outputs = do_simulation(policy_name, case_config, contacts_config, n_cases=10000)\n",
    "    results = pd.DataFrame(outputs).mean(0)\n",
    "    home_sar_1.append(float(results.loc[\"Effective R\"]))"
   ]
  },
  {
   "cell_type": "markdown",
   "metadata": {},
   "source": [
    "#### Default"
   ]
  },
  {
   "cell_type": "code",
   "execution_count": 76,
   "metadata": {},
   "outputs": [],
   "source": [
    "policy_name = \"S3_test_based_TTI\"\n",
    "n_experiments = 100 # number of simulations performed for a particular value\n",
    "case_config = deepcopy(config.get_case_config(\"delve\"))\n",
    "contacts_config = deepcopy(config.get_contacts_config(\"delve\"))\n",
    "home_sar_default = []"
   ]
  },
  {
   "cell_type": "code",
   "execution_count": 77,
   "metadata": {},
   "outputs": [
    {
     "data": {
      "application/vnd.jupyter.widget-view+json": {
       "model_id": "988eec7db2014e428b44688059d3bf75",
       "version_major": 2,
       "version_minor": 0
      },
      "text/plain": [
       "HBox(children=(FloatProgress(value=0.0), HTML(value='')))"
      ]
     },
     "metadata": {},
     "output_type": "display_data"
    },
    {
     "name": "stdout",
     "output_type": "stream",
     "text": [
      "\n"
     ]
    }
   ],
   "source": [
    "# Used to store the experimentation result\n",
    "for _ in tqdm(range(n_experiments)):\n",
    "    outputs = do_simulation(policy_name, case_config, contacts_config, n_cases=10000)\n",
    "    results = pd.DataFrame(outputs).mean(0)\n",
    "    home_sar_default.append(float(results.loc[\"Effective R\"]))"
   ]
  },
  {
   "cell_type": "code",
   "execution_count": 78,
   "metadata": {},
   "outputs": [],
   "source": [
    "## Save result\n",
    "dict_ages = {\n",
    "    \"home_sar_0\": work_sar_0,\n",
    "    \"home_sar_1\": work_sar_1,\n",
    "    \"default\": work_sar_default\n",
    "}\n",
    "\n",
    "pd.DataFrame(dict_ages).to_csv(\"../results/home-sar-causal.csv\", index=False)"
   ]
  },
  {
   "cell_type": "markdown",
   "metadata": {},
   "source": [
    "#### Visualise distribution\n",
    "\n",
    "We plot kernel density estimate of effective R."
   ]
  },
  {
   "cell_type": "code",
   "execution_count": 79,
   "metadata": {},
   "outputs": [
    {
     "data": {
      "image/png": "[encoded data removed]",
      "text/plain": [
       "<Figure size 432x288 with 1 Axes>"
      ]
     },
     "metadata": {},
     "output_type": "display_data"
    }
   ],
   "source": [
    "fig = plt.figure(figsize=(6, 4), facecolor=\"white\")\n",
    "ax = fig.add_subplot(111)\n",
    "sns.kdeplot(data=home_sar_0, ax=ax, shade=True, label=\"Home SAR = 0\", linewidth=2)\n",
    "sns.kdeplot(data=home_sar_1, ax=ax, shade=True, label=\"Home SAR = 0.5\", linewidth=2)\n",
    "sns.kdeplot(data=home_sar_default, ax=ax, shade=True, label=\"Default\", linewidth=2)\n",
    "\n",
    "ax.set_facecolor(\"white\")\n",
    "ax.spines['bottom'].set_color('black')\n",
    "ax.spines['left'].set_color('black')\n",
    "ax.spines['right'].set_visible(False)\n",
    "ax.spines['top'].set_visible(False)\n",
    "for axis in ['top','bottom','left','right']:\n",
    "    ax.spines[axis].set_linewidth(1.5)\n",
    "ax.tick_params(axis='both', which='major', labelsize=11)\n",
    "ax.set_xlabel(\"Effective $R$\", fontsize=13)\n",
    "legend = plt.legend(fontsize=11)\n",
    "frame = legend.get_frame()\n",
    "frame.set_facecolor(\"white\")\n",
    "plt.grid(False)\n",
    "plt.show()"
   ]
  },
  {
   "cell_type": "markdown",
   "metadata": {},
   "source": [
    "#### Check distribution difference\n",
    "We use Kolmogorov-Smirnov to check whether two distributions differ. Under the null hypothesis the two distributions are identical. If the K-S statistic is small or the p-value is high (greater than the significance level, say 5%), then we cannot reject the hypothesis that the distributions of the two samples are the same. Conversely, we can reject the null hypothesis if the p-value is low."
   ]
  },
  {
   "cell_type": "code",
   "execution_count": 80,
   "metadata": {},
   "outputs": [],
   "source": [
    "x = home_sar_0\n",
    "y = home_sar_1\n",
    "z = home_sar_default"
   ]
  },
  {
   "cell_type": "code",
   "execution_count": 81,
   "metadata": {
    "scrolled": false
   },
   "outputs": [
    {
     "name": "stdout",
     "output_type": "stream",
     "text": [
      "x and y: Ks_2sampResult(statistic=1.0, pvalue=1.5505547466854487e-45)\n",
      "x and z: Ks_2sampResult(statistic=0.98, pvalue=9.481228281626575e-44)\n",
      "y and z: Ks_2sampResult(statistic=0.89, pvalue=3.7065423944697716e-36)\n"
     ]
    }
   ],
   "source": [
    "print(f\"x and y: {ks_2samp(x, y)}\")\n",
    "print(f\"x and z: {ks_2samp(x, z)}\")\n",
    "print(f\"y and z: {ks_2samp(y, z)}\")"
   ]
  },
  {
   "cell_type": "markdown",
   "metadata": {},
   "source": [
    "## Maximum Contacts"
   ]
  },
  {
   "cell_type": "markdown",
   "metadata": {},
   "source": [
    "#### 2"
   ]
  },
  {
   "cell_type": "code",
   "execution_count": 82,
   "metadata": {},
   "outputs": [],
   "source": [
    "policy_name = \"S3_test_based_TTI\"\n",
    "n_experiments = 100 # number of simulations performed for a particular value\n",
    "case_config = deepcopy(config.get_case_config(\"delve\"))\n",
    "contacts_config = deepcopy(config.get_contacts_config(\"delve\"))\n",
    "max_contacts_0 = []"
   ]
  },
  {
   "cell_type": "code",
   "execution_count": 83,
   "metadata": {},
   "outputs": [
    {
     "data": {
      "application/vnd.jupyter.widget-view+json": {
       "model_id": "dac9eb637bd24dcd8f0c447558cb2782",
       "version_major": 2,
       "version_minor": 0
      },
      "text/plain": [
       "HBox(children=(FloatProgress(value=0.0), HTML(value='')))"
      ]
     },
     "metadata": {},
     "output_type": "display_data"
    },
    {
     "name": "stdout",
     "output_type": "stream",
     "text": [
      "\n"
     ]
    }
   ],
   "source": [
    "# Used to store the experimentation result\n",
    "for _ in tqdm(range(n_experiments)):\n",
    "    outputs = do_simulation(policy_name, case_config, \n",
    "                            contacts_config, n_cases=10000,\n",
    "                           dict_params={\"max_contacts\": 2})\n",
    "    results = pd.DataFrame(outputs).mean(0)\n",
    "    max_contacts_0.append(float(results.loc[\"Effective R\"]))"
   ]
  },
  {
   "cell_type": "markdown",
   "metadata": {},
   "source": [
    "#### 22"
   ]
  },
  {
   "cell_type": "code",
   "execution_count": 84,
   "metadata": {},
   "outputs": [],
   "source": [
    "policy_name = \"S3_test_based_TTI\"\n",
    "n_experiments = 100 # number of simulations performed for a particular value\n",
    "case_config = deepcopy(config.get_case_config(\"delve\"))\n",
    "contacts_config = deepcopy(config.get_contacts_config(\"delve\"))\n",
    "max_contacts_1 = []"
   ]
  },
  {
   "cell_type": "code",
   "execution_count": 85,
   "metadata": {},
   "outputs": [
    {
     "data": {
      "application/vnd.jupyter.widget-view+json": {
       "model_id": "b98970a948784553ba70b1f8ea079ae0",
       "version_major": 2,
       "version_minor": 0
      },
      "text/plain": [
       "HBox(children=(FloatProgress(value=0.0), HTML(value='')))"
      ]
     },
     "metadata": {},
     "output_type": "display_data"
    },
    {
     "name": "stdout",
     "output_type": "stream",
     "text": [
      "\n"
     ]
    }
   ],
   "source": [
    "# Used to store the experimentation result\n",
    "for _ in tqdm(range(n_experiments)):\n",
    "    outputs = do_simulation(policy_name, case_config, \n",
    "                            contacts_config, n_cases=10000,\n",
    "                           dict_params={\"max_contacts\": 22})\n",
    "    results = pd.DataFrame(outputs).mean(0)\n",
    "    max_contacts_1.append(float(results.loc[\"Effective R\"]))"
   ]
  },
  {
   "cell_type": "markdown",
   "metadata": {},
   "source": [
    "#### Default"
   ]
  },
  {
   "cell_type": "code",
   "execution_count": 86,
   "metadata": {},
   "outputs": [],
   "source": [
    "policy_name = \"S3_test_based_TTI\"\n",
    "n_experiments = 100 # number of simulations performed for a particular value\n",
    "case_config = deepcopy(config.get_case_config(\"delve\"))\n",
    "contacts_config = deepcopy(config.get_contacts_config(\"delve\"))\n",
    "max_contacts_default = []"
   ]
  },
  {
   "cell_type": "code",
   "execution_count": 87,
   "metadata": {},
   "outputs": [
    {
     "data": {
      "application/vnd.jupyter.widget-view+json": {
       "model_id": "3a35ada7a84a4ab2b133c95b5c8dde2c",
       "version_major": 2,
       "version_minor": 0
      },
      "text/plain": [
       "HBox(children=(FloatProgress(value=0.0), HTML(value='')))"
      ]
     },
     "metadata": {},
     "output_type": "display_data"
    },
    {
     "name": "stdout",
     "output_type": "stream",
     "text": [
      "\n"
     ]
    }
   ],
   "source": [
    "# Used to store the experimentation result\n",
    "for _ in tqdm(range(n_experiments)):\n",
    "    outputs = do_simulation(policy_name, case_config, \n",
    "                            contacts_config, n_cases=10000)\n",
    "    results = pd.DataFrame(outputs).mean(0)\n",
    "    max_contacts_default.append(float(results.loc[\"Effective R\"]))"
   ]
  },
  {
   "cell_type": "code",
   "execution_count": 88,
   "metadata": {},
   "outputs": [],
   "source": [
    "## Save result\n",
    "dict_ages = {\n",
    "    \"max_contacts_0\": max_contacts_0,\n",
    "    \"max_contacts_1\": max_contacts_1,\n",
    "    \"default\": max_contacts_default\n",
    "}\n",
    "\n",
    "pd.DataFrame(dict_ages).to_csv(\"../results/max-causal.csv\", index=False)"
   ]
  },
  {
   "cell_type": "markdown",
   "metadata": {},
   "source": [
    "#### Visualise distribution\n",
    "\n",
    "We plot kernel density estimate of effective R."
   ]
  },
  {
   "cell_type": "code",
   "execution_count": 89,
   "metadata": {},
   "outputs": [
    {
     "data": {
      "image/png": "[encoded data removed]",
      "text/plain": [
       "<Figure size 432x288 with 1 Axes>"
      ]
     },
     "metadata": {},
     "output_type": "display_data"
    }
   ],
   "source": [
    "fig = plt.figure(figsize=(6, 4), facecolor=\"white\")\n",
    "ax = fig.add_subplot(111)\n",
    "sns.kdeplot(data=max_contacts_0, ax=ax, shade=True, label=\"Maximum contacts = 2\", linewidth=2)\n",
    "sns.kdeplot(data=max_contacts_1, ax=ax, shade=True, label=\"Maximum contacts = 22\", linewidth=2)\n",
    "sns.kdeplot(data=max_contacts_default, ax=ax, shade=True, label=\"Default\", linewidth=2)\n",
    "\n",
    "ax.set_facecolor(\"white\")\n",
    "ax.spines['bottom'].set_color('black')\n",
    "ax.spines['left'].set_color('black')\n",
    "ax.spines['right'].set_visible(False)\n",
    "ax.spines['top'].set_visible(False)\n",
    "for axis in ['top','bottom','left','right']:\n",
    "    ax.spines[axis].set_linewidth(1.5)\n",
    "ax.tick_params(axis='both', which='major', labelsize=11)\n",
    "ax.set_xlabel(\"Effective $R$\", fontsize=13)\n",
    "legend = plt.legend(fontsize=11)\n",
    "frame = legend.get_frame()\n",
    "frame.set_facecolor(\"white\")\n",
    "plt.grid(False)\n",
    "plt.show()"
   ]
  },
  {
   "cell_type": "markdown",
   "metadata": {},
   "source": [
    "#### Check distribution difference\n",
    "We use Kolmogorov-Smirnov to check whether two distributions differ. Under the null hypothesis the two distributions are identical. If the K-S statistic is small or the p-value is high (greater than the significance level, say 5%), then we cannot reject the hypothesis that the distributions of the two samples are the same. Conversely, we can reject the null hypothesis if the p-value is low."
   ]
  },
  {
   "cell_type": "code",
   "execution_count": 90,
   "metadata": {},
   "outputs": [],
   "source": [
    "x = max_contacts_0\n",
    "y = max_contacts_1\n",
    "z = max_contacts_default"
   ]
  },
  {
   "cell_type": "code",
   "execution_count": 91,
   "metadata": {
    "scrolled": false
   },
   "outputs": [
    {
     "name": "stdout",
     "output_type": "stream",
     "text": [
      "x and y: Ks_2sampResult(statistic=1.0, pvalue=1.5505547466854487e-45)\n",
      "x and z: Ks_2sampResult(statistic=1.0, pvalue=1.5505547466854487e-45)\n",
      "y and z: Ks_2sampResult(statistic=0.61, pvalue=3.276400518465122e-17)\n"
     ]
    }
   ],
   "source": [
    "print(f\"x and y: {ks_2samp(x, y)}\")\n",
    "print(f\"x and z: {ks_2samp(x, z)}\")\n",
    "print(f\"y and z: {ks_2samp(y, z)}\")"
   ]
  },
  {
   "cell_type": "markdown",
   "metadata": {},
   "source": [
    "## Compliance"
   ]
  },
  {
   "cell_type": "markdown",
   "metadata": {},
   "source": [
    "#### 0"
   ]
  },
  {
   "cell_type": "code",
   "execution_count": 92,
   "metadata": {},
   "outputs": [],
   "source": [
    "policy_name = \"S3_test_based_TTI\"\n",
    "n_experiments = 100 # number of simulations performed for a particular value\n",
    "case_config = deepcopy(config.get_case_config(\"delve\"))\n",
    "contacts_config = deepcopy(config.get_contacts_config(\"delve\"))\n",
    "compliance_0 = []"
   ]
  },
  {
   "cell_type": "code",
   "execution_count": 93,
   "metadata": {},
   "outputs": [
    {
     "data": {
      "application/vnd.jupyter.widget-view+json": {
       "model_id": "b8543b3bc4cd4f01a5e3b303c06ea86f",
       "version_major": 2,
       "version_minor": 0
      },
      "text/plain": [
       "HBox(children=(FloatProgress(value=0.0), HTML(value='')))"
      ]
     },
     "metadata": {},
     "output_type": "display_data"
    },
    {
     "name": "stdout",
     "output_type": "stream",
     "text": [
      "\n"
     ]
    }
   ],
   "source": [
    "# Used to store the experimentation result\n",
    "for _ in tqdm(range(n_experiments)):\n",
    "    outputs = do_simulation(policy_name, case_config, \n",
    "                            contacts_config, n_cases=10000,\n",
    "                           dict_params={\"compliance\": 0})\n",
    "    results = pd.DataFrame(outputs).mean(0)\n",
    "    compliance_0.append(float(results.loc[\"Effective R\"]))"
   ]
  },
  {
   "cell_type": "markdown",
   "metadata": {},
   "source": [
    "#### 1"
   ]
  },
  {
   "cell_type": "code",
   "execution_count": 94,
   "metadata": {},
   "outputs": [],
   "source": [
    "policy_name = \"S3_test_based_TTI\"\n",
    "n_experiments = 100 # number of simulations performed for a particular value\n",
    "case_config = deepcopy(config.get_case_config(\"delve\"))\n",
    "contacts_config = deepcopy(config.get_contacts_config(\"delve\"))\n",
    "compliance_1 = []"
   ]
  },
  {
   "cell_type": "code",
   "execution_count": 95,
   "metadata": {},
   "outputs": [
    {
     "data": {
      "application/vnd.jupyter.widget-view+json": {
       "model_id": "91f811ccd7514148a57641f12f92072c",
       "version_major": 2,
       "version_minor": 0
      },
      "text/plain": [
       "HBox(children=(FloatProgress(value=0.0), HTML(value='')))"
      ]
     },
     "metadata": {},
     "output_type": "display_data"
    },
    {
     "name": "stdout",
     "output_type": "stream",
     "text": [
      "\n"
     ]
    }
   ],
   "source": [
    "# Used to store the experimentation result\n",
    "for _ in tqdm(range(n_experiments)):\n",
    "    outputs = do_simulation(policy_name, case_config, \n",
    "                            contacts_config, n_cases=10000,\n",
    "                           dict_params={\"compliance\": 1})\n",
    "    results = pd.DataFrame(outputs).mean(0)\n",
    "    compliance_1.append(float(results.loc[\"Effective R\"]))"
   ]
  },
  {
   "cell_type": "markdown",
   "metadata": {},
   "source": [
    "#### Default"
   ]
  },
  {
   "cell_type": "code",
   "execution_count": 96,
   "metadata": {},
   "outputs": [],
   "source": [
    "policy_name = \"S3_test_based_TTI\"\n",
    "n_experiments = 100 # number of simulations performed for a particular value\n",
    "case_config = deepcopy(config.get_case_config(\"delve\"))\n",
    "contacts_config = deepcopy(config.get_contacts_config(\"delve\"))\n",
    "compliance_default = []"
   ]
  },
  {
   "cell_type": "code",
   "execution_count": 97,
   "metadata": {},
   "outputs": [
    {
     "data": {
      "application/vnd.jupyter.widget-view+json": {
       "model_id": "4573a04189524e40b7867c073dbdb9e7",
       "version_major": 2,
       "version_minor": 0
      },
      "text/plain": [
       "HBox(children=(FloatProgress(value=0.0), HTML(value='')))"
      ]
     },
     "metadata": {},
     "output_type": "display_data"
    },
    {
     "name": "stdout",
     "output_type": "stream",
     "text": [
      "\n"
     ]
    }
   ],
   "source": [
    "# Used to store the experimentation result\n",
    "for _ in tqdm(range(n_experiments)):\n",
    "    outputs = do_simulation(policy_name, case_config, \n",
    "                            contacts_config, n_cases=10000)\n",
    "    results = pd.DataFrame(outputs).mean(0)\n",
    "    compliance_default.append(float(results.loc[\"Effective R\"]))"
   ]
  },
  {
   "cell_type": "code",
   "execution_count": 98,
   "metadata": {},
   "outputs": [],
   "source": [
    "## Save result\n",
    "dict_ages = {\n",
    "    \"compliance_0\": compliance_0,\n",
    "    \"compliance_1\": compliance_1,\n",
    "    \"default\": compliance_default\n",
    "}\n",
    "\n",
    "pd.DataFrame(dict_ages).to_csv(\"../results/compliance-causal.csv\", index=False)"
   ]
  },
  {
   "cell_type": "markdown",
   "metadata": {},
   "source": [
    "#### Visualise distribution\n",
    "\n",
    "We plot kernel density estimate of effective R."
   ]
  },
  {
   "cell_type": "code",
   "execution_count": 99,
   "metadata": {},
   "outputs": [
    {
     "data": {
      "image/png": "[encoded data removed]",
      "text/plain": [
       "<Figure size 432x288 with 1 Axes>"
      ]
     },
     "metadata": {},
     "output_type": "display_data"
    }
   ],
   "source": [
    "fig = plt.figure(figsize=(6, 4), facecolor=\"white\")\n",
    "ax = fig.add_subplot(111)\n",
    "sns.kdeplot(data=compliance_0, ax=ax, shade=True, label=\"Compliance = 0\", linewidth=2)\n",
    "sns.kdeplot(data=compliance_1, ax=ax, shade=True, label=\"Compliance = 1\", linewidth=2)\n",
    "sns.kdeplot(data=compliance_default, ax=ax, shade=True, label=\"Default\", linewidth=2)\n",
    "\n",
    "ax.set_facecolor(\"white\")\n",
    "ax.spines['bottom'].set_color('black')\n",
    "ax.spines['left'].set_color('black')\n",
    "ax.spines['right'].set_visible(False)\n",
    "ax.spines['top'].set_visible(False)\n",
    "for axis in ['top','bottom','left','right']:\n",
    "    ax.spines[axis].set_linewidth(1.5)\n",
    "ax.tick_params(axis='both', which='major', labelsize=11)\n",
    "ax.set_xlabel(\"Effective $R$\", fontsize=13)\n",
    "legend = plt.legend(fontsize=11)\n",
    "frame = legend.get_frame()\n",
    "frame.set_facecolor(\"white\")\n",
    "plt.grid(False)\n",
    "plt.show()"
   ]
  },
  {
   "cell_type": "markdown",
   "metadata": {},
   "source": [
    "#### Check distribution difference\n",
    "We use Kolmogorov-Smirnov to check whether two distributions differ. Under the null hypothesis the two distributions are identical. If the K-S statistic is small or the p-value is high (greater than the significance level, say 5%), then we cannot reject the hypothesis that the distributions of the two samples are the same. Conversely, we can reject the null hypothesis if the p-value is low."
   ]
  },
  {
   "cell_type": "code",
   "execution_count": 100,
   "metadata": {},
   "outputs": [],
   "source": [
    "x = compliance_0\n",
    "y = compliance_1\n",
    "z = compliance_default"
   ]
  },
  {
   "cell_type": "code",
   "execution_count": 101,
   "metadata": {
    "scrolled": false
   },
   "outputs": [
    {
     "name": "stdout",
     "output_type": "stream",
     "text": [
      "x and y: Ks_2sampResult(statistic=1.0, pvalue=1.5505547466854487e-45)\n",
      "x and z: Ks_2sampResult(statistic=1.0, pvalue=1.5505547466854487e-45)\n",
      "y and z: Ks_2sampResult(statistic=1.0, pvalue=1.5505547466854487e-45)\n"
     ]
    }
   ],
   "source": [
    "print(f\"x and y: {ks_2samp(x, y)}\")\n",
    "print(f\"x and z: {ks_2samp(x, z)}\")\n",
    "print(f\"y and z: {ks_2samp(y, z)}\")"
   ]
  },
  {
   "cell_type": "markdown",
   "metadata": {},
   "source": [
    "## Application Uptake"
   ]
  },
  {
   "cell_type": "markdown",
   "metadata": {},
   "source": [
    "#### 0"
   ]
  },
  {
   "cell_type": "code",
   "execution_count": 102,
   "metadata": {},
   "outputs": [],
   "source": [
    "policy_name = \"S3_test_based_TTI\"\n",
    "n_experiments = 100 # number of simulations performed for a particular value\n",
    "case_config = deepcopy(config.get_case_config(\"delve\"))\n",
    "contacts_config = deepcopy(config.get_contacts_config(\"delve\"))\n",
    "app_0 = []"
   ]
  },
  {
   "cell_type": "code",
   "execution_count": 103,
   "metadata": {},
   "outputs": [
    {
     "data": {
      "application/vnd.jupyter.widget-view+json": {
       "model_id": "2ce0a284aab9416eadd2a94f4668ef7b",
       "version_major": 2,
       "version_minor": 0
      },
      "text/plain": [
       "HBox(children=(FloatProgress(value=0.0), HTML(value='')))"
      ]
     },
     "metadata": {},
     "output_type": "display_data"
    },
    {
     "name": "stdout",
     "output_type": "stream",
     "text": [
      "\n"
     ]
    }
   ],
   "source": [
    "# Used to store the experimentation result\n",
    "for _ in tqdm(range(n_experiments)):\n",
    "    outputs = do_simulation(policy_name, case_config, \n",
    "                            contacts_config, n_cases=10000,\n",
    "                           dict_params={\"app_cov\": 0})\n",
    "    results = pd.DataFrame(outputs).mean(0)\n",
    "    app_0.append(float(results.loc[\"Effective R\"]))"
   ]
  },
  {
   "cell_type": "markdown",
   "metadata": {},
   "source": [
    "#### 1"
   ]
  },
  {
   "cell_type": "code",
   "execution_count": 104,
   "metadata": {},
   "outputs": [],
   "source": [
    "policy_name = \"S3_test_based_TTI\"\n",
    "n_experiments = 100 # number of simulations performed for a particular value\n",
    "case_config = deepcopy(config.get_case_config(\"delve\"))\n",
    "contacts_config = deepcopy(config.get_contacts_config(\"delve\"))\n",
    "app_1 = []"
   ]
  },
  {
   "cell_type": "code",
   "execution_count": 105,
   "metadata": {},
   "outputs": [
    {
     "data": {
      "application/vnd.jupyter.widget-view+json": {
       "model_id": "003d8d0dfed94536a5c5d30a6276defe",
       "version_major": 2,
       "version_minor": 0
      },
      "text/plain": [
       "HBox(children=(FloatProgress(value=0.0), HTML(value='')))"
      ]
     },
     "metadata": {},
     "output_type": "display_data"
    },
    {
     "name": "stdout",
     "output_type": "stream",
     "text": [
      "\n"
     ]
    }
   ],
   "source": [
    "# Used to store the experimentation result\n",
    "for _ in tqdm(range(n_experiments)):\n",
    "    outputs = do_simulation(policy_name, case_config, \n",
    "                            contacts_config, n_cases=10000,\n",
    "                           dict_params={\"app_cov\": 1})\n",
    "    results = pd.DataFrame(outputs).mean(0)\n",
    "    app_1.append(float(results.loc[\"Effective R\"]))"
   ]
  },
  {
   "cell_type": "markdown",
   "metadata": {},
   "source": [
    "#### Default"
   ]
  },
  {
   "cell_type": "code",
   "execution_count": 106,
   "metadata": {},
   "outputs": [],
   "source": [
    "policy_name = \"S3_test_based_TTI\"\n",
    "n_experiments = 100 # number of simulations performed for a particular value\n",
    "case_config = deepcopy(config.get_case_config(\"delve\"))\n",
    "contacts_config = deepcopy(config.get_contacts_config(\"delve\"))\n",
    "app_default = []"
   ]
  },
  {
   "cell_type": "code",
   "execution_count": 107,
   "metadata": {},
   "outputs": [
    {
     "data": {
      "application/vnd.jupyter.widget-view+json": {
       "model_id": "78651565e70a4157aeaa926cab6a644e",
       "version_major": 2,
       "version_minor": 0
      },
      "text/plain": [
       "HBox(children=(FloatProgress(value=0.0), HTML(value='')))"
      ]
     },
     "metadata": {},
     "output_type": "display_data"
    },
    {
     "name": "stdout",
     "output_type": "stream",
     "text": [
      "\n"
     ]
    }
   ],
   "source": [
    "# Used to store the experimentation result\n",
    "for _ in tqdm(range(n_experiments)):\n",
    "    outputs = do_simulation(policy_name, case_config, \n",
    "                            contacts_config, n_cases=10000)\n",
    "    results = pd.DataFrame(outputs).mean(0)\n",
    "    app_default.append(float(results.loc[\"Effective R\"]))"
   ]
  },
  {
   "cell_type": "code",
   "execution_count": 108,
   "metadata": {},
   "outputs": [],
   "source": [
    "## Save result\n",
    "dict_ages = {\n",
    "    \"app_0\": app_0,\n",
    "    \"app_1\": app_1,\n",
    "    \"default\": app_default\n",
    "}\n",
    "\n",
    "pd.DataFrame(dict_ages).to_csv(\"../results/app-causal.csv\", index=False)"
   ]
  },
  {
   "cell_type": "markdown",
   "metadata": {},
   "source": [
    "#### Visualise distribution\n",
    "\n",
    "We plot kernel density estimate of effective R."
   ]
  },
  {
   "cell_type": "code",
   "execution_count": 109,
   "metadata": {},
   "outputs": [
    {
     "data": {
      "image/png": "[encoded data removed]",
      "text/plain": [
       "<Figure size 432x288 with 1 Axes>"
      ]
     },
     "metadata": {},
     "output_type": "display_data"
    }
   ],
   "source": [
    "fig = plt.figure(figsize=(6, 4), facecolor=\"white\")\n",
    "ax = fig.add_subplot(111)\n",
    "sns.kdeplot(data=app_0, ax=ax, shade=True, label=\"App coverage = 0\", linewidth=2)\n",
    "sns.kdeplot(data=app_1, ax=ax, shade=True, label=\"App coverage = 1\", linewidth=2)\n",
    "sns.kdeplot(data=app_default, ax=ax, shade=True, label=\"Default\", linewidth=2)\n",
    "\n",
    "ax.set_facecolor(\"white\")\n",
    "ax.spines['bottom'].set_color('black')\n",
    "ax.spines['left'].set_color('black')\n",
    "ax.spines['right'].set_visible(False)\n",
    "ax.spines['top'].set_visible(False)\n",
    "for axis in ['top','bottom','left','right']:\n",
    "    ax.spines[axis].set_linewidth(1.5)\n",
    "ax.tick_params(axis='both', which='major', labelsize=11)\n",
    "ax.set_xlabel(\"Effective $R$\", fontsize=13)\n",
    "legend = plt.legend(fontsize=11)\n",
    "frame = legend.get_frame()\n",
    "frame.set_facecolor(\"white\")\n",
    "plt.grid(False)\n",
    "plt.show()"
   ]
  },
  {
   "cell_type": "markdown",
   "metadata": {},
   "source": [
    "#### Check distribution difference\n",
    "We use Kolmogorov-Smirnov to check whether two distributions differ. Under the null hypothesis the two distributions are identical. If the K-S statistic is small or the p-value is high (greater than the significance level, say 5%), then we cannot reject the hypothesis that the distributions of the two samples are the same. Conversely, we can reject the null hypothesis if the p-value is low."
   ]
  },
  {
   "cell_type": "code",
   "execution_count": 110,
   "metadata": {},
   "outputs": [],
   "source": [
    "x = app_0\n",
    "y = app_1\n",
    "z = app_default"
   ]
  },
  {
   "cell_type": "code",
   "execution_count": 111,
   "metadata": {
    "scrolled": false
   },
   "outputs": [
    {
     "name": "stdout",
     "output_type": "stream",
     "text": [
      "x and y: Ks_2sampResult(statistic=0.5, pvalue=1.0553445530400741e-11)\n",
      "x and z: Ks_2sampResult(statistic=0.12, pvalue=0.4431254026988257)\n",
      "y and z: Ks_2sampResult(statistic=0.44, pvalue=3.6951229371633034e-09)\n"
     ]
    }
   ],
   "source": [
    "print(f\"x and y: {ks_2samp(x, y)}\")\n",
    "print(f\"x and z: {ks_2samp(x, z)}\")\n",
    "print(f\"y and z: {ks_2samp(y, z)}\")"
   ]
  }
 ],
 "metadata": {
  "kernelspec": {
   "display_name": "Python 3",
   "language": "python",
   "name": "python3"
  },
  "language_info": {
   "codemirror_mode": {
    "name": "ipython",
    "version": 3
   },
   "file_extension": ".py",
   "mimetype": "text/x-python",
   "name": "python",
   "nbconvert_exporter": "python",
   "pygments_lexer": "ipython3",
   "version": "3.7.6"
  }
 },
 "nbformat": 4,
 "nbformat_minor": 4
}
