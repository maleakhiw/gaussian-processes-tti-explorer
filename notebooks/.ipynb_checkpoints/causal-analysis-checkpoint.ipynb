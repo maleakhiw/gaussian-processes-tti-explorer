{
 "cells": [
  {
   "cell_type": "markdown",
   "metadata": {},
   "source": [
    "# Causal Analysis\n",
    "\n",
    "This notebook contains code used to perform causal analysis. This is an extension to the sensitivity analysis."
   ]
  },
  {
   "cell_type": "code",
   "execution_count": 56,
   "metadata": {},
   "outputs": [],
   "source": [
    "import os\n",
    "import numpy as np\n",
    "import pandas as pd\n",
    "from tqdm.notebook import trange, tqdm\n",
    "from IPython.display import display, HTML\n",
    "from copy import deepcopy\n",
    "import random\n",
    "import pickle\n",
    "import matplotlib.pyplot as plt\n",
    "import seaborn as sns\n",
    "import matplotlib.style as style\n",
    "from scipy.stats import ks_2samp\n",
    "\n",
    "from tti_explorer import config, utils\n",
    "from tti_explorer.case import simulate_case, CaseFactors\n",
    "from tti_explorer.contacts import EmpiricalContactsSimulator\n",
    "from tti_explorer.strategies import TTIFlowModel, RETURN_KEYS\n",
    "\n",
    "import warnings\n",
    "warnings.filterwarnings('ignore')\n",
    "style.use('fivethirtyeight')"
   ]
  },
  {
   "cell_type": "code",
   "execution_count": 2,
   "metadata": {},
   "outputs": [],
   "source": [
    "%run utilities.ipynb"
   ]
  },
  {
   "cell_type": "code",
   "execution_count": 3,
   "metadata": {},
   "outputs": [],
   "source": [
    "# Load data\n",
    "over18 = load_csv(\"../data/bbc-pandemic/contact_distributions_o18.csv\")\n",
    "under18 = load_csv(\"../data/bbc-pandemic/contact_distributions_u18.csv\")"
   ]
  },
  {
   "cell_type": "markdown",
   "metadata": {},
   "source": [
    "## Age\n",
    "\n",
    "This section simulated and verify whether intervening on age changes the distribution of effective R."
   ]
  },
  {
   "cell_type": "markdown",
   "metadata": {},
   "source": [
    "#### Under 18"
   ]
  },
  {
   "cell_type": "code",
   "execution_count": 60,
   "metadata": {},
   "outputs": [],
   "source": [
    "policy_name = \"S3_test_based_TTI\"\n",
    "n_experiments = 100 # number of simulations performed for a particular value\n",
    "case_config = config.get_case_config(\"delve\")\n",
    "contacts_config = config.get_contacts_config(\"delve\")\n",
    "age_less = []"
   ]
  },
  {
   "cell_type": "code",
   "execution_count": 61,
   "metadata": {},
   "outputs": [
    {
     "data": {
      "application/vnd.jupyter.widget-view+json": {
       "model_id": "7fa94a81024642958940ca4c812190f6",
       "version_major": 2,
       "version_minor": 0
      },
      "text/plain": [
       "HBox(children=(FloatProgress(value=0.0), HTML(value='')))"
      ]
     },
     "metadata": {},
     "output_type": "display_data"
    },
    {
     "name": "stdout",
     "output_type": "stream",
     "text": [
      "\n"
     ]
    }
   ],
   "source": [
    "# Used to store the experimentation result\n",
    "for _ in tqdm(range(n_experiments)):\n",
    "    case_config[\"p_under18\"] = 1\n",
    "    outputs = do_simulation(policy_name, case_config, contacts_config, n_cases=10000)\n",
    "    results = pd.DataFrame(outputs).mean(0)\n",
    "    age_less.append(float(results.loc[\"Effective R\"]))"
   ]
  },
  {
   "cell_type": "markdown",
   "metadata": {},
   "source": [
    "#### Over 18"
   ]
  },
  {
   "cell_type": "code",
   "execution_count": 62,
   "metadata": {},
   "outputs": [],
   "source": [
    "policy_name = \"S3_test_based_TTI\"\n",
    "n_experiments = 100 # number of simulations performed for a particular value\n",
    "case_config = config.get_case_config(\"delve\")\n",
    "contacts_config = config.get_contacts_config(\"delve\")\n",
    "age_greater = []"
   ]
  },
  {
   "cell_type": "code",
   "execution_count": 63,
   "metadata": {},
   "outputs": [
    {
     "data": {
      "application/vnd.jupyter.widget-view+json": {
       "model_id": "a962882f0b6a44d3a1356738a1339e07",
       "version_major": 2,
       "version_minor": 0
      },
      "text/plain": [
       "HBox(children=(FloatProgress(value=0.0), HTML(value='')))"
      ]
     },
     "metadata": {},
     "output_type": "display_data"
    },
    {
     "name": "stdout",
     "output_type": "stream",
     "text": [
      "\n"
     ]
    }
   ],
   "source": [
    "# Used to store the experimentation result\n",
    "for _ in tqdm(range(n_experiments)):\n",
    "    case_config[\"p_under18\"] = 0\n",
    "    outputs = do_simulation(policy_name, case_config, contacts_config, n_cases=10000)\n",
    "    results = pd.DataFrame(outputs).mean(0)\n",
    "    age_greater.append(float(results.loc[\"Effective R\"]))"
   ]
  },
  {
   "cell_type": "markdown",
   "metadata": {},
   "source": [
    "#### Default"
   ]
  },
  {
   "cell_type": "code",
   "execution_count": 74,
   "metadata": {},
   "outputs": [],
   "source": [
    "policy_name = \"S3_test_based_TTI\"\n",
    "n_experiments = 100 # number of simulations performed for a particular value\n",
    "case_config = config.get_case_config(\"delve\")\n",
    "contacts_config = config.get_contacts_config(\"delve\")\n",
    "age_default = []"
   ]
  },
  {
   "cell_type": "code",
   "execution_count": 75,
   "metadata": {},
   "outputs": [
    {
     "data": {
      "application/vnd.jupyter.widget-view+json": {
       "model_id": "d25ffbe3ebec4d80b7ae21dbdafbd833",
       "version_major": 2,
       "version_minor": 0
      },
      "text/plain": [
       "HBox(children=(FloatProgress(value=0.0), HTML(value='')))"
      ]
     },
     "metadata": {},
     "output_type": "display_data"
    },
    {
     "name": "stdout",
     "output_type": "stream",
     "text": [
      "\n"
     ]
    }
   ],
   "source": [
    "# Used to store the experimentation result\n",
    "for _ in tqdm(range(n_experiments)):\n",
    "    case_config[\"p_under18\"] = 0.21\n",
    "    outputs = do_simulation(policy_name, case_config, contacts_config, n_cases=10000)\n",
    "    results = pd.DataFrame(outputs).mean(0)\n",
    "    age_default.append(float(results.loc[\"Effective R\"]))"
   ]
  },
  {
   "cell_type": "code",
   "execution_count": 84,
   "metadata": {},
   "outputs": [],
   "source": [
    "# ## Save result\n",
    "# dict_ages = {\n",
    "#     \"under_18\": age_less,\n",
    "#     \"over_18\": age_greater,\n",
    "#     \"default\": age_default\n",
    "# }\n",
    "\n",
    "# pd.DataFrame(dict_ages).to_csv(\"../results/age-causal.csv\", index=False)"
   ]
  },
  {
   "cell_type": "markdown",
   "metadata": {},
   "source": [
    "#### Visualise distribution\n",
    "\n",
    "We plot kernel density estimate of effective R."
   ]
  },
  {
   "cell_type": "code",
   "execution_count": 79,
   "metadata": {},
   "outputs": [
    {
     "data": {
      "image/png": "[encoded data removed]",
      "text/plain": [
       "<Figure size 432x288 with 1 Axes>"
      ]
     },
     "metadata": {},
     "output_type": "display_data"
    }
   ],
   "source": [
    "fig = plt.figure(figsize=(6, 4), facecolor=\"white\")\n",
    "ax = fig.add_subplot(111)\n",
    "sns.kdeplot(data=age_less, ax=ax, shade=True, label=\"< 18\", linewidth=2)\n",
    "sns.kdeplot(data=age_greater, ax=ax, shade=True, label=\"> 18\", linewidth=2)\n",
    "sns.kdeplot(data=age_default, ax=ax, shade=True, label=\"Default\", linewidth=2)\n",
    "\n",
    "ax.set_facecolor(\"white\")\n",
    "ax.spines['bottom'].set_color('black')\n",
    "ax.spines['left'].set_color('black')\n",
    "ax.spines['right'].set_visible(False)\n",
    "ax.spines['top'].set_visible(False)\n",
    "for axis in ['top','bottom','left','right']:\n",
    "    ax.spines[axis].set_linewidth(1.5)\n",
    "ax.tick_params(axis='both', which='major', labelsize=11)\n",
    "ax.set_xlabel(\"Effective $R$\", fontsize=13)\n",
    "plt.legend(prop={'size': 11})\n",
    "plt.grid(False)\n",
    "plt.show()"
   ]
  },
  {
   "cell_type": "markdown",
   "metadata": {},
   "source": [
    "#### Check distribution difference\n",
    "We use Kolmogorov-Smirnov to check whether two distributions differ. Under the null hypothesis the two distributions are identical. If the K-S statistic is small or the p-value is high (greater than the significance level, say 5%), then we cannot reject the hypothesis that the distributions of the two samples are the same. Conversely, we can reject the null hypothesis if the p-value is low."
   ]
  },
  {
   "cell_type": "code",
   "execution_count": 77,
   "metadata": {},
   "outputs": [],
   "source": [
    "x = age_less\n",
    "y = age_greater\n",
    "z = age_default"
   ]
  },
  {
   "cell_type": "code",
   "execution_count": 78,
   "metadata": {},
   "outputs": [
    {
     "name": "stdout",
     "output_type": "stream",
     "text": [
      "Age less and greater: Ks_2sampResult(statistic=1.0, pvalue=1.5505547466854487e-45)\n",
      "Age less and default: Ks_2sampResult(statistic=1.0, pvalue=1.5505547466854487e-45)\n",
      "Age greater and default: Ks_2sampResult(statistic=0.5800000000000001, pvalue=1.336113546418592e-15)\n"
     ]
    }
   ],
   "source": [
    "print(f\"Age less and greater: {ks_2samp(x, y)}\")\n",
    "print(f\"Age less and default: {ks_2samp(x, z)}\")\n",
    "print(f\"Age greater and default: {ks_2samp(y, z)}\")"
   ]
  },
  {
   "cell_type": "markdown",
   "metadata": {},
   "source": [
    "**Observation**: Two distributions are different, by the Kolmogorov-Smirnov test after do-intervention on the age probability."
   ]
  }
 ],
 "metadata": {
  "kernelspec": {
   "display_name": "Python 3",
   "language": "python",
   "name": "python3"
  },
  "language_info": {
   "codemirror_mode": {
    "name": "ipython",
    "version": 3
   },
   "file_extension": ".py",
   "mimetype": "text/x-python",
   "name": "python",
   "nbconvert_exporter": "python",
   "pygments_lexer": "ipython3",
   "version": "3.7.6"
  }
 },
 "nbformat": 4,
 "nbformat_minor": 4
}
