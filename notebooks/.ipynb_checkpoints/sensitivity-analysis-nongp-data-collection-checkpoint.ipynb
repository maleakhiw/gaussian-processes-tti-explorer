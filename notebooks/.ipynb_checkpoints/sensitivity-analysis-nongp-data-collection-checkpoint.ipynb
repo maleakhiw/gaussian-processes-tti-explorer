{
 "cells": [
  {
   "cell_type": "markdown",
   "metadata": {},
   "source": [
    "# Sensitivity Analysis - Data Collection\n",
    "\n",
    "This notebook contains code used to collect experiments results and store it in a csv to be analysed later."
   ]
  },
  {
   "cell_type": "code",
   "execution_count": 1,
   "metadata": {},
   "outputs": [],
   "source": [
    "import os\n",
    "import numpy as np\n",
    "import pandas as pd\n",
    "from tqdm.notebook import trange, tqdm\n",
    "from IPython.display import display, HTML\n",
    "from copy import deepcopy\n",
    "import random\n",
    "import pickle\n",
    "\n",
    "from tti_explorer import config, utils\n",
    "from tti_explorer.case import simulate_case, CaseFactors\n",
    "from tti_explorer.contacts import EmpiricalContactsSimulator\n",
    "from tti_explorer.strategies import TTIFlowModel, RETURN_KEYS\n",
    "\n",
    "import warnings\n",
    "warnings.filterwarnings('ignore')"
   ]
  },
  {
   "cell_type": "code",
   "execution_count": 2,
   "metadata": {},
   "outputs": [],
   "source": [
    "%run utilities.ipynb"
   ]
  },
  {
   "cell_type": "markdown",
   "metadata": {},
   "source": [
    "## Experimentations"
   ]
  },
  {
   "cell_type": "code",
   "execution_count": 3,
   "metadata": {},
   "outputs": [],
   "source": [
    "# Load data\n",
    "over18 = load_csv(\"../data/bbc-pandemic/contact_distributions_o18.csv\")\n",
    "under18 = load_csv(\"../data/bbc-pandemic/contact_distributions_u18.csv\")"
   ]
  },
  {
   "cell_type": "markdown",
   "metadata": {},
   "source": [
    "### Policy and Strategy"
   ]
  },
  {
   "cell_type": "code",
   "execution_count": 13,
   "metadata": {},
   "outputs": [],
   "source": [
    "policy_name_params = [f\"{i}_{j}\" for i in [\"S1\", \"S2\", \"S3\", \"S4\", \"S5\"] for j in [\"no_TTI\", \"symptom_based_TTI\", \"test_based_TTI\", \"test_based_TTI_test_contacts\"]]\n",
    "case_config = config.get_case_config(\"delve\")\n",
    "contacts_config = config.get_contacts_config(\"delve\")\n",
    "n_experiments = 5 # number of simulations performed for a particular value"
   ]
  },
  {
   "cell_type": "code",
   "execution_count": 14,
   "metadata": {},
   "outputs": [],
   "source": [
    "# Used to store the experimentation result\n",
    "dict_policy = {policy_name: [] for policy_name in policy_name_params}"
   ]
  },
  {
   "cell_type": "code",
   "execution_count": 15,
   "metadata": {},
   "outputs": [
    {
     "data": {
      "application/vnd.jupyter.widget-view+json": {
       "model_id": "683b8e9083fc4607b7ca2d04f605f620",
       "version_major": 2,
       "version_minor": 0
      },
      "text/plain": [
       "HBox(children=(FloatProgress(value=0.0, max=20.0), HTML(value='')))"
      ]
     },
     "metadata": {},
     "output_type": "display_data"
    },
    {
     "name": "stdout",
     "output_type": "stream",
     "text": [
      "\n"
     ]
    }
   ],
   "source": [
    "# Try all possible policy\n",
    "for policy_name in tqdm(policy_name_params):\n",
    "    \n",
    "    # For each case, experiment n times\n",
    "    for _ in range(n_experiments):\n",
    "        outputs = do_simulation(policy_name, case_config, contacts_config, n_cases=10000)\n",
    "        dict_policy[policy_name].append(outputs)"
   ]
  },
  {
   "cell_type": "code",
   "execution_count": 17,
   "metadata": {},
   "outputs": [],
   "source": [
    "# Compiled result\n",
    "key_params = [f\"{i}_{j}\" for i in [\"S1\", \"S2\", \"S3\", \"S4\", \"S5\"] for j in [\"no_TTI\", \"symptom_based_TTI\", \"test_based_TTI\", \"test_based_TTI_test_contacts\"]]\n",
    "df_result = {\"strategy\": [], \n",
    "             \"gov_policy\": [], \n",
    "             \"effective_r\": [], \n",
    "             \"base_r\": [],\n",
    "             \"manual_traces\": [], \n",
    "             \"app_traces\": [], \n",
    "             \"test_needed\": [],\n",
    "             \"persondays_quarantined\": []}\n",
    "nppl = 120\n",
    "\n",
    "for key in key_params:\n",
    "    strategy = key[:2]\n",
    "    gov_policy = key[3:]\n",
    "        \n",
    "    for i in range(n_experiments):\n",
    "        result_format = pd.DataFrame(dict_policy[key][i]).mean(0)\n",
    "\n",
    "        df_result[\"strategy\"].append(strategy)\n",
    "        df_result[\"gov_policy\"].append(gov_policy)\n",
    "        df_result[\"effective_r\"].append(result_format.loc[\"Effective R\"])\n",
    "        df_result[\"base_r\"].append(result_format.loc[\"Base R\"])\n",
    "        df_result[\"manual_traces\"].append(result_format.loc[\"# Manual Traces\"] * nppl)\n",
    "        df_result[\"app_traces\"].append(result_format.loc[\"# App Traces\"] * nppl)\n",
    "        df_result[\"test_needed\"].append(result_format.loc[\"# Tests Needed\"] * nppl)\n",
    "        df_result[\"persondays_quarantined\"].append(result_format.loc[\"# PersonDays Quarantined\"])"
   ]
  },
  {
   "cell_type": "code",
   "execution_count": 19,
   "metadata": {},
   "outputs": [],
   "source": [
    "# Convert to dataframe and save dataframe\n",
    "# df_result_policy = pd.DataFrame(df_result)\n",
    "# df_result_policy.to_csv(\"../results/policy-strategy.csv\")"
   ]
  },
  {
   "cell_type": "markdown",
   "metadata": {},
   "source": [
    "### Age"
   ]
  },
  {
   "cell_type": "code",
   "execution_count": 31,
   "metadata": {},
   "outputs": [],
   "source": [
    "policy_name_params = [f\"{i}_{j}\" for i in [\"S1\", \"S2\", \"S3\", \"S4\", \"S5\"] for j in [\"no_TTI\", \"symptom_based_TTI\", \"test_based_TTI\", \"test_based_TTI_test_contacts\"]]\n",
    "case_config = config.get_case_config(\"delve\")\n",
    "contacts_config = config.get_contacts_config(\"delve\")\n",
    "punder18_params = [0, 0.25, 0.5, 0.75, 1]\n",
    "n_experiments = 2 # number of simulations performed for a particular value"
   ]
  },
  {
   "cell_type": "code",
   "execution_count": 32,
   "metadata": {},
   "outputs": [],
   "source": [
    "# Used to store the experimentation result\n",
    "dict_age = {policy_name: {} for policy_name in policy_name_params}\n",
    "for punder18_param in punder18_params:\n",
    "    for key in dict_age.keys():\n",
    "        dict_age[key][punder18_param] = []"
   ]
  },
  {
   "cell_type": "code",
   "execution_count": 33,
   "metadata": {},
   "outputs": [
    {
     "data": {
      "application/vnd.jupyter.widget-view+json": {
       "model_id": "457d9b59f47641158bbeca7e6f20bf71",
       "version_major": 2,
       "version_minor": 0
      },
      "text/plain": [
       "HBox(children=(FloatProgress(value=0.0, max=20.0), HTML(value='')))"
      ]
     },
     "metadata": {},
     "output_type": "display_data"
    },
    {
     "name": "stdout",
     "output_type": "stream",
     "text": [
      "\n"
     ]
    }
   ],
   "source": [
    "# Try all possible policy and age parameters\n",
    "for policy_name in tqdm(policy_name_params):\n",
    "    \n",
    "    for punder18 in punder18_params:\n",
    "        case_config[\"p_under18\"] = punder18\n",
    "        \n",
    "        # For each case, experiment n times\n",
    "        for _ in range(n_experiments):\n",
    "            outputs = do_simulation(policy_name, case_config, contacts_config, n_cases=10000)\n",
    "            dict_age[policy_name][punder18].append(outputs)"
   ]
  },
  {
   "cell_type": "code",
   "execution_count": 34,
   "metadata": {},
   "outputs": [],
   "source": [
    "df_age = compile_df_result(dict_age, \"age_prob\", punder18_params, n_experiments)"
   ]
  },
  {
   "cell_type": "code",
   "execution_count": 35,
   "metadata": {},
   "outputs": [],
   "source": [
    "# Save to csv\n",
    "df_age.to_csv(\"../results/age.csv\")"
   ]
  },
  {
   "cell_type": "markdown",
   "metadata": {},
   "source": [
    "### Compliance"
   ]
  },
  {
   "cell_type": "code",
   "execution_count": 36,
   "metadata": {},
   "outputs": [],
   "source": [
    "policy_name_params = [f\"{i}_{j}\" for i in [\"S1\", \"S2\", \"S3\", \"S4\", \"S5\"] for j in [\"no_TTI\", \"symptom_based_TTI\", \"test_based_TTI\", \"test_based_TTI_test_contacts\"]]\n",
    "case_config = config.get_case_config(\"delve\")\n",
    "contacts_config = config.get_contacts_config(\"delve\")\n",
    "compliance_params = [0.5, 0.6, 0.7, 0.8, 0.9]\n",
    "n_experiments = 2 # number of simulations performed for a particular value"
   ]
  },
  {
   "cell_type": "code",
   "execution_count": 37,
   "metadata": {},
   "outputs": [],
   "source": [
    "# Used to store the experimentation result\n",
    "dict_compliance = {policy_name: {} for policy_name in policy_name_params}\n",
    "for compliance_param in compliance_params:\n",
    "    for key in dict_compliance.keys():\n",
    "        dict_compliance[key][compliance_param] = []"
   ]
  },
  {
   "cell_type": "code",
   "execution_count": 38,
   "metadata": {},
   "outputs": [
    {
     "data": {
      "application/vnd.jupyter.widget-view+json": {
       "model_id": "96ce552f4fb54ea4b02a4f212d013c49",
       "version_major": 2,
       "version_minor": 0
      },
      "text/plain": [
       "HBox(children=(FloatProgress(value=0.0, max=20.0), HTML(value='')))"
      ]
     },
     "metadata": {},
     "output_type": "display_data"
    },
    {
     "name": "stdout",
     "output_type": "stream",
     "text": [
      "\n"
     ]
    }
   ],
   "source": [
    "# Try all possible policy and age parameters\n",
    "for policy_name in tqdm(policy_name_params):\n",
    "    \n",
    "    for compliance in compliance_params:\n",
    "        # For each case, experiment n times\n",
    "        for _ in range(n_experiments):\n",
    "            outputs = do_simulation(policy_name, case_config, contacts_config, \n",
    "                                    n_cases=10000, dict_params={\"compliance\": compliance})\n",
    "            dict_compliance[policy_name][compliance].append(outputs)"
   ]
  },
  {
   "cell_type": "code",
   "execution_count": 39,
   "metadata": {},
   "outputs": [],
   "source": [
    "df_compliance = compile_df_result(dict_compliance, \"compliance\", compliance_params, n_experiments)"
   ]
  },
  {
   "cell_type": "code",
   "execution_count": 40,
   "metadata": {},
   "outputs": [],
   "source": [
    "df_compliance.to_csv(\"../results/compliance.csv\")"
   ]
  },
  {
   "cell_type": "markdown",
   "metadata": {},
   "source": [
    "### Application Uptake"
   ]
  },
  {
   "cell_type": "code",
   "execution_count": 5,
   "metadata": {},
   "outputs": [],
   "source": [
    "policy_name_params = [f\"{i}_{j}\" for i in [\"S1\", \"S2\", \"S3\", \"S4\", \"S5\"] for j in [\"no_TTI\", \"symptom_based_TTI\", \"test_based_TTI\", \"test_based_TTI_test_contacts\"]]\n",
    "case_config = config.get_case_config(\"delve\")\n",
    "contacts_config = config.get_contacts_config(\"delve\")\n",
    "app_params = [0.1, 0.2, 0.3, 0.4, 0.5, 0.6, 0.7, 0.8, 0.9]\n",
    "n_experiments = 2 # number of simulations performed for a particular value"
   ]
  },
  {
   "cell_type": "code",
   "execution_count": 6,
   "metadata": {},
   "outputs": [],
   "source": [
    "# Used to store the experimentation result\n",
    "dict_app = {policy_name: {} for policy_name in policy_name_params}\n",
    "for app_param in app_params:\n",
    "    for key in dict_app.keys():\n",
    "        dict_app[key][app_param] = []"
   ]
  },
  {
   "cell_type": "code",
   "execution_count": 7,
   "metadata": {},
   "outputs": [
    {
     "data": {
      "application/vnd.jupyter.widget-view+json": {
       "model_id": "2a49dd62f70d4f71ac287cf9366821d3",
       "version_major": 2,
       "version_minor": 0
      },
      "text/plain": [
       "HBox(children=(FloatProgress(value=0.0, max=20.0), HTML(value='')))"
      ]
     },
     "metadata": {},
     "output_type": "display_data"
    },
    {
     "name": "stdout",
     "output_type": "stream",
     "text": [
      "\n"
     ]
    }
   ],
   "source": [
    "# Try all possible policy and age parameters\n",
    "for policy_name in tqdm(policy_name_params):\n",
    "    \n",
    "    for app in app_params:\n",
    "        # For each case, experiment n times\n",
    "        for _ in range(n_experiments):\n",
    "            outputs = do_simulation(policy_name, case_config, contacts_config, \n",
    "                                    n_cases=10000, dict_params={\"app_cov\": app})\n",
    "            dict_app[policy_name][app].append(outputs)"
   ]
  },
  {
   "cell_type": "code",
   "execution_count": 8,
   "metadata": {},
   "outputs": [],
   "source": [
    "df_app = compile_df_result(dict_app, \"app\", app_params, n_experiments)"
   ]
  },
  {
   "cell_type": "code",
   "execution_count": 9,
   "metadata": {},
   "outputs": [],
   "source": [
    "df_app.to_csv(\"../results/app-uptake.csv\")"
   ]
  },
  {
   "cell_type": "markdown",
   "metadata": {},
   "source": [
    "### Do Manual Tracing"
   ]
  },
  {
   "cell_type": "code",
   "execution_count": 4,
   "metadata": {},
   "outputs": [],
   "source": [
    "policy_name_params = [f\"{i}_{j}\" for i in [\"S1\", \"S2\", \"S3\", \"S4\", \"S5\"] for j in [\"no_TTI\", \"symptom_based_TTI\", \"test_based_TTI\", \"test_based_TTI_test_contacts\"]]\n",
    "case_config = config.get_case_config(\"delve\")\n",
    "contacts_config = config.get_contacts_config(\"delve\")\n",
    "manual_tracing_params = [True, False]\n",
    "n_experiments = 3 # number of simulations performed for a particular value"
   ]
  },
  {
   "cell_type": "code",
   "execution_count": 5,
   "metadata": {},
   "outputs": [],
   "source": [
    "# Used to store the experimentation result\n",
    "dict_mt = {policy_name: {} for policy_name in policy_name_params}\n",
    "for manual_tracing_param in manual_tracing_params:\n",
    "    for key in dict_mt.keys():\n",
    "        dict_mt[key][manual_tracing_param] = []"
   ]
  },
  {
   "cell_type": "code",
   "execution_count": 6,
   "metadata": {},
   "outputs": [
    {
     "data": {
      "application/vnd.jupyter.widget-view+json": {
       "model_id": "863df22a374f4c86bddf99dd4712681d",
       "version_major": 2,
       "version_minor": 0
      },
      "text/plain": [
       "HBox(children=(FloatProgress(value=0.0, max=20.0), HTML(value='')))"
      ]
     },
     "metadata": {},
     "output_type": "display_data"
    },
    {
     "name": "stdout",
     "output_type": "stream",
     "text": [
      "\n"
     ]
    }
   ],
   "source": [
    "# Try all possible policy and age parameters\n",
    "for policy_name in tqdm(policy_name_params):\n",
    "    \n",
    "    for mt in manual_tracing_params:\n",
    "        # For each case, experiment n times\n",
    "        for _ in range(n_experiments):\n",
    "            outputs = do_simulation(policy_name, case_config, contacts_config, \n",
    "                                    n_cases=10000, dict_params={\"do_manual_tracing\": mt})\n",
    "            dict_mt[policy_name][mt].append(outputs)"
   ]
  },
  {
   "cell_type": "code",
   "execution_count": 8,
   "metadata": {},
   "outputs": [],
   "source": [
    "df_mt = compile_df_result(dict_mt, \"mt\", manual_tracing_params, n_experiments)"
   ]
  },
  {
   "cell_type": "code",
   "execution_count": 9,
   "metadata": {},
   "outputs": [],
   "source": [
    "df_mt.to_csv(\"../results/do-manual-tracing.csv\")"
   ]
  },
  {
   "cell_type": "markdown",
   "metadata": {},
   "source": [
    "### Do App Tracing"
   ]
  },
  {
   "cell_type": "code",
   "execution_count": 11,
   "metadata": {},
   "outputs": [],
   "source": [
    "policy_name_params = [f\"{i}_{j}\" for i in [\"S1\", \"S2\", \"S3\", \"S4\", \"S5\"] for j in [\"no_TTI\", \"symptom_based_TTI\", \"test_based_TTI\", \"test_based_TTI_test_contacts\"]]\n",
    "case_config = config.get_case_config(\"delve\")\n",
    "contacts_config = config.get_contacts_config(\"delve\")\n",
    "app_tracing_params = [True, False]\n",
    "n_experiments = 2 # number of simulations performed for a particular value"
   ]
  },
  {
   "cell_type": "code",
   "execution_count": 12,
   "metadata": {},
   "outputs": [],
   "source": [
    "# Used to store the experimentation result\n",
    "dict_at = {policy_name: {} for policy_name in policy_name_params}\n",
    "for app_tracing_param in app_tracing_params:\n",
    "    for key in dict_at.keys():\n",
    "        dict_at[key][app_tracing_param] = []"
   ]
  },
  {
   "cell_type": "code",
   "execution_count": 13,
   "metadata": {},
   "outputs": [
    {
     "data": {
      "application/vnd.jupyter.widget-view+json": {
       "model_id": "e6b577f84f914888916022380833ac1a",
       "version_major": 2,
       "version_minor": 0
      },
      "text/plain": [
       "HBox(children=(FloatProgress(value=0.0, max=20.0), HTML(value='')))"
      ]
     },
     "metadata": {},
     "output_type": "display_data"
    },
    {
     "name": "stdout",
     "output_type": "stream",
     "text": [
      "\n"
     ]
    }
   ],
   "source": [
    "# Try all possible policy and age parameters\n",
    "for policy_name in tqdm(policy_name_params):\n",
    "    \n",
    "    for at in app_tracing_params:\n",
    "        # For each case, experiment n times\n",
    "        for _ in range(n_experiments):\n",
    "            outputs = do_simulation(policy_name, case_config, contacts_config, \n",
    "                                    n_cases=10000, dict_params={\"do_app_tracing\": at})\n",
    "            dict_at[policy_name][at].append(outputs)"
   ]
  },
  {
   "cell_type": "code",
   "execution_count": 14,
   "metadata": {},
   "outputs": [],
   "source": [
    "df_at = compile_df_result(dict_at, \"at\", app_tracing_params, n_experiments)"
   ]
  },
  {
   "cell_type": "code",
   "execution_count": 15,
   "metadata": {},
   "outputs": [],
   "source": [
    "df_at.to_csv(\"../results/do-app-tracing.csv\")"
   ]
  },
  {
   "cell_type": "markdown",
   "metadata": {},
   "source": [
    "### Day of Symptoms Reporting"
   ]
  },
  {
   "cell_type": "code",
   "execution_count": 16,
   "metadata": {},
   "outputs": [],
   "source": [
    "policy_name_params = [f\"{i}_{j}\" for i in [\"S1\", \"S2\", \"S3\", \"S4\", \"S5\"] for j in [\"no_TTI\", \"symptom_based_TTI\", \"test_based_TTI\", \"test_based_TTI_test_contacts\"]]\n",
    "case_config = config.get_case_config(\"delve\")\n",
    "contacts_config = config.get_contacts_config(\"delve\")\n",
    "symptoms_reporting_params = [[1, 0 , 0, 0, 0, 0, 0, 0, 0, 0],\n",
    "                   [0, 1, 0, 0, 0, 0, 0, 0, 0, 0],\n",
    "                   [0, 0, 1, 0, 0, 0, 0, 0, 0, 0],\n",
    "                   [0, 0, 0, 1, 0, 0, 0, 0, 0, 0]]\n",
    "n_experiments = 2 # number of simulations performed for a particular value"
   ]
  },
  {
   "cell_type": "code",
   "execution_count": 17,
   "metadata": {},
   "outputs": [],
   "source": [
    "# Used to store the experimentation result\n",
    "dict_symptoms_reporting = {policy_name: {} for policy_name in policy_name_params}\n",
    "for i, symptoms_reporting_param in enumerate(symptoms_reporting_params):\n",
    "    for key in dict_symptoms_reporting.keys():\n",
    "        dict_symptoms_reporting[key][i+1] = []"
   ]
  },
  {
   "cell_type": "code",
   "execution_count": 18,
   "metadata": {},
   "outputs": [
    {
     "data": {
      "application/vnd.jupyter.widget-view+json": {
       "model_id": "2cd5c9a8f89a4cbd97e975691332b7b3",
       "version_major": 2,
       "version_minor": 0
      },
      "text/plain": [
       "HBox(children=(FloatProgress(value=0.0, max=20.0), HTML(value='')))"
      ]
     },
     "metadata": {},
     "output_type": "display_data"
    },
    {
     "name": "stdout",
     "output_type": "stream",
     "text": [
      "\n"
     ]
    }
   ],
   "source": [
    "# Try all possible policy and age parameters\n",
    "for policy_name in tqdm(policy_name_params):\n",
    "    \n",
    "    for i, symptoms_reporting_param in enumerate(symptoms_reporting_params):\n",
    "        case_config[\"p_day_noticed_symptoms\"] = symptoms_reporting_param\n",
    "        \n",
    "        # For each case, experiment n times\n",
    "        for _ in range(n_experiments):\n",
    "            outputs = do_simulation(policy_name, case_config, contacts_config, n_cases=10000)\n",
    "            dict_symptoms_reporting[policy_name][i+1].append(outputs)"
   ]
  },
  {
   "cell_type": "code",
   "execution_count": 19,
   "metadata": {},
   "outputs": [],
   "source": [
    "df_symptoms = compile_df_result(dict_symptoms_reporting, \"day_symptoms_reporting\", [1,2,3,4], n_experiments)"
   ]
  },
  {
   "cell_type": "code",
   "execution_count": 20,
   "metadata": {},
   "outputs": [],
   "source": [
    "df_symptoms.to_csv(\"../results/day-symptoms-reporting.csv\")"
   ]
  },
  {
   "cell_type": "markdown",
   "metadata": {},
   "source": [
    "### Latent Period"
   ]
  },
  {
   "cell_type": "code",
   "execution_count": 21,
   "metadata": {},
   "outputs": [],
   "source": [
    "policy_name_params = [f\"{i}_{j}\" for i in [\"S1\", \"S2\", \"S3\", \"S4\", \"S5\"] for j in [\"no_TTI\", \"symptom_based_TTI\", \"test_based_TTI\", \"test_based_TTI_test_contacts\"]]\n",
    "case_config = config.get_case_config(\"delve\")\n",
    "contacts_config = config.get_contacts_config(\"delve\")\n",
    "latent_params = [1, 2, 3, 4]\n",
    "n_experiments = 2 # number of simulations performed for a particular value"
   ]
  },
  {
   "cell_type": "code",
   "execution_count": 22,
   "metadata": {},
   "outputs": [],
   "source": [
    "# Used to store the experimentation result\n",
    "dict_latent = {policy_name: {} for policy_name in policy_name_params}\n",
    "for latent_param in latent_params:\n",
    "    for key in dict_latent.keys():\n",
    "        dict_latent[key][latent_param] = []"
   ]
  },
  {
   "cell_type": "code",
   "execution_count": 23,
   "metadata": {},
   "outputs": [
    {
     "data": {
      "application/vnd.jupyter.widget-view+json": {
       "model_id": "e4b3ea800efa4c1cbae15b97d1330b45",
       "version_major": 2,
       "version_minor": 0
      },
      "text/plain": [
       "HBox(children=(FloatProgress(value=0.0, max=20.0), HTML(value='')))"
      ]
     },
     "metadata": {},
     "output_type": "display_data"
    },
    {
     "name": "stdout",
     "output_type": "stream",
     "text": [
      "\n"
     ]
    }
   ],
   "source": [
    "# Try all possible policy and age parameters\n",
    "for policy_name in tqdm(policy_name_params):\n",
    "    \n",
    "    for latent in latent_params:\n",
    "        # For each case, experiment n times\n",
    "        for _ in range(n_experiments):\n",
    "            outputs = do_simulation(policy_name, case_config, contacts_config, \n",
    "                                    n_cases=10000, dict_params={\"latent_period\": latent})\n",
    "            dict_latent[policy_name][latent].append(outputs)"
   ]
  },
  {
   "cell_type": "code",
   "execution_count": 24,
   "metadata": {},
   "outputs": [],
   "source": [
    "df_latent = compile_df_result(dict_latent, \"latent\", latent_params, n_experiments)"
   ]
  },
  {
   "cell_type": "code",
   "execution_count": 25,
   "metadata": {},
   "outputs": [],
   "source": [
    "df_latent.to_csv(\"../results/latent.csv\")"
   ]
  },
  {
   "cell_type": "markdown",
   "metadata": {},
   "source": [
    "### Most Infectious Day"
   ]
  },
  {
   "cell_type": "code",
   "execution_count": 4,
   "metadata": {},
   "outputs": [],
   "source": [
    "policy_name_params = [f\"{i}_{j}\" for i in [\"S1\", \"S2\", \"S3\", \"S4\", \"S5\"] for j in [\"no_TTI\", \"symptom_based_TTI\", \"test_based_TTI\", \"test_based_TTI_test_contacts\"]]\n",
    "case_config = config.get_case_config(\"delve\")\n",
    "contacts_config = config.get_contacts_config(\"delve\")\n",
    "most_infectious_params = [[1, 0 , 0, 0, 0, 0, 0, 0, 0, 0],\n",
    "                   [0, 1, 0, 0, 0, 0, 0, 0, 0, 0],\n",
    "                   [0, 0, 1, 0, 0, 0, 0, 0, 0, 0],\n",
    "                   [0, 0, 0, 1, 0, 0, 0, 0, 0, 0]]\n",
    "n_experiments = 2 # number of simulations performed for a particular value"
   ]
  },
  {
   "cell_type": "code",
   "execution_count": 5,
   "metadata": {},
   "outputs": [],
   "source": [
    "# Used to store the experimentation result\n",
    "dict_most_infectious = {policy_name: {} for policy_name in policy_name_params}\n",
    "for i, most_infectious_param in enumerate(most_infectious_params):\n",
    "    for key in dict_most_infectious.keys():\n",
    "        dict_most_infectious[key][i+1] = []"
   ]
  },
  {
   "cell_type": "code",
   "execution_count": 6,
   "metadata": {},
   "outputs": [
    {
     "data": {
      "application/vnd.jupyter.widget-view+json": {
       "model_id": "ed3421fa61084eb48eef486b1a7383a5",
       "version_major": 2,
       "version_minor": 0
      },
      "text/plain": [
       "HBox(children=(FloatProgress(value=0.0, max=20.0), HTML(value='')))"
      ]
     },
     "metadata": {},
     "output_type": "display_data"
    },
    {
     "name": "stdout",
     "output_type": "stream",
     "text": [
      "\n"
     ]
    }
   ],
   "source": [
    "# Try all possible policy and age parameters\n",
    "for policy_name in tqdm(policy_name_params):\n",
    "    \n",
    "    for i, most_infectious_param in enumerate(most_infectious_params):\n",
    "        case_config[\"inf_profile\"] = most_infectious_param\n",
    "        \n",
    "        # For each case, experiment n times\n",
    "        for _ in range(n_experiments):\n",
    "            outputs = do_simulation(policy_name, case_config, contacts_config, n_cases=10000)\n",
    "            dict_most_infectious[policy_name][i+1].append(outputs)"
   ]
  },
  {
   "cell_type": "code",
   "execution_count": 7,
   "metadata": {},
   "outputs": [],
   "source": [
    "df_most_infectious = compile_df_result(dict_most_infectious, \"most_infectious_day\", [1,2,3,4], n_experiments)"
   ]
  },
  {
   "cell_type": "code",
   "execution_count": 8,
   "metadata": {},
   "outputs": [],
   "source": [
    "df_most_infectious.to_csv(\"../results/most-infectious.csv\")"
   ]
  },
  {
   "cell_type": "markdown",
   "metadata": {},
   "source": [
    "### WFH"
   ]
  },
  {
   "cell_type": "code",
   "execution_count": 4,
   "metadata": {},
   "outputs": [],
   "source": [
    "policy_name_params = [f\"{i}_{j}\" for i in [\"S1\", \"S2\", \"S3\", \"S4\", \"S5\"] for j in [\"no_TTI\", \"symptom_based_TTI\", \"test_based_TTI\", \"test_based_TTI_test_contacts\"]]\n",
    "case_config = config.get_case_config(\"delve\")\n",
    "contacts_config = config.get_contacts_config(\"delve\")\n",
    "wfh_params = [0, 0.25, 0.5, 0.75, 1]\n",
    "n_experiments = 2 # number of simulations performed for a particular value"
   ]
  },
  {
   "cell_type": "code",
   "execution_count": 5,
   "metadata": {},
   "outputs": [],
   "source": [
    "# Used to store the experimentation result\n",
    "dict_wfh = {policy_name: {} for policy_name in policy_name_params}\n",
    "for wfh_param in wfh_params:\n",
    "    for key in dict_wfh.keys():\n",
    "        dict_wfh[key][wfh_param] = []"
   ]
  },
  {
   "cell_type": "code",
   "execution_count": 6,
   "metadata": {},
   "outputs": [
    {
     "data": {
      "application/vnd.jupyter.widget-view+json": {
       "model_id": "707eaa559dd54d9f9d4b6e4cd8581d3c",
       "version_major": 2,
       "version_minor": 0
      },
      "text/plain": [
       "HBox(children=(FloatProgress(value=0.0, max=20.0), HTML(value='')))"
      ]
     },
     "metadata": {},
     "output_type": "display_data"
    },
    {
     "name": "stdout",
     "output_type": "stream",
     "text": [
      "\n"
     ]
    }
   ],
   "source": [
    "# Try all possible policy and age parameters\n",
    "for policy_name in tqdm(policy_name_params):\n",
    "    \n",
    "    for wfh_param in wfh_params:\n",
    "        # For each case, experiment n times\n",
    "        for _ in range(n_experiments):\n",
    "            outputs = do_simulation(policy_name, case_config, contacts_config, \n",
    "                                    n_cases=20000, dict_params={\"wfh_prob\": wfh_param})\n",
    "            dict_wfh[policy_name][wfh_param].append(outputs)"
   ]
  },
  {
   "cell_type": "code",
   "execution_count": 7,
   "metadata": {},
   "outputs": [],
   "source": [
    "df_wfh = compile_df_result(dict_wfh, \"wfh\", wfh_params, n_experiments)"
   ]
  },
  {
   "cell_type": "code",
   "execution_count": 8,
   "metadata": {},
   "outputs": [],
   "source": [
    "df_wfh.to_csv(\"../results/wfh.csv\")"
   ]
  },
  {
   "cell_type": "markdown",
   "metadata": {},
   "source": [
    "### Go to School"
   ]
  },
  {
   "cell_type": "code",
   "execution_count": 5,
   "metadata": {},
   "outputs": [],
   "source": [
    "policy_name_params = [f\"{i}_{j}\" for i in [\"S1\", \"S2\", \"S3\", \"S4\", \"S5\"] for j in [\"no_TTI\", \"symptom_based_TTI\", \"test_based_TTI\", \"test_based_TTI_test_contacts\"]]\n",
    "case_config = config.get_case_config(\"delve\")\n",
    "contacts_config = config.get_contacts_config(\"delve\")\n",
    "gts_params = [0, 0.25, 0.5, 0.75, 1]\n",
    "n_experiments = 2 # number of simulations performed for a particular value"
   ]
  },
  {
   "cell_type": "code",
   "execution_count": 6,
   "metadata": {},
   "outputs": [],
   "source": [
    "# Used to store the experimentation result\n",
    "dict_gts = {policy_name: {} for policy_name in policy_name_params}\n",
    "for gts_param in gts_params:\n",
    "    for key in dict_gts.keys():\n",
    "        dict_gts[key][gts_param] = []"
   ]
  },
  {
   "cell_type": "code",
   "execution_count": 7,
   "metadata": {},
   "outputs": [
    {
     "data": {
      "application/vnd.jupyter.widget-view+json": {
       "model_id": "5ac922e6982d498fa11f9d3e0b30f860",
       "version_major": 2,
       "version_minor": 0
      },
      "text/plain": [
       "HBox(children=(FloatProgress(value=0.0, max=20.0), HTML(value='')))"
      ]
     },
     "metadata": {},
     "output_type": "display_data"
    },
    {
     "name": "stdout",
     "output_type": "stream",
     "text": [
      "\n"
     ]
    }
   ],
   "source": [
    "# Try all possible policy and age parameters\n",
    "for policy_name in tqdm(policy_name_params):\n",
    "    \n",
    "    for gts_param in gts_params:\n",
    "        # For each case, experiment n times\n",
    "        for _ in range(n_experiments):\n",
    "            outputs = do_simulation(policy_name, case_config, contacts_config, \n",
    "                                    n_cases=20000, dict_params={\"go_to_school_prob\": gts_param})\n",
    "            dict_gts[policy_name][gts_param].append(outputs)"
   ]
  },
  {
   "cell_type": "code",
   "execution_count": 9,
   "metadata": {},
   "outputs": [],
   "source": [
    "df_gts = compile_df_result(dict_gts, \"gts\", gts_params, n_experiments)"
   ]
  },
  {
   "cell_type": "code",
   "execution_count": 10,
   "metadata": {},
   "outputs": [],
   "source": [
    "df_gts.to_csv(\"../results/go-to-school.csv\")"
   ]
  },
  {
   "cell_type": "markdown",
   "metadata": {},
   "source": [
    "### Test/ Trace Delay"
   ]
  },
  {
   "cell_type": "code",
   "execution_count": 4,
   "metadata": {},
   "outputs": [],
   "source": [
    "policy_name_params = [f\"{i}_{j}\" for i in [\"S1\", \"S2\", \"S3\", \"S4\", \"S5\"] for j in [\"no_TTI\", \"symptom_based_TTI\", \"test_based_TTI\", \"test_based_TTI_test_contacts\"]]\n",
    "case_config = config.get_case_config(\"delve\")\n",
    "contacts_config = config.get_contacts_config(\"delve\")\n",
    "test_params = [1, 2, 2, 3, 3]\n",
    "trace_params = [1, 1, 2, 2, 3]\n",
    "n_experiments = 2 # number of simulations performed for a particular value"
   ]
  },
  {
   "cell_type": "code",
   "execution_count": 5,
   "metadata": {},
   "outputs": [],
   "source": [
    "# Used to store the experimentation result\n",
    "dict_test_trace = {policy_name: {} for policy_name in policy_name_params}\n",
    "for test_param, trace_param in zip(test_params, trace_params):\n",
    "    for key in dict_test_trace.keys():\n",
    "        dict_test_trace[key][(test_param, trace_param)] = []"
   ]
  },
  {
   "cell_type": "code",
   "execution_count": 6,
   "metadata": {},
   "outputs": [
    {
     "data": {
      "application/vnd.jupyter.widget-view+json": {
       "model_id": "f31a10bf316742028593bde60f6387e0",
       "version_major": 2,
       "version_minor": 0
      },
      "text/plain": [
       "HBox(children=(FloatProgress(value=0.0, max=20.0), HTML(value='')))"
      ]
     },
     "metadata": {},
     "output_type": "display_data"
    },
    {
     "name": "stdout",
     "output_type": "stream",
     "text": [
      "\n"
     ]
    }
   ],
   "source": [
    "# Try all possible policy and age parameters\n",
    "for policy_name in tqdm(policy_name_params):\n",
    "    \n",
    "    for test_param, trace_param in zip(test_params, trace_params):\n",
    "        # For each case, experiment n times\n",
    "        for _ in range(n_experiments):\n",
    "            outputs = do_simulation(policy_name, case_config, contacts_config, \n",
    "                                    n_cases=15000, dict_params={\"testing_delay\": test_param,\n",
    "                                                               \"manual_trace_delay\": trace_param})\n",
    "            dict_test_trace[policy_name][(test_param, trace_param)].append(outputs)"
   ]
  },
  {
   "cell_type": "code",
   "execution_count": 7,
   "metadata": {},
   "outputs": [],
   "source": [
    "key_params = [f\"{i}_{j}\" for i in [\"S1\", \"S2\", \"S3\", \"S4\", \"S5\"] for j in [\"no_TTI\", \"symptom_based_TTI\", \"test_based_TTI\", \"test_based_TTI_test_contacts\"]]\n",
    "df_result = {\"strategy\": [], \n",
    "             \"gov_policy\": [],\n",
    "             \"test/trace\": [],\n",
    "             \"effective_r\": [], \n",
    "             \"base_r\": [],\n",
    "             \"manual_traces\": [], \n",
    "             \"app_traces\": [], \n",
    "             \"test_needed\": [],\n",
    "             \"persondays_quarantined\": []}\n",
    "nppl = 120\n",
    "\n",
    "for key in key_params:\n",
    "    strategy = key[:2]\n",
    "    gov_policy = key[3:]\n",
    "    \n",
    "    for test_param, trace_param in zip(test_params, trace_params):\n",
    "\n",
    "        for i in range(n_experiments):\n",
    "            result_format = pd.DataFrame(dict_test_trace[key][(test_param, trace_param)][i]).mean(0)\n",
    "            df_result[\"test/trace\"].append(f\"{test_param}/{trace_param}\")\n",
    "            df_result[\"strategy\"].append(strategy)\n",
    "            df_result[\"gov_policy\"].append(gov_policy)\n",
    "            df_result[\"effective_r\"].append(result_format.loc[\"Effective R\"])\n",
    "            df_result[\"base_r\"].append(result_format.loc[\"Base R\"])\n",
    "            df_result[\"manual_traces\"].append(result_format.loc[\"# Manual Traces\"] * nppl)\n",
    "            df_result[\"app_traces\"].append(result_format.loc[\"# App Traces\"] * nppl)\n",
    "            df_result[\"test_needed\"].append(result_format.loc[\"# Tests Needed\"] * nppl)\n",
    "            df_result[\"persondays_quarantined\"].append(result_format.loc[\"# PersonDays Quarantined\"])"
   ]
  },
  {
   "cell_type": "code",
   "execution_count": 8,
   "metadata": {},
   "outputs": [],
   "source": [
    "# Convert to dataframe\n",
    "df_result = pd.DataFrame(df_result)"
   ]
  },
  {
   "cell_type": "code",
   "execution_count": 9,
   "metadata": {},
   "outputs": [],
   "source": [
    "df_result.to_csv(\"../results/test-trace.csv\")"
   ]
  },
  {
   "cell_type": "markdown",
   "metadata": {},
   "source": [
    "### COVID Positive Cases"
   ]
  },
  {
   "cell_type": "code",
   "execution_count": 4,
   "metadata": {},
   "outputs": [],
   "source": [
    "policy_name_params = [f\"{i}_{j}\" for i in [\"S1\", \"S2\", \"S3\", \"S4\", \"S5\"] for j in [\"no_TTI\", \"symptom_based_TTI\", \"test_based_TTI\", \"test_based_TTI_test_contacts\"]]\n",
    "case_config = config.get_case_config(\"delve\")\n",
    "case_config[\"infection_proportions\"][\"dist\"] = [0, 0.6, 0.4]\n",
    "contacts_config = config.get_contacts_config(\"delve\")\n",
    "n_experiments = 2 # number of simulations performed for a particular value\n",
    "n_cases_params = [10000, 20000, 30000, 40000, 50000]"
   ]
  },
  {
   "cell_type": "code",
   "execution_count": 5,
   "metadata": {},
   "outputs": [],
   "source": [
    "# Used to store the experimentation result\n",
    "dict_symp_covid = {policy_name: {} for policy_name in policy_name_params}\n",
    "for n_cases in n_cases_params:\n",
    "    for key in dict_symp_covid.keys():\n",
    "        dict_symp_covid[key][n_cases] = []"
   ]
  },
  {
   "cell_type": "code",
   "execution_count": 6,
   "metadata": {},
   "outputs": [
    {
     "data": {
      "application/vnd.jupyter.widget-view+json": {
       "model_id": "b7d5529bbc8b4b8d8edc7d398a454332",
       "version_major": 2,
       "version_minor": 0
      },
      "text/plain": [
       "HBox(children=(FloatProgress(value=0.0, max=20.0), HTML(value='')))"
      ]
     },
     "metadata": {},
     "output_type": "display_data"
    },
    {
     "name": "stdout",
     "output_type": "stream",
     "text": [
      "\n"
     ]
    }
   ],
   "source": [
    "# Try all possible policy\n",
    "for policy_name in tqdm(policy_name_params):\n",
    "    \n",
    "    for n_cases in n_cases_params:\n",
    "        # For each case, experiment n times\n",
    "        for _ in range(n_experiments):\n",
    "            outputs = do_simulation(policy_name, case_config, contacts_config, n_cases=n_cases)\n",
    "            dict_symp_covid[policy_name][n_cases].append(outputs)"
   ]
  },
  {
   "cell_type": "code",
   "execution_count": 7,
   "metadata": {},
   "outputs": [],
   "source": [
    "df_symp_covid = compile_df_result(dict_symp_covid, \"n_cases\", n_cases_params, n_experiments)"
   ]
  },
  {
   "cell_type": "code",
   "execution_count": 8,
   "metadata": {},
   "outputs": [],
   "source": [
    "df_symp_covid.to_csv(\"../results/positive-covid.csv\")"
   ]
  },
  {
   "cell_type": "markdown",
   "metadata": {},
   "source": [
    "### COVID Negative Cases"
   ]
  },
  {
   "cell_type": "code",
   "execution_count": 4,
   "metadata": {},
   "outputs": [],
   "source": [
    "policy_name_params = [f\"{i}_{j}\" for i in [\"S1\", \"S2\", \"S3\", \"S4\", \"S5\"] for j in [\"no_TTI\", \"symptom_based_TTI\", \"test_based_TTI\", \"test_based_TTI_test_contacts\"]]\n",
    "case_config = config.get_case_config(\"delve\")\n",
    "case_config[\"infection_proportions\"][\"dist\"] = [0.8, 0.1, 0.1]\n",
    "contacts_config = config.get_contacts_config(\"delve\")\n",
    "n_experiments = 2 # number of simulations performed for a particular value\n",
    "n_cases_params = [10000, 20000, 30000, 40000, 50000]"
   ]
  },
  {
   "cell_type": "code",
   "execution_count": 5,
   "metadata": {},
   "outputs": [],
   "source": [
    "# Used to store the experimentation result\n",
    "dict_symp_covid = {policy_name: {} for policy_name in policy_name_params}\n",
    "for n_cases in n_cases_params:\n",
    "    for key in dict_symp_covid.keys():\n",
    "        dict_symp_covid[key][n_cases] = []"
   ]
  },
  {
   "cell_type": "code",
   "execution_count": 6,
   "metadata": {},
   "outputs": [
    {
     "data": {
      "application/vnd.jupyter.widget-view+json": {
       "model_id": "b143e4d6c4a94a9bb61a1d9d6e72d830",
       "version_major": 2,
       "version_minor": 0
      },
      "text/plain": [
       "HBox(children=(FloatProgress(value=0.0, max=20.0), HTML(value='')))"
      ]
     },
     "metadata": {},
     "output_type": "display_data"
    },
    {
     "name": "stdout",
     "output_type": "stream",
     "text": [
      "\n"
     ]
    }
   ],
   "source": [
    "# Try all possible policy\n",
    "for policy_name in tqdm(policy_name_params):\n",
    "    \n",
    "    for n_cases in n_cases_params:\n",
    "        # For each case, experiment n times\n",
    "        for _ in range(n_experiments):\n",
    "            outputs = do_simulation(policy_name, case_config, contacts_config, n_cases=n_cases)\n",
    "            dict_symp_covid[policy_name][n_cases].append(outputs)"
   ]
  },
  {
   "cell_type": "code",
   "execution_count": 7,
   "metadata": {},
   "outputs": [],
   "source": [
    "df_symp_covid = compile_df_result(dict_symp_covid, \"n_cases\", n_cases_params, n_experiments)"
   ]
  },
  {
   "cell_type": "code",
   "execution_count": 8,
   "metadata": {},
   "outputs": [],
   "source": [
    "df_symp_covid.to_csv(\"../results/negative-covid.csv\")"
   ]
  },
  {
   "cell_type": "markdown",
   "metadata": {},
   "source": [
    "### Quarantine Length"
   ]
  },
  {
   "cell_type": "code",
   "execution_count": 9,
   "metadata": {},
   "outputs": [],
   "source": [
    "policy_name_params = [f\"{i}_{j}\" for i in [\"S1\", \"S2\", \"S3\", \"S4\", \"S5\"] for j in [\"no_TTI\", \"symptom_based_TTI\", \"test_based_TTI\", \"test_based_TTI_test_contacts\"]]\n",
    "case_config = config.get_case_config(\"delve\")\n",
    "contacts_config = config.get_contacts_config(\"delve\")\n",
    "quarantine_length_params = [6,8,10,12,14]\n",
    "n_experiments = 2 # number of simulations performed for a particular value"
   ]
  },
  {
   "cell_type": "code",
   "execution_count": 11,
   "metadata": {},
   "outputs": [],
   "source": [
    "# Used to store the experimentation result\n",
    "dict_ql = {policy_name: {} for policy_name in policy_name_params}\n",
    "for quarantine_length_param in quarantine_length_params:\n",
    "    for key in dict_ql.keys():\n",
    "        dict_ql[key][quarantine_length_param] = []"
   ]
  },
  {
   "cell_type": "code",
   "execution_count": null,
   "metadata": {},
   "outputs": [
    {
     "data": {
      "application/vnd.jupyter.widget-view+json": {
       "model_id": "705385f7762d4334bb59e65d75bcc4f5",
       "version_major": 2,
       "version_minor": 0
      },
      "text/plain": [
       "HBox(children=(FloatProgress(value=0.0, max=20.0), HTML(value='')))"
      ]
     },
     "metadata": {},
     "output_type": "display_data"
    }
   ],
   "source": [
    "# Try all possible policy and age parameters\n",
    "for policy_name in tqdm(policy_name_params):\n",
    "    \n",
    "    for ql in quarantine_length_params:\n",
    "        # For each case, experiment n times\n",
    "        for _ in range(n_experiments):\n",
    "            outputs = do_simulation(policy_name, case_config, contacts_config, \n",
    "                                    n_cases=10000, dict_params={\"quarantine_length\": ql})\n",
    "            dict_ql[policy_name][ql].append(outputs)"
   ]
  },
  {
   "cell_type": "code",
   "execution_count": null,
   "metadata": {},
   "outputs": [],
   "source": [
    "df_ql = compile_df_result(dict_ql, \"quarantine_length\", quarantine_length_params, n_experiments)"
   ]
  },
  {
   "cell_type": "code",
   "execution_count": null,
   "metadata": {},
   "outputs": [],
   "source": [
    "df_ql.to_csv(\"../results/quarantine-length.csv\")"
   ]
  },
  {
   "cell_type": "markdown",
   "metadata": {},
   "source": [
    "### Home SAR"
   ]
  },
  {
   "cell_type": "code",
   "execution_count": 11,
   "metadata": {},
   "outputs": [],
   "source": [
    "policy_name_params = [f\"{i}_{j}\" for i in [\"S1\", \"S2\", \"S3\", \"S4\", \"S5\"] for j in [\"no_TTI\", \"symptom_based_TTI\", \"test_based_TTI\", \"test_based_TTI_test_contacts\"]]\n",
    "case_config = config.get_case_config(\"delve\")\n",
    "contacts_config = config.get_contacts_config(\"delve\")\n",
    "home_sar_params = [0.1, 0.2, 0.3, 0.4, 0.5, 0.6, 0.7, 0.8, 0.9, 1.0]\n",
    "n_experiments = 2 # number of simulations performed for a particular value"
   ]
  },
  {
   "cell_type": "code",
   "execution_count": 12,
   "metadata": {},
   "outputs": [],
   "source": [
    "# Used to store the experimentation result\n",
    "dict_home_sars = {policy_name: {} for policy_name in policy_name_params}\n",
    "for param in home_sar_params:\n",
    "    for key in dict_home_sars.keys():\n",
    "        dict_home_sars[key][param] = []"
   ]
  },
  {
   "cell_type": "code",
   "execution_count": 13,
   "metadata": {},
   "outputs": [
    {
     "data": {
      "application/vnd.jupyter.widget-view+json": {
       "model_id": "e6b577f84f914888916022380833ac1a",
       "version_major": 2,
       "version_minor": 0
      },
      "text/plain": [
       "HBox(children=(FloatProgress(value=0.0, max=20.0), HTML(value='')))"
      ]
     },
     "metadata": {},
     "output_type": "display_data"
    },
    {
     "name": "stdout",
     "output_type": "stream",
     "text": [
      "\n"
     ]
    }
   ],
   "source": [
    "# Try all possible policy and age parameters\n",
    "for policy_name in tqdm(policy_name_params):\n",
    "    \n",
    "    for home_sar in home_sar_params:\n",
    "        # For each case, experiment n times\n",
    "        for _ in range(n_experiments):\n",
    "            contacts_config[\"home_sar\"] = home_sar\n",
    "            outputs = do_simulation(policy_name, case_config, contacts_config, \n",
    "                                    n_cases=10000)\n",
    "            dict_home_sars[policy_name][home_sar].append(outputs)"
   ]
  },
  {
   "cell_type": "code",
   "execution_count": 14,
   "metadata": {},
   "outputs": [],
   "source": [
    "df_home_sar = compile_df_result(dict_home_sars, \"home_sar\", home_sar_params, n_experiments)"
   ]
  },
  {
   "cell_type": "code",
   "execution_count": 15,
   "metadata": {},
   "outputs": [],
   "source": [
    "df_home_sar.to_csv(\"../results/home-sar.csv\")"
   ]
  },
  {
   "cell_type": "markdown",
   "metadata": {},
   "source": [
    "### Work SAR"
   ]
  },
  {
   "cell_type": "code",
   "execution_count": 11,
   "metadata": {},
   "outputs": [],
   "source": [
    "policy_name_params = [f\"{i}_{j}\" for i in [\"S1\", \"S2\", \"S3\", \"S4\", \"S5\"] for j in [\"no_TTI\", \"symptom_based_TTI\", \"test_based_TTI\", \"test_based_TTI_test_contacts\"]]\n",
    "case_config = config.get_case_config(\"delve\")\n",
    "contacts_config = config.get_contacts_config(\"delve\")\n",
    "work_sar_params = [0.1, 0.2, 0.3, 0.4, 0.5, 0.6, 0.7, 0.8, 0.9, 1.0]\n",
    "n_experiments = 2 # number of simulations performed for a particular value"
   ]
  },
  {
   "cell_type": "code",
   "execution_count": 12,
   "metadata": {},
   "outputs": [],
   "source": [
    "# Used to store the experimentation result\n",
    "dict_work_sars = {policy_name: {} for policy_name in policy_name_params}\n",
    "for param in work_sar_params:\n",
    "    for key in dict_work_sars.keys():\n",
    "        dict_work_sars[key][param] = []"
   ]
  },
  {
   "cell_type": "code",
   "execution_count": 13,
   "metadata": {},
   "outputs": [
    {
     "data": {
      "application/vnd.jupyter.widget-view+json": {
       "model_id": "e6b577f84f914888916022380833ac1a",
       "version_major": 2,
       "version_minor": 0
      },
      "text/plain": [
       "HBox(children=(FloatProgress(value=0.0, max=20.0), HTML(value='')))"
      ]
     },
     "metadata": {},
     "output_type": "display_data"
    },
    {
     "name": "stdout",
     "output_type": "stream",
     "text": [
      "\n"
     ]
    }
   ],
   "source": [
    "# Try all possible policy and age parameters\n",
    "for policy_name in tqdm(policy_name_params):\n",
    "    \n",
    "    for work_sar in work_sar_params:\n",
    "        # For each case, experiment n times\n",
    "        for _ in range(n_experiments):\n",
    "            contacts_config[\"work_sar\"] = work_sar\n",
    "            outputs = do_simulation(policy_name, case_config, contacts_config, \n",
    "                                    n_cases=10000)\n",
    "            dict_work_sars[policy_name][work_sar].append(outputs)"
   ]
  },
  {
   "cell_type": "code",
   "execution_count": 14,
   "metadata": {},
   "outputs": [],
   "source": [
    "df_work_sar = compile_df_result(dict_work_sars, \"work_sar\", work_sar_params, n_experiments)"
   ]
  },
  {
   "cell_type": "code",
   "execution_count": 15,
   "metadata": {},
   "outputs": [],
   "source": [
    "df_work_sar.to_csv(\"../results/work-sar.csv\")"
   ]
  },
  {
   "cell_type": "markdown",
   "metadata": {},
   "source": [
    "### Other SAR"
   ]
  },
  {
   "cell_type": "code",
   "execution_count": 11,
   "metadata": {},
   "outputs": [],
   "source": [
    "policy_name_params = [f\"{i}_{j}\" for i in [\"S1\", \"S2\", \"S3\", \"S4\", \"S5\"] for j in [\"no_TTI\", \"symptom_based_TTI\", \"test_based_TTI\", \"test_based_TTI_test_contacts\"]]\n",
    "case_config = config.get_case_config(\"delve\")\n",
    "contacts_config = config.get_contacts_config(\"delve\")\n",
    "work_sar_params = [0.1, 0.2, 0.3, 0.4, 0.5, 0.6, 0.7, 0.8, 0.9, 1.0]\n",
    "n_experiments = 2 # number of simulations performed for a particular value"
   ]
  },
  {
   "cell_type": "code",
   "execution_count": 12,
   "metadata": {},
   "outputs": [],
   "source": [
    "# Used to store the experimentation result\n",
    "dict_work_sars = {policy_name: {} for policy_name in policy_name_params}\n",
    "for param in work_sar_params:\n",
    "    for key in dict_work_sars.keys():\n",
    "        dict_work_sars[key][param] = []"
   ]
  },
  {
   "cell_type": "code",
   "execution_count": 13,
   "metadata": {},
   "outputs": [
    {
     "data": {
      "application/vnd.jupyter.widget-view+json": {
       "model_id": "e6b577f84f914888916022380833ac1a",
       "version_major": 2,
       "version_minor": 0
      },
      "text/plain": [
       "HBox(children=(FloatProgress(value=0.0, max=20.0), HTML(value='')))"
      ]
     },
     "metadata": {},
     "output_type": "display_data"
    },
    {
     "name": "stdout",
     "output_type": "stream",
     "text": [
      "\n"
     ]
    }
   ],
   "source": [
    "# Try all possible policy and age parameters\n",
    "for policy_name in tqdm(policy_name_params):\n",
    "    \n",
    "    for work_sar in work_sar_params:\n",
    "        # For each case, experiment n times\n",
    "        for _ in range(n_experiments):\n",
    "            contacts_config[\"other_sar\"] = work_sar\n",
    "            outputs = do_simulation(policy_name, case_config, contacts_config, \n",
    "                                    n_cases=10000)\n",
    "            dict_work_sars[policy_name][work_sar].append(outputs)"
   ]
  },
  {
   "cell_type": "code",
   "execution_count": 14,
   "metadata": {},
   "outputs": [],
   "source": [
    "df_other_sar = compile_df_result(dict_work_sars, \"other_sar\", work_sar_params, n_experiments)"
   ]
  },
  {
   "cell_type": "code",
   "execution_count": 15,
   "metadata": {},
   "outputs": [],
   "source": [
    "df_other_sar.to_csv(\"../results/other-sar.csv\")"
   ]
  }
 ],
 "metadata": {
  "kernelspec": {
   "display_name": "Python 3",
   "language": "python",
   "name": "python3"
  },
  "language_info": {
   "codemirror_mode": {
    "name": "ipython",
    "version": 3
   },
   "file_extension": ".py",
   "mimetype": "text/x-python",
   "name": "python",
   "nbconvert_exporter": "python",
   "pygments_lexer": "ipython3",
   "version": "3.7.6"
  }
 },
 "nbformat": 4,
 "nbformat_minor": 4
}
