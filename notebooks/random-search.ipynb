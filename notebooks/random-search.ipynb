{
 "cells": [
  {
   "cell_type": "code",
   "execution_count": null,
   "metadata": {},
   "outputs": [],
   "source": []
  },
  {
   "cell_type": "markdown",
   "metadata": {},
   "source": [
    "## Setup"
   ]
  },
  {
   "cell_type": "code",
   "execution_count": 3,
   "metadata": {},
   "outputs": [
    {
     "ename": "ImportError",
     "evalue": "attempted relative import with no known parent package",
     "output_type": "error",
     "traceback": [
      "\u001b[1;31m---------------------------------------------------------------------------\u001b[0m",
      "\u001b[1;31mImportError\u001b[0m                               Traceback (most recent call last)",
      "\u001b[1;32m<ipython-input-3-bb0c96fb6f47>\u001b[0m in \u001b[0;36m<module>\u001b[1;34m\u001b[0m\n\u001b[0;32m      8\u001b[0m \u001b[1;32mfrom\u001b[0m \u001b[0mmatplotlib\u001b[0m \u001b[1;32mimport\u001b[0m \u001b[0mpyplot\u001b[0m \u001b[1;32mas\u001b[0m \u001b[0mplt\u001b[0m\u001b[1;33m\u001b[0m\u001b[1;33m\u001b[0m\u001b[0m\n\u001b[0;32m      9\u001b[0m \u001b[1;33m\u001b[0m\u001b[0m\n\u001b[1;32m---> 10\u001b[1;33m \u001b[1;32mfrom\u001b[0m \u001b[1;33m.\u001b[0m\u001b[0mtti_explorer\u001b[0m \u001b[1;32mimport\u001b[0m \u001b[0mconfig\u001b[0m\u001b[1;33m,\u001b[0m \u001b[0mutils\u001b[0m\u001b[1;33m\u001b[0m\u001b[1;33m\u001b[0m\u001b[0m\n\u001b[0m\u001b[0;32m     11\u001b[0m \u001b[1;32mfrom\u001b[0m \u001b[1;33m.\u001b[0m\u001b[0mtti_explorer\u001b[0m\u001b[1;33m.\u001b[0m\u001b[0mcase\u001b[0m \u001b[1;32mimport\u001b[0m \u001b[0msimulate_case\u001b[0m\u001b[1;33m,\u001b[0m \u001b[0mCaseFactors\u001b[0m\u001b[1;33m\u001b[0m\u001b[1;33m\u001b[0m\u001b[0m\n\u001b[0;32m     12\u001b[0m \u001b[1;32mfrom\u001b[0m \u001b[1;33m.\u001b[0m\u001b[0mtti_explorer\u001b[0m\u001b[1;33m.\u001b[0m\u001b[0mcontacts\u001b[0m \u001b[1;32mimport\u001b[0m \u001b[0mEmpiricalContactsSimulator\u001b[0m\u001b[1;33m\u001b[0m\u001b[1;33m\u001b[0m\u001b[0m\n",
      "\u001b[1;31mImportError\u001b[0m: attempted relative import with no known parent package"
     ]
    }
   ],
   "source": [
    "import os\n",
    "import time\n",
    "import math\n",
    "\n",
    "import numpy as np\n",
    "import pandas as pd\n",
    "from tqdm.notebook import trange\n",
    "from matplotlib import pyplot as plt\n",
    "\n",
    "from tti_explorer import config, utils\n",
    "from tti_explorer.case import simulate_case, CaseFactors\n",
    "from tti_explorer.contacts import EmpiricalContactsSimulator\n",
    "from tti_explorer.strategies import TTIFlowModel, RETURN_KEYS"
   ]
  },
  {
   "cell_type": "code",
   "execution_count": 15,
   "metadata": {},
   "outputs": [],
   "source": [
    "%run utilities.ipynb"
   ]
  },
  {
   "cell_type": "code",
   "execution_count": 23,
   "metadata": {},
   "outputs": [],
   "source": [
    "# Load data\n",
    "over18 = load_csv(\"../data/bbc-pandemic/contact_distributions_o18.csv\")\n",
    "under18 = load_csv(\"../data/bbc-pandemic/contact_distributions_u18.csv\")"
   ]
  },
  {
   "cell_type": "markdown",
   "metadata": {},
   "source": [
    "## Simulator"
   ]
  },
  {
   "cell_type": "code",
   "execution_count": 107,
   "metadata": {},
   "outputs": [],
   "source": [
    "case_config, contacts_config, default_policy_config, _, _ = get_gp_config()\n",
    "\n",
    "def simulate_policy(policy_parameters, n_cases = 10000):\n",
    "    \"\"\"\n",
    "    Simulates a policy given by parameters.\n",
    "    \n",
    "    :param policy_parameters: a dictionary of policy parameter values.\n",
    "        parameters not included will use default values\n",
    "    :param n_cases: number of initial cases. Default value is 10000.\n",
    "    \n",
    "    :return: Pandas dataframe containing the results of the simulation:\n",
    "        Base R, Effective R, # Manual Traces, # App Traces, # Tests Needed.\n",
    "    \"\"\"\n",
    "    \n",
    "    \n",
    "    ## Compose all necessary configs\n",
    "    policy_config = deepcopy(default_policy_config)\n",
    "    for key, value in policy_parameters.items():\n",
    "        policy_config[key] = value\n",
    "    \n",
    "    factor_config = utils.get_sub_dictionary(policy_config, config.DELVE_CASE_FACTOR_KEYS)\n",
    "    strategy_config = utils.get_sub_dictionary(policy_config, config.DELVE_STRATEGY_FACTOR_KEYS)\n",
    "\n",
    "    ## Simulation\n",
    "    rng = np.random.RandomState(random.randint(0, 1000))\n",
    "\n",
    "    simulate_contacts = EmpiricalContactsSimulator(over18, under18, rng)\n",
    "    tti_model = TTIFlowModel(rng, **strategy_config)\n",
    "\n",
    "    outputs = list()\n",
    "    \n",
    "    for _ in range(n_cases):\n",
    "        case = simulate_case(rng, **case_config)\n",
    "        case_factors = CaseFactors.simulate_from(rng, case, **factor_config)\n",
    "        contacts = simulate_contacts(case, **contacts_config)\n",
    "        res = tti_model(case, contacts, case_factors)\n",
    "        outputs.append(res)\n",
    "\n",
    "    ## Process results\n",
    "    to_show = [\n",
    "        RETURN_KEYS.base_r,\n",
    "        RETURN_KEYS.reduced_r,\n",
    "        RETURN_KEYS.man_trace,\n",
    "        RETURN_KEYS.app_trace,\n",
    "        RETURN_KEYS.tests\n",
    "    ]\n",
    "\n",
    "    nppl = case_config['infection_proportions']['nppl']\n",
    "    scales = [1, 1, nppl, nppl, nppl]\n",
    "\n",
    "    results = pd.DataFrame(outputs).mean(0).loc[to_show].mul(scales)\n",
    "\n",
    "    return results"
   ]
  },
  {
   "cell_type": "markdown",
   "metadata": {},
   "source": [
    "## Random search"
   ]
  },
  {
   "cell_type": "code",
   "execution_count": 129,
   "metadata": {},
   "outputs": [],
   "source": [
    "def effective_R_score(output):\n",
    "    \"\"\" Returns the effective R from a simulation output \"\"\"\n",
    "    return output[\"Effective R\"]\n",
    "\n",
    "def linear_score(output, w_traces, w_tests):\n",
    "    \"\"\" Returns a weighted sum of simulation output metrics \"\"\"\n",
    "    return (output[\"Effective R\"] + \n",
    "        w_traces * output[\"# Manual Traces\"] + \n",
    "        w_tests * output[\"# Tests Needed\"])\n",
    "    "
   ]
  },
  {
   "cell_type": "code",
   "execution_count": 113,
   "metadata": {},
   "outputs": [],
   "source": [
    "BOOLEAN_PARAMS = ['isolate_individual_on_symptoms',  \n",
    "    'isolate_individual_on_positive',  \n",
    "    'isolate_household_on_symptoms',  \n",
    "    'isolate_household_on_positive',  \n",
    "    'isolate_contacts_on_symptoms',  \n",
    "    'isolate_contacts_on_positive',  \n",
    "    'test_contacts_on_positive',  \n",
    "    'do_symptom_testing',  \n",
    "    'do_manual_tracing', \n",
    "    'do_app_tracing']\n",
    "\n",
    "# integer parameters include a range of possible values\n",
    "INTEGER_PARAMS = {'max_contacts':(4, 50),'quarantine_length':(1, 14)}\n",
    "\n",
    "PROB_PARAMS = ['go_to_school_prob','wfh_prob']\n",
    "\n",
    "def random_parameters():\n",
    "    \"\"\" Produces a random policy config. \"\"\"\n",
    "    params = {}\n",
    "    for p in BOOLEAN_PARAMS:\n",
    "        params[p] = bool(random.getrandbits(1))\n",
    "    for p, p_range in INTEGER_PARAMS.items():\n",
    "        params[p] = random.randint(p_range[0], p_range[1])\n",
    "    for p in PROB_PARAMS:\n",
    "        params[p] = random.random() \n",
    "            # can't generate 1., but tht would be unrealistic anyway\n",
    "    return params"
   ]
  },
  {
   "cell_type": "code",
   "execution_count": 123,
   "metadata": {},
   "outputs": [],
   "source": [
    "def random_search(n_iter, log_score=False, n_cases=10000, n_averaging=1, scoring_fun=effective_R_score):\n",
    "    \"\"\"\n",
    "    Performs random search over the space of possible policies\n",
    "    \n",
    "    :param n_iter: number of random policies to be evaluated\n",
    "    :param log_score: if True, it will log each improvement over the current best result.\n",
    "    :param n_cases: number of initial cases\n",
    "    :param n_averaging: number of simulations to be averaged for each policy\n",
    "    :param scoring_fun: defines how to score a policy. Smaller score is better.\n",
    "    \n",
    "    :return: a tuple of: best score, best parameters, log of improvements\n",
    "    \"\"\"\n",
    "    \n",
    "    best_score = math.inf\n",
    "    best_params = {}\n",
    "    log = []\n",
    "    start = time.time()\n",
    "    \n",
    "    for iter in range(n_iter):\n",
    "        params = random_parameters()\n",
    "        score = 0\n",
    "        \n",
    "        for j in range(n_averaging):\n",
    "            output = simulate_policy(params, n_cases)\n",
    "            score += scoring_fun(output)\n",
    "        score /= n_averaging\n",
    "        \n",
    "        if (score < best_score):\n",
    "            best_score = score\n",
    "            best_params = params\n",
    "            if (log_score):\n",
    "                log.append((iter, time.time()-start, score))\n",
    "                \n",
    "    return (best_score, best_params, log)\n",
    "    "
   ]
  },
  {
   "cell_type": "markdown",
   "metadata": {},
   "source": [
    "## Experiments"
   ]
  },
  {
   "cell_type": "code",
   "execution_count": 136,
   "metadata": {},
   "outputs": [],
   "source": [
    "res = random_search(50, log_score=True, n_averaging=2)"
   ]
  },
  {
   "cell_type": "code",
   "execution_count": 137,
   "metadata": {},
   "outputs": [
    {
     "name": "stdout",
     "output_type": "stream",
     "text": [
      "[(0, 7.754250764846802, 1.4472093320149995), (2, 24.262112855911255, 0.9137768850752104), (40, 303.83202266693115, 0.8901002943041791)]\n"
     ]
    },
    {
     "data": {
      "image/png": "[encoded data removed]",
      "text/plain": [
       "<Figure size 432x288 with 1 Axes>"
      ]
     },
     "metadata": {
      "needs_background": "light"
     },
     "output_type": "display_data"
    },
    {
     "data": {
      "image/png": "[encoded data removed]",
      "text/plain": [
       "<Figure size 432x288 with 1 Axes>"
      ]
     },
     "metadata": {
      "needs_background": "light"
     },
     "output_type": "display_data"
    }
   ],
   "source": [
    "log = res[2]\n",
    "print(log)\n",
    "it = [log[i][0] for i in range(len(log))]\n",
    "ts = [log[i][1] for i in range(len(log))]\n",
    "sc = [log[i][2] for i in range(len(log))]\n",
    "plt.plot(it, sc)\n",
    "plt.show()\n",
    "plt.plot(ts, sc)\n",
    "plt.show()"
   ]
  },
  {
   "cell_type": "code",
   "execution_count": 124,
   "metadata": {
    "scrolled": false
   },
   "outputs": [
    {
     "data": {
      "text/plain": [
       "(1.0714940980388443,\n",
       " {'isolate_individual_on_symptoms': True,\n",
       "  'isolate_individual_on_positive': True,\n",
       "  'isolate_household_on_symptoms': True,\n",
       "  'isolate_household_on_positive': False,\n",
       "  'isolate_contacts_on_symptoms': True,\n",
       "  'isolate_contacts_on_positive': False,\n",
       "  'test_contacts_on_positive': True,\n",
       "  'do_symptom_testing': False,\n",
       "  'do_manual_tracing': False,\n",
       "  'do_app_tracing': True,\n",
       "  'max_contacts': 12,\n",
       "  'quarantine_length': 5,\n",
       "  'go_to_school_prob': 0.5748053074363833,\n",
       "  'wfh_prob': 0.9081864687899798},\n",
       " [])"
      ]
     },
     "execution_count": 124,
     "metadata": {},
     "output_type": "execute_result"
    }
   ],
   "source": [
    "random_search(10, log_score=False)"
   ]
  },
  {
   "cell_type": "code",
   "execution_count": 130,
   "metadata": {},
   "outputs": [
    {
     "data": {
      "text/plain": [
       "(2.306719138390192,\n",
       " {'isolate_individual_on_symptoms': True,\n",
       "  'isolate_individual_on_positive': False,\n",
       "  'isolate_household_on_symptoms': True,\n",
       "  'isolate_household_on_positive': False,\n",
       "  'isolate_contacts_on_symptoms': True,\n",
       "  'isolate_contacts_on_positive': True,\n",
       "  'test_contacts_on_positive': False,\n",
       "  'do_symptom_testing': False,\n",
       "  'do_manual_tracing': False,\n",
       "  'do_app_tracing': False,\n",
       "  'max_contacts': 50,\n",
       "  'quarantine_length': 10,\n",
       "  'go_to_school_prob': 0.12377269802635849,\n",
       "  'wfh_prob': 0.8445299323364991},\n",
       " [])"
      ]
     },
     "execution_count": 130,
     "metadata": {},
     "output_type": "execute_result"
    }
   ],
   "source": [
    "fun = (lambda x: linear_score(x, 0.005, 0.0125))\n",
    "\n",
    "random_search(10, log_score=False, scoring_fun=fun)"
   ]
  },
  {
   "cell_type": "markdown",
   "metadata": {},
   "source": [
    "Since no cost to policy is considered, the obvious result will be extremely harsh:"
   ]
  },
  {
   "cell_type": "code",
   "execution_count": 122,
   "metadata": {},
   "outputs": [
    {
     "name": "stdout",
     "output_type": "stream",
     "text": [
      "average: 0.6330139275417823\n",
      "range: 0.5831600161473212 - 0.6742029054716775\n"
     ]
    }
   ],
   "source": [
    "extreme_policy = {'isolate_individual_on_symptoms': False,\n",
    "  'isolate_individual_on_positive': True,\n",
    "  'isolate_household_on_symptoms': True,\n",
    "  'isolate_household_on_positive': True,\n",
    "  'isolate_contacts_on_symptoms': True,\n",
    "  'isolate_contacts_on_positive': True,\n",
    "  'test_contacts_on_positive': True,\n",
    "  'do_symptom_testing': True,\n",
    "  'do_manual_tracing': True,\n",
    "  'do_app_tracing': True,\n",
    "  'max_contacts': 4,\n",
    "  'quarantine_length': 14,\n",
    "  'go_to_school_prob': 0.,\n",
    "  'wfh_prob': 0.9945621884880474}\n",
    "\n",
    "n_iter = 10\n",
    "l = [effective_R_score(simulate_policy(extreme_policy, 10000))\n",
    "     for i in range(n_iter)]\n",
    "print(\"average:\", sum(l)/n_iter)\n",
    "print(\"range:\", min(l), \"-\", max(l))"
   ]
  },
  {
   "cell_type": "markdown",
   "metadata": {},
   "source": [
    "## Parameters"
   ]
  },
  {
   "cell_type": "code",
   "execution_count": null,
   "metadata": {},
   "outputs": [],
   "source": [
    "parameters = {\n",
    "    'isolate_individual_on_symptoms':True,  # Isolate the individual after they present with symptoms\n",
    "    'isolate_individual_on_positive':True,  # Isolate the individual after they test positive\n",
    "    'isolate_household_on_symptoms':False,  # Isolate the household after individual present with symptoms\n",
    "    'isolate_household_on_positive':True,  # Isolate the household after individual test positive\n",
    "    'isolate_contacts_on_symptoms':False,  # Isolate the contacts after individual present with symptoms\n",
    "    'isolate_contacts_on_positive':True,  # Isolate the contacts after individual test positive\n",
    "    'test_contacts_on_positive':False,  # Do we test contacts of a positive case immediately, or wait for them to develop symptoms\n",
    "    'do_symptom_testing':True,  # Test symptomatic individuals\n",
    "    'do_manual_tracing':True,  # Perform manual tracing of contacts\n",
    "    'do_app_tracing':True,  # Perform app tracing of contacts\n",
    "    'max_contacts':23,  # Place a limit on the number of other contacts per day\n",
    "    'quarantine_length':14,  # Length of quarantine imposed on COVID cases (and household)\n",
    "    'go_to_school_prob':1.0,  # Fraction of school children attending school\n",
    "    'wfh_prob':0.0,  # Proportion or the population working from home\n",
    "    }"
   ]
  }
 ],
 "metadata": {
  "kernelspec": {
   "display_name": "Python 3",
   "language": "python",
   "name": "python3"
  },
  "language_info": {
   "codemirror_mode": {
    "name": "ipython",
    "version": 3
   },
   "file_extension": ".py",
   "mimetype": "text/x-python",
   "name": "python",
   "nbconvert_exporter": "python",
   "pygments_lexer": "ipython3",
   "version": "3.8.2"
  }
 },
 "nbformat": 4,
 "nbformat_minor": 4
}
